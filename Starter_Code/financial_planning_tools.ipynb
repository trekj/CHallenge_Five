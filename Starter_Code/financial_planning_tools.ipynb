{
 "cells": [
  {
   "cell_type": "markdown",
   "metadata": {},
   "source": [
    "# Financial Planning with APIs and Simulations\n",
    "\n",
    "In this Challenge, you’ll create two financial analysis tools by using a single Jupyter notebook:\n",
    "\n",
    "Part 1: A financial planner for emergencies. The members will be able to use this tool to visualize their current savings. The members can then determine if they have enough reserves for an emergency fund.\n",
    "\n",
    "Part 2: A financial planner for retirement. This tool will forecast the performance of their retirement portfolio in 30 years. To do this, the tool will make an Alpaca API call via the Alpaca SDK to get historical price data for use in Monte Carlo simulations.\n",
    "\n",
    "You’ll use the information from the Monte Carlo simulation to answer questions about the portfolio in your Jupyter notebook.\n",
    "\n"
   ]
  },
  {
   "cell_type": "code",
   "execution_count": 1,
   "metadata": {},
   "outputs": [],
   "source": [
    "# Import the required libraries and dependencies\n",
    "import os\n",
    "import requests\n",
    "import json\n",
    "import pandas as pd\n",
    "from dotenv import load_dotenv\n",
    "import alpaca_trade_api as tradeapi\n",
    "from MCForecastTools import MCSimulation\n",
    "\n",
    "%matplotlib inline"
   ]
  },
  {
   "cell_type": "code",
   "execution_count": 2,
   "metadata": {},
   "outputs": [
    {
     "data": {
      "text/plain": [
       "True"
      ]
     },
     "execution_count": 2,
     "metadata": {},
     "output_type": "execute_result"
    }
   ],
   "source": [
    "# Load the environment variables from the .env file\n",
    "#by calling the load_dotenv function\n",
    "load_dotenv()"
   ]
  },
  {
   "cell_type": "markdown",
   "metadata": {},
   "source": [
    "## Part 1: Create a Financial Planner for Emergencies"
   ]
  },
  {
   "cell_type": "markdown",
   "metadata": {},
   "source": [
    "### Evaluate the Cryptocurrency Wallet by Using the Requests Library\n",
    "\n",
    "In this section, you’ll determine the current value of a member’s cryptocurrency wallet. You’ll collect the current prices for the Bitcoin and Ethereum cryptocurrencies by using the Python Requests library. For the prototype, you’ll assume that the member holds the 1.2 Bitcoins (BTC) and 5.3 Ethereum coins (ETH). To do all this, complete the following steps:\n",
    "\n",
    "1. Create a variable named `monthly_income`, and set its value to `12000`.\n",
    "\n",
    "2. Use the Requests library to get the current price (in US dollars) of Bitcoin (BTC) and Ethereum (ETH) by using the API endpoints that the starter code supplies.\n",
    "\n",
    "3. Navigate the JSON response object to access the current price of each coin, and store each in a variable.\n",
    "\n",
    "    > **Hint** Note the specific identifier for each cryptocurrency in the API JSON response. The Bitcoin identifier is `1`, and the Ethereum identifier is `1027`.\n",
    "\n",
    "4. Calculate the value, in US dollars, of the current amount of each cryptocurrency and of the entire cryptocurrency wallet.\n",
    "\n"
   ]
  },
  {
   "cell_type": "code",
   "execution_count": 3,
   "metadata": {},
   "outputs": [],
   "source": [
    "# The current number of coins for each cryptocurrency asset held in the portfolio.\n",
    "btc_coins = 1.2\n",
    "eth_coins = 5.3"
   ]
  },
  {
   "cell_type": "markdown",
   "metadata": {},
   "source": [
    "#### Step 1: Create a variable named `monthly_income`, and set its value to `12000`."
   ]
  },
  {
   "cell_type": "code",
   "execution_count": 4,
   "metadata": {},
   "outputs": [],
   "source": [
    "# The monthly amount for the member's household income\n",
    "# YOUR CODE HERE\n",
    "monthly_income = 12000\n"
   ]
  },
  {
   "cell_type": "markdown",
   "metadata": {},
   "source": [
    "#### Review the endpoint URLs for the API calls to Free Crypto API in order to get the current pricing information for both BTC and ETH."
   ]
  },
  {
   "cell_type": "code",
   "execution_count": 5,
   "metadata": {},
   "outputs": [],
   "source": [
    "# The Free Crypto API Call endpoint URLs for the held cryptocurrency assets\n",
    "btc_url = \"https://api.alternative.me/v2/ticker/Bitcoin/?convert=USD\"\n",
    "eth_url = \"https://api.alternative.me/v2/ticker/Ethereum/?convert=USD\""
   ]
  },
  {
   "cell_type": "markdown",
   "metadata": {},
   "source": [
    "#### Step 2. Use the Requests library to get the current price (in US dollars) of Bitcoin (BTC) and Ethereum (ETH) by using the API endpoints that the starter code supplied."
   ]
  },
  {
   "cell_type": "code",
   "execution_count": 6,
   "metadata": {},
   "outputs": [
    {
     "name": "stdout",
     "output_type": "stream",
     "text": [
      "{\n",
      "    \"data\": {\n",
      "        \"1\": {\n",
      "            \"circulating_supply\": 18949500,\n",
      "            \"id\": 1,\n",
      "            \"last_updated\": 1644076382,\n",
      "            \"max_supply\": 21000000,\n",
      "            \"name\": \"Bitcoin\",\n",
      "            \"quotes\": {\n",
      "                \"USD\": {\n",
      "                    \"market_cap\": 794570534942,\n",
      "                    \"percent_change_1h\": 0.747460846044208,\n",
      "                    \"percent_change_24h\": 5.84999255433415,\n",
      "                    \"percent_change_7d\": 10.6433333486874,\n",
      "                    \"percentage_change_1h\": 0.747460846044208,\n",
      "                    \"percentage_change_24h\": 5.84999255433415,\n",
      "                    \"percentage_change_7d\": 10.6433333486874,\n",
      "                    \"price\": 41881.0,\n",
      "                    \"volume_24h\": 21429922845\n",
      "                }\n",
      "            },\n",
      "            \"rank\": 1,\n",
      "            \"symbol\": \"BTC\",\n",
      "            \"total_supply\": 18949500,\n",
      "            \"website_slug\": \"bitcoin\"\n",
      "        }\n",
      "    },\n",
      "    \"metadata\": {\n",
      "        \"error\": null,\n",
      "        \"num_cryptocurrencies\": 3105,\n",
      "        \"timestamp\": 1644076382\n",
      "    }\n",
      "}\n"
     ]
    }
   ],
   "source": [
    "# Using the Python requests library, make an API call to access the current price of BTC\n",
    "# YOUR CODE HERE\n",
    "btc_response = requests.get(btc_url).json()\n",
    "# Use the json.dumps function to review the response data from the API call\n",
    "# Use the indent and sort_keys parameters to make the response object readable\n",
    "# YOUR CODE HERE\n",
    "print(json.dumps(btc_response, indent=4, sort_keys=True))"
   ]
  },
  {
   "cell_type": "code",
   "execution_count": 7,
   "metadata": {},
   "outputs": [
    {
     "name": "stdout",
     "output_type": "stream",
     "text": [
      "{\n",
      "    \"data\": {\n",
      "        \"1027\": {\n",
      "            \"circulating_supply\": 119456608,\n",
      "            \"id\": 1027,\n",
      "            \"last_updated\": 1644076384,\n",
      "            \"max_supply\": 0,\n",
      "            \"name\": \"Ethereum\",\n",
      "            \"quotes\": {\n",
      "                \"USD\": {\n",
      "                    \"market_cap\": 365671787174,\n",
      "                    \"percent_change_1h\": 1.09070282671576,\n",
      "                    \"percent_change_24h\": 6.17017434415558,\n",
      "                    \"percent_change_7d\": 19.8711908918283,\n",
      "                    \"percentage_change_1h\": 1.09070282671576,\n",
      "                    \"percentage_change_24h\": 6.17017434415558,\n",
      "                    \"percentage_change_7d\": 19.8711908918283,\n",
      "                    \"price\": 3058.05,\n",
      "                    \"volume_24h\": 14937427031\n",
      "                }\n",
      "            },\n",
      "            \"rank\": 2,\n",
      "            \"symbol\": \"ETH\",\n",
      "            \"total_supply\": 119456608,\n",
      "            \"website_slug\": \"ethereum\"\n",
      "        }\n",
      "    },\n",
      "    \"metadata\": {\n",
      "        \"error\": null,\n",
      "        \"num_cryptocurrencies\": 3105,\n",
      "        \"timestamp\": 1644076384\n",
      "    }\n",
      "}\n"
     ]
    }
   ],
   "source": [
    "# Using the Python requests library, make an API call to access the current price ETH\n",
    "# YOUR CODE HERE\n",
    "eth_response =  requests.get(eth_url).json()\n",
    "# Use the json.dumps function to review the response data from the API call\n",
    "# Use the indent and sort_keys parameters to make the response object readable\n",
    "# YOUR CODE HERE\n",
    "print(json.dumps(eth_response, indent=4, sort_keys=True))\n"
   ]
  },
  {
   "cell_type": "markdown",
   "metadata": {},
   "source": [
    "#### Step 3: Navigate the JSON response object to access the current price of each coin, and store each in a variable."
   ]
  },
  {
   "cell_type": "code",
   "execution_count": 8,
   "metadata": {},
   "outputs": [
    {
     "name": "stdout",
     "output_type": "stream",
     "text": [
      "The price for BTC is $41881.0\n"
     ]
    }
   ],
   "source": [
    "# Navigate the BTC response object to access the current price of BTC\n",
    "# YOUR CODE HERE\n",
    "btc_price = btc_response[\"data\"][\"1\"][\"quotes\"][\"USD\"][\"price\"]\n",
    "#symbol\n",
    "#btc_symbol = btc_response[\"data\"][\"1\"][\"symbol\"]\n",
    "#print(btc_symbol)\n",
    "\n",
    "# Print the current price of BTC\n",
    "# YOUR CODE HERE\n",
    "print(f\"The price for BTC is ${btc_price}\")"
   ]
  },
  {
   "cell_type": "code",
   "execution_count": 9,
   "metadata": {},
   "outputs": [
    {
     "name": "stdout",
     "output_type": "stream",
     "text": [
      "The price for ETH is $3058.05\n"
     ]
    }
   ],
   "source": [
    "# Navigate the BTC response object to access the current price of ETH\n",
    "eth_price = eth_response[\"data\"][\"1027\"][\"quotes\"][\"USD\"][\"price\"]\n",
    "\n",
    "# Print the current price of ETH\n",
    "# YOUR CODE HERE\n",
    "print(f\"The price for ETH is ${eth_price}\")"
   ]
  },
  {
   "cell_type": "markdown",
   "metadata": {},
   "source": [
    "### Step 4: Calculate the value, in US dollars, of the current amount of each cryptocurrency and of the entire cryptocurrency wallet."
   ]
  },
  {
   "cell_type": "code",
   "execution_count": 10,
   "metadata": {},
   "outputs": [
    {
     "name": "stdout",
     "output_type": "stream",
     "text": [
      " The total value for BTC is $50257.2\n"
     ]
    }
   ],
   "source": [
    "# Compute the current value of the BTC holding \n",
    "btc_value = btc_price * 1.2\n",
    "# YOUR CODE HERE\n",
    "\n",
    "# Print current value of your holding in BTC\n",
    "# YOUR CODE HERE\n",
    "print(f\" The total value for BTC is ${btc_value}\")"
   ]
  },
  {
   "cell_type": "code",
   "execution_count": 11,
   "metadata": {},
   "outputs": [
    {
     "name": "stdout",
     "output_type": "stream",
     "text": [
      "The total value for ETH is $16207.665\n"
     ]
    }
   ],
   "source": [
    "# Compute the current value of the ETH holding \n",
    "eth_value = eth_price *5.3 # YOUR CODE HERE\n",
    "\n",
    "# Print current value of your holding in ETH\n",
    "# YOUR CODE HERE\n",
    "print(f\"The total value for ETH is ${eth_value}\")"
   ]
  },
  {
   "cell_type": "code",
   "execution_count": 12,
   "metadata": {},
   "outputs": [
    {
     "name": "stdout",
     "output_type": "stream",
     "text": [
      "The total crypocurrency wallet balance is $66464.86499999999\n"
     ]
    }
   ],
   "source": [
    "# Compute the total value of the cryptocurrency wallet\n",
    "# Add the value of the BTC holding to the value of the ETH holding\n",
    "total_crypto_wallet =btc_value + eth_value  # YOUR CODE HERE\n",
    "\n",
    "# Print current cryptocurrency wallet balance\n",
    "# YOUR CODE HERE\n",
    "print(f\"The total crypocurrency wallet balance is ${total_crypto_wallet}\")"
   ]
  },
  {
   "cell_type": "markdown",
   "metadata": {},
   "source": [
    "### Evaluate the Stock and Bond Holdings by Using the Alpaca SDK\n",
    "\n",
    "In this section, you’ll determine the current value of a member’s stock and bond holdings. You’ll make an API call to Alpaca via the Alpaca SDK to get the current closing prices of the SPDR S&P 500 ETF Trust (ticker: SPY) and of the iShares Core US Aggregate Bond ETF (ticker: AGG). For the prototype, assume that the member holds 110 shares of SPY, which represents the stock portion of their portfolio, and 200 shares of AGG, which represents the bond portion. To do all this, complete the following steps:\n",
    "\n",
    "1. In the `Starter_Code` folder, create an environment file (`.env`) to store the values of your Alpaca API key and Alpaca secret key.\n",
    "\n",
    "2. Set the variables for the Alpaca API and secret keys. Using the Alpaca SDK, create the Alpaca `tradeapi.REST` object. In this object, include the parameters for the Alpaca API key, the secret key, and the version number.\n",
    "\n",
    "3. Set the following parameters for the Alpaca API call:\n",
    "\n",
    "    - `tickers`: Use the tickers for the member’s stock and bond holdings.\n",
    "\n",
    "    - `timeframe`: Use a time frame of one day.\n",
    "\n",
    "    - `start_date` and `end_date`: Use the same date for these parameters, and format them with the date of the previous weekday (or `2020-08-07`). This is because you want the one closing price for the most-recent trading day.\n",
    "\n",
    "4. Get the current closing prices for `SPY` and `AGG` by using the Alpaca `get_barset` function. Format the response as a Pandas DataFrame by including the `df` property at the end of the `get_barset` function.\n",
    "\n",
    "5. Navigating the Alpaca response DataFrame, select the `SPY` and `AGG` closing prices, and store them as variables.\n",
    "\n",
    "6. Calculate the value, in US dollars, of the current amount of shares in each of the stock and bond portions of the portfolio, and print the results.\n"
   ]
  },
  {
   "cell_type": "markdown",
   "metadata": {},
   "source": [
    "#### Review the total number of shares held in both (SPY) and (AGG)."
   ]
  },
  {
   "cell_type": "code",
   "execution_count": 13,
   "metadata": {},
   "outputs": [],
   "source": [
    "# Current amount of shares held in both the stock (SPY) and bond (AGG) portion of the portfolio.\n",
    "spy_shares = 110\n",
    "agg_shares = 200\n"
   ]
  },
  {
   "cell_type": "markdown",
   "metadata": {},
   "source": [
    "#### Step 1: In the `Starter_Code` folder, create an environment file (`.env`) to store the values of your Alpaca API key and Alpaca secret key."
   ]
  },
  {
   "cell_type": "markdown",
   "metadata": {},
   "source": [
    "#### Step 2: Set the variables for the Alpaca API and secret keys. Using the Alpaca SDK, create the Alpaca `tradeapi.REST` object. In this object, include the parameters for the Alpaca API key, the secret key, and the version number."
   ]
  },
  {
   "cell_type": "code",
   "execution_count": 14,
   "metadata": {},
   "outputs": [],
   "source": [
    "# Set the variables for the Alpaca API and secret keys\n",
    "# YOUR CODE HERE\n",
    "# YOUR CODE HERE\n",
    "alpaca_api_key = os.getenv(\"ALPACA_API_KEY\")\n",
    "alpaca_secret_key = os.getenv(\"ALPACA_SECRET_KEY\")\n",
    "alpaca_api_key \n",
    "alpaca_secret_key \n",
    "# Create the Alpaca tradeapi.REST object\n",
    "# YOUR CODE HERE\n",
    "alpaca = tradeapi.REST(\n",
    "    alpaca_api_key,\n",
    "    alpaca_secret_key,\n",
    "    api_version=\"v2\")"
   ]
  },
  {
   "cell_type": "markdown",
   "metadata": {},
   "source": [
    "#### Step 3: Set the following parameters for the Alpaca API call:\n",
    "\n",
    "- `tickers`: Use the tickers for the member’s stock and bond holdings.\n",
    "\n",
    "- `timeframe`: Use a time frame of one day.\n",
    "\n",
    "- `start_date` and `end_date`: Use the same date for these parameters, and format them with the date of the previous weekday (or `2020-08-07`). This is because you want the one closing price for the most-recent trading day.\n"
   ]
  },
  {
   "cell_type": "code",
   "execution_count": 15,
   "metadata": {},
   "outputs": [],
   "source": [
    "# Set the tickers for both the bond and stock portion of the portfolio\n",
    "# YOUR CODE HERE\n",
    "tickers = [\"AGG\", \"SPY\"]\n",
    "# Set timeframe to 1D \n",
    "# YOUR CODE HERE\n",
    "timeframe = \"1D\"\n",
    "\n",
    "# Format current date as ISO format\n",
    "# Set both the start and end date at the date of your prior weekday \n",
    "# This will give you the closing price of the previous trading day\n",
    "# Alternatively you can use a start and end date of 2020-08-07\n",
    "start_date = pd.Timestamp(\"2022-02-04\", tz=\"America/New_York\").isoformat()\n",
    "end_date = pd.Timestamp(\"2022-02-04\", tz=\"America/New_York\").isoformat()\n"
   ]
  },
  {
   "cell_type": "markdown",
   "metadata": {},
   "source": [
    "#### Step 4: Get the current closing prices for `SPY` and `AGG` by using the Alpaca `get_barset` function. Format the response as a Pandas DataFrame by including the `df` property at the end of the `get_barset` function."
   ]
  },
  {
   "cell_type": "code",
   "execution_count": 16,
   "metadata": {},
   "outputs": [
    {
     "name": "stderr",
     "output_type": "stream",
     "text": [
      "<ipython-input-16-7b9df3626364>:4: DeprecatedWarning: get_barset is deprecated as of v1.0.0. Use get_bars instead\n",
      "  prices_df = alpaca.get_barset(\n"
     ]
    },
    {
     "data": {
      "text/html": [
       "<div>\n",
       "<style scoped>\n",
       "    .dataframe tbody tr th:only-of-type {\n",
       "        vertical-align: middle;\n",
       "    }\n",
       "\n",
       "    .dataframe tbody tr th {\n",
       "        vertical-align: top;\n",
       "    }\n",
       "\n",
       "    .dataframe thead tr th {\n",
       "        text-align: left;\n",
       "    }\n",
       "\n",
       "    .dataframe thead tr:last-of-type th {\n",
       "        text-align: right;\n",
       "    }\n",
       "</style>\n",
       "<table border=\"1\" class=\"dataframe\">\n",
       "  <thead>\n",
       "    <tr>\n",
       "      <th></th>\n",
       "      <th colspan=\"5\" halign=\"left\">AGG</th>\n",
       "      <th colspan=\"5\" halign=\"left\">SPY</th>\n",
       "    </tr>\n",
       "    <tr>\n",
       "      <th></th>\n",
       "      <th>open</th>\n",
       "      <th>high</th>\n",
       "      <th>low</th>\n",
       "      <th>close</th>\n",
       "      <th>volume</th>\n",
       "      <th>open</th>\n",
       "      <th>high</th>\n",
       "      <th>low</th>\n",
       "      <th>close</th>\n",
       "      <th>volume</th>\n",
       "    </tr>\n",
       "    <tr>\n",
       "      <th>time</th>\n",
       "      <th></th>\n",
       "      <th></th>\n",
       "      <th></th>\n",
       "      <th></th>\n",
       "      <th></th>\n",
       "      <th></th>\n",
       "      <th></th>\n",
       "      <th></th>\n",
       "      <th></th>\n",
       "      <th></th>\n",
       "    </tr>\n",
       "  </thead>\n",
       "  <tbody>\n",
       "    <tr>\n",
       "      <th>2022-02-04 00:00:00-05:00</th>\n",
       "      <td>110.75</td>\n",
       "      <td>110.75</td>\n",
       "      <td>110.4707</td>\n",
       "      <td>110.56</td>\n",
       "      <td>6762828</td>\n",
       "      <td>446.35</td>\n",
       "      <td>452.78</td>\n",
       "      <td>443.83</td>\n",
       "      <td>448.73</td>\n",
       "      <td>98775229</td>\n",
       "    </tr>\n",
       "  </tbody>\n",
       "</table>\n",
       "</div>"
      ],
      "text/plain": [
       "                              AGG                                        SPY  \\\n",
       "                             open    high       low   close   volume    open   \n",
       "time                                                                           \n",
       "2022-02-04 00:00:00-05:00  110.75  110.75  110.4707  110.56  6762828  446.35   \n",
       "\n",
       "                                                             \n",
       "                             high     low   close    volume  \n",
       "time                                                         \n",
       "2022-02-04 00:00:00-05:00  452.78  443.83  448.73  98775229  "
      ]
     },
     "execution_count": 16,
     "metadata": {},
     "output_type": "execute_result"
    }
   ],
   "source": [
    "# Use the Alpaca get_barset function to get current closing prices the portfolio\n",
    "# Be sure to set the `df` property after the function to format the response object as a DataFrame\n",
    "# YOUR CODE HERE\n",
    "prices_df = alpaca.get_barset(\n",
    "    tickers,\n",
    "    timeframe,\n",
    "    start=start_date,\n",
    "    end=end_date,\n",
    "    limit=None\n",
    ").df\n",
    "\n",
    "# Review the first 5 rows of the Alpaca DataFrame\n",
    "# YOUR CODE HERE\n",
    "prices_df.head()"
   ]
  },
  {
   "cell_type": "markdown",
   "metadata": {},
   "source": [
    "#### Step 5: Navigating the Alpaca response DataFrame, select the `SPY` and `AGG` closing prices, and store them as variables."
   ]
  },
  {
   "cell_type": "code",
   "execution_count": 17,
   "metadata": {},
   "outputs": [
    {
     "name": "stdout",
     "output_type": "stream",
     "text": [
      " The AGG close price is $110.56\n"
     ]
    }
   ],
   "source": [
    "# Access the closing price for AGG from the Alpaca DataFrame\n",
    "# Converting the value to a floating point number\n",
    "agg_close_price = float(prices_df[\"AGG\"][\"close\"])\n",
    "\n",
    "# Print the AGG closing price\n",
    "# YOUR CODE HERE\n",
    "print(f\" The AGG close price is ${agg_close_price}\")"
   ]
  },
  {
   "cell_type": "code",
   "execution_count": 18,
   "metadata": {},
   "outputs": [
    {
     "name": "stdout",
     "output_type": "stream",
     "text": [
      "The SPY close price is $448.73\n"
     ]
    }
   ],
   "source": [
    "# Access the closing price for SPY from the Alpaca DataFrame\n",
    "# Converting the value to a floating point number\n",
    "spy_close_price = float(prices_df[\"SPY\"][\"close\"])\n",
    "\n",
    "# Print the SPY closing price\n",
    "# YOUR CODE HERE\n",
    "print(f\"The SPY close price is ${spy_close_price}\")"
   ]
  },
  {
   "cell_type": "markdown",
   "metadata": {},
   "source": [
    "#### Step 6: Calculate the value, in US dollars, of the current amount of shares in each of the stock and bond portions of the portfolio, and print the results."
   ]
  },
  {
   "cell_type": "code",
   "execution_count": 19,
   "metadata": {},
   "outputs": [
    {
     "name": "stdout",
     "output_type": "stream",
     "text": [
      "The current value of the bond(AGG) portfolio is $22112.0\n"
     ]
    }
   ],
   "source": [
    "# Calculate the current value of the bond portion of the portfolio\n",
    " # YOUR CODE HERE\n",
    "agg_value = agg_shares * agg_close_price\n",
    "# Print the current value of the bond portfolio\n",
    "# YOUR CODE HERE\n",
    "print(f\"The current value of the bond(AGG) portfolio is ${agg_value}\")"
   ]
  },
  {
   "cell_type": "code",
   "execution_count": 20,
   "metadata": {},
   "outputs": [
    {
     "name": "stdout",
     "output_type": "stream",
     "text": [
      "The current value of the stock (SPY) portfolio is $49360.3\n"
     ]
    }
   ],
   "source": [
    "# Calculate the current value of the stock portion of the portfolio\n",
    "# YOUR CODE HERE\n",
    "spy_value = spy_shares * spy_close_price\n",
    "\n",
    "# Print the current value of the stock portfolio\n",
    "# YOUR CODE HERE\n",
    "print(f\"The current value of the stock (SPY) portfolio is ${spy_value}\")"
   ]
  },
  {
   "cell_type": "code",
   "execution_count": 21,
   "metadata": {},
   "outputs": [
    {
     "name": "stdout",
     "output_type": "stream",
     "text": [
      "The total value of stocks and bonds is $71472.3\n"
     ]
    }
   ],
   "source": [
    "# Calculate the total value of the stock and bond portion of the portfolio\n",
    "# YOUR CODE HERE\n",
    "total_stocks_bonds_value = agg_value + spy_value\n",
    "total_stocks_bonds_value\n",
    "# Print the current balance of the stock and bond portion of the portfolio\n",
    "# YOUR CODE HERE\n",
    "print(f\"The total value of stocks and bonds is ${total_stocks_bonds_value}\")"
   ]
  },
  {
   "cell_type": "code",
   "execution_count": 22,
   "metadata": {},
   "outputs": [
    {
     "name": "stdout",
     "output_type": "stream",
     "text": [
      " The current total portfolio balance is $137937.16499999998\n"
     ]
    }
   ],
   "source": [
    "# Calculate the total value of the member's entire savings portfolio\n",
    "# Add the value of the cryptocurrency walled to the value of the total stocks and bonds\n",
    "# YOUR CODE HERE\n",
    "total_portfolio_value = total_stocks_bonds_value + total_crypto_wallet\n",
    "\n",
    "# Print current cryptocurrency wallet balance\n",
    "# YOUR CODE HERE\n",
    "print(f\" The current total portfolio balance is ${total_portfolio_value}\") # I am assuming this what is being asked and not the current cryptocurrency wallet balance that has been provided already in [12]\n"
   ]
  },
  {
   "cell_type": "markdown",
   "metadata": {},
   "source": [
    "### Evaluate the Emergency Fund\n",
    "\n",
    "In this section, you’ll use the valuations for the cryptocurrency wallet and for the stock and bond portions of the portfolio to determine if the credit union member has enough savings to build an emergency fund into their financial plan. To do this, complete the following steps:\n",
    "\n",
    "1. Create a Python list named `savings_data` that has two elements. The first element contains the total value of the cryptocurrency wallet. The second element contains the total value of the stock and bond portions of the portfolio.\n",
    "\n",
    "2. Use the `savings_data` list to create a Pandas DataFrame named `savings_df`, and then display this DataFrame. The function to create the DataFrame should take the following three parameters:\n",
    "\n",
    "    - `savings_data`: Use the list that you just created.\n",
    "\n",
    "    - `columns`: Set this parameter equal to a Python list with a single value called `amount`.\n",
    "\n",
    "    - `index`: Set this parameter equal to a Python list with the values of `crypto` and `stock/bond`.\n",
    "\n",
    "3. Use the `savings_df` DataFrame to plot a pie chart that visualizes the composition of the member’s portfolio. The y-axis of the pie chart uses `amount`. Be sure to add a title.\n",
    "\n",
    "4. Using Python, determine if the current portfolio has enough to create an emergency fund as part of the member’s financial plan. Ideally, an emergency fund should equal to three times the member’s monthly income. To do this, implement the following steps:\n",
    "\n",
    "    1. Create a variable named `emergency_fund_value`, and set it equal to three times the value of the member’s `monthly_income` of $12000. (You set this earlier in Part 1).\n",
    "\n",
    "    2. Create a series of three if statements to determine if the member’s total portfolio is large enough to fund the emergency portfolio:\n",
    "\n",
    "        1. If the total portfolio value is greater than the emergency fund value, display a message congratulating the member for having enough money in this fund.\n",
    "\n",
    "        2. Else if the total portfolio value is equal to the emergency fund value, display a message congratulating the member on reaching this important financial goal.\n",
    "\n",
    "        3. Else the total portfolio is less than the emergency fund value, so display a message showing how many dollars away the member is from reaching the goal. (Subtract the total portfolio value from the emergency fund value.)\n"
   ]
  },
  {
   "cell_type": "markdown",
   "metadata": {},
   "source": [
    "#### Step 1: Create a Python list named `savings_data` that has two elements. The first element contains the total value of the cryptocurrency wallet. The second element contains the total value of the stock and bond portions of the portfolio."
   ]
  },
  {
   "cell_type": "code",
   "execution_count": 23,
   "metadata": {},
   "outputs": [
    {
     "data": {
      "text/plain": [
       "[66464.86499999999, 71472.3]"
      ]
     },
     "execution_count": 23,
     "metadata": {},
     "output_type": "execute_result"
    }
   ],
   "source": [
    "# Consolidate financial assets data into a Python list\n",
    "# YOUR CODE HERE\n",
    "savings_data = [total_crypto_wallet, total_stocks_bonds_value]\n",
    "\n",
    "# Review the Python list savings_data\n",
    "# YOUR CODE HERE\n",
    "savings_data"
   ]
  },
  {
   "cell_type": "markdown",
   "metadata": {},
   "source": [
    "#### Step 2: Use the `savings_data` list to create a Pandas DataFrame named `savings_df`, and then display this DataFrame. The function to create the DataFrame should take the following three parameters:\n",
    "\n",
    "- `savings_data`: Use the list that you just created.\n",
    "\n",
    "- `columns`: Set this parameter equal to a Python list with a single value called `amount`.\n",
    "\n",
    "- `index`: Set this parameter equal to a Python list with the values of `crypto` and `stock/bond`.\n"
   ]
  },
  {
   "cell_type": "code",
   "execution_count": 24,
   "metadata": {},
   "outputs": [
    {
     "data": {
      "text/html": [
       "<div>\n",
       "<style scoped>\n",
       "    .dataframe tbody tr th:only-of-type {\n",
       "        vertical-align: middle;\n",
       "    }\n",
       "\n",
       "    .dataframe tbody tr th {\n",
       "        vertical-align: top;\n",
       "    }\n",
       "\n",
       "    .dataframe thead th {\n",
       "        text-align: right;\n",
       "    }\n",
       "</style>\n",
       "<table border=\"1\" class=\"dataframe\">\n",
       "  <thead>\n",
       "    <tr style=\"text-align: right;\">\n",
       "      <th></th>\n",
       "      <th>amount</th>\n",
       "    </tr>\n",
       "  </thead>\n",
       "  <tbody>\n",
       "    <tr>\n",
       "      <th>crypto</th>\n",
       "      <td>66464.865</td>\n",
       "    </tr>\n",
       "    <tr>\n",
       "      <th>stock/bond</th>\n",
       "      <td>71472.300</td>\n",
       "    </tr>\n",
       "  </tbody>\n",
       "</table>\n",
       "</div>"
      ],
      "text/plain": [
       "               amount\n",
       "crypto      66464.865\n",
       "stock/bond  71472.300"
      ]
     },
     "execution_count": 24,
     "metadata": {},
     "output_type": "execute_result"
    }
   ],
   "source": [
    "# Create a Pandas DataFrame called savings_df \n",
    "# YOUR CODE HERE\n",
    "#columns = [\"amount\"]\n",
    "#index = [\"crypto\", \"stock/bond\"]\n",
    "savings_df = pd.DataFrame(savings_data, index=(\"crypto\", \"stock/bond\"), columns=[\"amount\"])\n",
    "\n",
    "# Display the savings_df DataFrame\n",
    "# YOUR CODE HERE\n",
    "savings_df\n"
   ]
  },
  {
   "cell_type": "markdown",
   "metadata": {},
   "source": [
    "#### Step 3: Use the `savings_df` DataFrame to plot a pie chart that visualizes the composition of the member’s portfolio. The y-axis of the pie chart uses `amount`. Be sure to add a title."
   ]
  },
  {
   "cell_type": "code",
   "execution_count": 25,
   "metadata": {},
   "outputs": [
    {
     "data": {
      "text/plain": [
       "<AxesSubplot:title={'center':'Pie Chart of the Total Portfolio'}, ylabel='amount'>"
      ]
     },
     "execution_count": 25,
     "metadata": {},
     "output_type": "execute_result"
    },
    {
     "data": {
      "image/png": "[encoded data removed]",
      "text/plain": [
       "<Figure size 432x288 with 1 Axes>"
      ]
     },
     "metadata": {},
     "output_type": "display_data"
    }
   ],
   "source": [
    "# Plot the total value of the member's portfolio (crypto and stock/bond) in a pie chart\n",
    "# YOUR CODE HERE\n",
    "savings_df.plot.pie(y='amount', title=\"Pie Chart of the Total Portfolio\")\n"
   ]
  },
  {
   "cell_type": "markdown",
   "metadata": {},
   "source": [
    "#### Step 4: Using Python, determine if the current portfolio has enough to create an emergency fund as part of the member’s financial plan. Ideally, an emergency fund should equal to three times the member’s monthly income. To do this, implement the following steps:\n",
    "\n",
    "Step 1. Create a variable named `emergency_fund_value`, and set it equal to three times the value of the member’s `monthly_income` of 12000. (You set this earlier in Part 1).\n",
    "\n",
    "Step 2. Create a series of three if statements to determine if the member’s total portfolio is large enough to fund the emergency portfolio:\n",
    "\n",
    "* If the total portfolio value is greater than the emergency fund value, display a message congratulating the member for having enough money in this fund.\n",
    "\n",
    "* Else if the total portfolio value is equal to the emergency fund value, display a message congratulating the member on reaching this important financial goal.\n",
    "\n",
    "* Else the total portfolio is less than the emergency fund value, so display a message showing how many dollars away the member is from reaching the goal. (Subtract the total portfolio value from the emergency fund value.)\n"
   ]
  },
  {
   "cell_type": "markdown",
   "metadata": {},
   "source": [
    "##### Step 4-1: Create a variable named `emergency_fund_value`, and set it equal to three times the value of the member’s `monthly_income` of 12000. (You set this earlier in Part 1)."
   ]
  },
  {
   "cell_type": "code",
   "execution_count": 26,
   "metadata": {},
   "outputs": [
    {
     "data": {
      "text/plain": [
       "36000"
      ]
     },
     "execution_count": 26,
     "metadata": {},
     "output_type": "execute_result"
    }
   ],
   "source": [
    "# Create a variable named emergency_fund_value\n",
    "# YOUR CODE HERE\n",
    "emergency_fund_value = monthly_income * 3\n",
    "\n",
    "emergency_fund_value"
   ]
  },
  {
   "cell_type": "markdown",
   "metadata": {},
   "source": [
    "##### Step 4-2: Create a series of three if statements to determine if the member’s total portfolio is large enough to fund the emergency portfolio:\n",
    "\n",
    "* If the total portfolio value is greater than the emergency fund value, display a message congratulating the member for having enough money in this fund.\n",
    "\n",
    "* Else if the total portfolio value is equal to the emergency fund value, display a message congratulating the member on reaching this important financial goal.\n",
    "\n",
    "* Else the total portfolio is less than the emergency fund value, so display a message showing how many dollars away the member is from reaching the goal. (Subtract the total portfolio value from the emergency fund value.)"
   ]
  },
  {
   "cell_type": "code",
   "execution_count": 27,
   "metadata": {},
   "outputs": [
    {
     "name": "stdout",
     "output_type": "stream",
     "text": [
      "Congratulations, you have enough money to cover for your emergency fund\n"
     ]
    }
   ],
   "source": [
    "# Evaluate the possibility of creating an emergency fund with 3 conditions:\n",
    "# YOUR CODE HERE\n",
    "if total_portfolio_value > emergency_fund_value:\n",
    "    print(f\"Congratulations, you have enough money to cover for your emergency fund\")\n",
    "# YOUR CODE HERE\n",
    "elif total_portfolio_value == emergency_fund_value:\n",
    "    print(f\"Congratualations, you just reached your goal on covering your emergency fund\")\n",
    "else: \n",
    "    amount_needed = emergency_fund_value - total_portfolio_value \n",
    "    print(f\"You are ${amount_needed} away from reaching your goal on covering your emergency fund\")\n",
    " "
   ]
  },
  {
   "cell_type": "markdown",
   "metadata": {},
   "source": [
    "## Part 2: Create a Financial Planner for Retirement"
   ]
  },
  {
   "cell_type": "markdown",
   "metadata": {},
   "source": [
    "### Create the Monte Carlo Simulation\n",
    "\n",
    "In this section, you’ll use the MCForecastTools library to create a Monte Carlo simulation for the member’s savings portfolio. To do this, complete the following steps:\n",
    "\n",
    "1. Make an API call via the Alpaca SDK to get 3 years of historical closing prices for a traditional 60/40 portfolio split: 60% stocks (SPY) and 40% bonds (AGG).\n",
    "\n",
    "2. Run a Monte Carlo simulation of 500 samples and 30 years for the 60/40 portfolio, and then plot the results.The following image shows the overlay line plot resulting from a simulation with these characteristics. However, because a random number generator is used to run each live Monte Carlo simulation, your image will differ slightly from this exact image:\n",
    "\n",
    "![A screenshot depicts the resulting plot.](Images/5-4-monte-carlo-line-plot.png)\n",
    "\n",
    "3. Plot the probability distribution of the Monte Carlo simulation. Plot the probability distribution of the Monte Carlo simulation. The following image shows the histogram plot resulting from a simulation with these characteristics. However, because a random number generator is used to run each live Monte Carlo simulation, your image will differ slightly from this exact image:\n",
    "\n",
    "![A screenshot depicts the histogram plot.](Images/5-4-monte-carlo-histogram.png)\n",
    "\n",
    "4. Generate the summary statistics for the Monte Carlo simulation.\n",
    "\n"
   ]
  },
  {
   "cell_type": "markdown",
   "metadata": {},
   "source": [
    "#### Step 1: Make an API call via the Alpaca SDK to get 3 years of historical closing prices for a traditional 60/40 portfolio split: 60% stocks (SPY) and 40% bonds (AGG)."
   ]
  },
  {
   "cell_type": "code",
   "execution_count": 28,
   "metadata": {},
   "outputs": [],
   "source": [
    "# Set start and end dates of 3 years back from your current date\n",
    "# Alternatively, you can use an end date of 2020-08-07 and work 3 years back from that date \n",
    "# YOUR CODE HERE\n",
    "start_date = pd.Timestamp(\"2019-02-05\", tz=\"America/New_York\").isoformat()\n",
    "end_date = pd.Timestamp(\"2022-02-04\", tz=\"America/New_York\").isoformat()\n",
    "# YOUR CODE HERE\n",
    "\n",
    "# Set number of rows to 1000 to retrieve the maximum amount of rows\n",
    "# YOUR CODE HERE\n",
    "limit_rows=1000"
   ]
  },
  {
   "cell_type": "code",
   "execution_count": 29,
   "metadata": {},
   "outputs": [
    {
     "name": "stderr",
     "output_type": "stream",
     "text": [
      "<ipython-input-29-ca70723ce9de>:6: DeprecatedWarning: get_barset is deprecated as of v1.0.0. Use get_bars instead\n",
      "  prices_df = alpaca.get_barset(\n"
     ]
    },
    {
     "data": {
      "text/html": [
       "<div>\n",
       "<style scoped>\n",
       "    .dataframe tbody tr th:only-of-type {\n",
       "        vertical-align: middle;\n",
       "    }\n",
       "\n",
       "    .dataframe tbody tr th {\n",
       "        vertical-align: top;\n",
       "    }\n",
       "\n",
       "    .dataframe thead tr th {\n",
       "        text-align: left;\n",
       "    }\n",
       "\n",
       "    .dataframe thead tr:last-of-type th {\n",
       "        text-align: right;\n",
       "    }\n",
       "</style>\n",
       "<table border=\"1\" class=\"dataframe\">\n",
       "  <thead>\n",
       "    <tr>\n",
       "      <th></th>\n",
       "      <th colspan=\"5\" halign=\"left\">AGG</th>\n",
       "      <th colspan=\"5\" halign=\"left\">SPY</th>\n",
       "    </tr>\n",
       "    <tr>\n",
       "      <th></th>\n",
       "      <th>open</th>\n",
       "      <th>high</th>\n",
       "      <th>low</th>\n",
       "      <th>close</th>\n",
       "      <th>volume</th>\n",
       "      <th>open</th>\n",
       "      <th>high</th>\n",
       "      <th>low</th>\n",
       "      <th>close</th>\n",
       "      <th>volume</th>\n",
       "    </tr>\n",
       "    <tr>\n",
       "      <th>time</th>\n",
       "      <th></th>\n",
       "      <th></th>\n",
       "      <th></th>\n",
       "      <th></th>\n",
       "      <th></th>\n",
       "      <th></th>\n",
       "      <th></th>\n",
       "      <th></th>\n",
       "      <th></th>\n",
       "      <th></th>\n",
       "    </tr>\n",
       "  </thead>\n",
       "  <tbody>\n",
       "    <tr>\n",
       "      <th>2019-02-05 00:00:00-05:00</th>\n",
       "      <td>106.95</td>\n",
       "      <td>107.1400</td>\n",
       "      <td>106.950</td>\n",
       "      <td>107.0900</td>\n",
       "      <td>4918385.0</td>\n",
       "      <td>272.44</td>\n",
       "      <td>273.4400</td>\n",
       "      <td>271.88</td>\n",
       "      <td>273.13</td>\n",
       "      <td>61540042</td>\n",
       "    </tr>\n",
       "    <tr>\n",
       "      <th>2019-02-06 00:00:00-05:00</th>\n",
       "      <td>107.20</td>\n",
       "      <td>107.2200</td>\n",
       "      <td>106.985</td>\n",
       "      <td>107.0441</td>\n",
       "      <td>6022187.0</td>\n",
       "      <td>272.79</td>\n",
       "      <td>273.3400</td>\n",
       "      <td>271.92</td>\n",
       "      <td>272.70</td>\n",
       "      <td>43446324</td>\n",
       "    </tr>\n",
       "    <tr>\n",
       "      <th>2019-02-07 00:00:00-05:00</th>\n",
       "      <td>107.15</td>\n",
       "      <td>107.1983</td>\n",
       "      <td>107.030</td>\n",
       "      <td>107.1500</td>\n",
       "      <td>3080898.0</td>\n",
       "      <td>270.94</td>\n",
       "      <td>271.5500</td>\n",
       "      <td>268.29</td>\n",
       "      <td>269.97</td>\n",
       "      <td>83380785</td>\n",
       "    </tr>\n",
       "    <tr>\n",
       "      <th>2019-02-08 00:00:00-05:00</th>\n",
       "      <td>107.17</td>\n",
       "      <td>107.3800</td>\n",
       "      <td>107.170</td>\n",
       "      <td>107.3550</td>\n",
       "      <td>2988674.0</td>\n",
       "      <td>268.75</td>\n",
       "      <td>270.2874</td>\n",
       "      <td>267.83</td>\n",
       "      <td>270.08</td>\n",
       "      <td>63409417</td>\n",
       "    </tr>\n",
       "    <tr>\n",
       "      <th>2019-02-11 00:00:00-05:00</th>\n",
       "      <td>107.23</td>\n",
       "      <td>107.2800</td>\n",
       "      <td>107.150</td>\n",
       "      <td>107.1999</td>\n",
       "      <td>2686282.0</td>\n",
       "      <td>271.20</td>\n",
       "      <td>271.4900</td>\n",
       "      <td>270.03</td>\n",
       "      <td>270.64</td>\n",
       "      <td>57175393</td>\n",
       "    </tr>\n",
       "  </tbody>\n",
       "</table>\n",
       "</div>"
      ],
      "text/plain": [
       "                              AGG                                          \\\n",
       "                             open      high      low     close     volume   \n",
       "time                                                                        \n",
       "2019-02-05 00:00:00-05:00  106.95  107.1400  106.950  107.0900  4918385.0   \n",
       "2019-02-06 00:00:00-05:00  107.20  107.2200  106.985  107.0441  6022187.0   \n",
       "2019-02-07 00:00:00-05:00  107.15  107.1983  107.030  107.1500  3080898.0   \n",
       "2019-02-08 00:00:00-05:00  107.17  107.3800  107.170  107.3550  2988674.0   \n",
       "2019-02-11 00:00:00-05:00  107.23  107.2800  107.150  107.1999  2686282.0   \n",
       "\n",
       "                              SPY                                      \n",
       "                             open      high     low   close    volume  \n",
       "time                                                                   \n",
       "2019-02-05 00:00:00-05:00  272.44  273.4400  271.88  273.13  61540042  \n",
       "2019-02-06 00:00:00-05:00  272.79  273.3400  271.92  272.70  43446324  \n",
       "2019-02-07 00:00:00-05:00  270.94  271.5500  268.29  269.97  83380785  \n",
       "2019-02-08 00:00:00-05:00  268.75  270.2874  267.83  270.08  63409417  \n",
       "2019-02-11 00:00:00-05:00  271.20  271.4900  270.03  270.64  57175393  "
      ]
     },
     "metadata": {},
     "output_type": "display_data"
    },
    {
     "data": {
      "text/html": [
       "<div>\n",
       "<style scoped>\n",
       "    .dataframe tbody tr th:only-of-type {\n",
       "        vertical-align: middle;\n",
       "    }\n",
       "\n",
       "    .dataframe tbody tr th {\n",
       "        vertical-align: top;\n",
       "    }\n",
       "\n",
       "    .dataframe thead tr th {\n",
       "        text-align: left;\n",
       "    }\n",
       "\n",
       "    .dataframe thead tr:last-of-type th {\n",
       "        text-align: right;\n",
       "    }\n",
       "</style>\n",
       "<table border=\"1\" class=\"dataframe\">\n",
       "  <thead>\n",
       "    <tr>\n",
       "      <th></th>\n",
       "      <th colspan=\"5\" halign=\"left\">AGG</th>\n",
       "      <th colspan=\"5\" halign=\"left\">SPY</th>\n",
       "    </tr>\n",
       "    <tr>\n",
       "      <th></th>\n",
       "      <th>open</th>\n",
       "      <th>high</th>\n",
       "      <th>low</th>\n",
       "      <th>close</th>\n",
       "      <th>volume</th>\n",
       "      <th>open</th>\n",
       "      <th>high</th>\n",
       "      <th>low</th>\n",
       "      <th>close</th>\n",
       "      <th>volume</th>\n",
       "    </tr>\n",
       "    <tr>\n",
       "      <th>time</th>\n",
       "      <th></th>\n",
       "      <th></th>\n",
       "      <th></th>\n",
       "      <th></th>\n",
       "      <th></th>\n",
       "      <th></th>\n",
       "      <th></th>\n",
       "      <th></th>\n",
       "      <th></th>\n",
       "      <th></th>\n",
       "    </tr>\n",
       "  </thead>\n",
       "  <tbody>\n",
       "    <tr>\n",
       "      <th>2022-01-31 00:00:00-05:00</th>\n",
       "      <td>111.64</td>\n",
       "      <td>111.8900</td>\n",
       "      <td>111.6000</td>\n",
       "      <td>111.78</td>\n",
       "      <td>11437834.0</td>\n",
       "      <td>441.24</td>\n",
       "      <td>450.28</td>\n",
       "      <td>439.8100</td>\n",
       "      <td>449.815</td>\n",
       "      <td>128202383</td>\n",
       "    </tr>\n",
       "    <tr>\n",
       "      <th>2022-02-01 00:00:00-05:00</th>\n",
       "      <td>111.66</td>\n",
       "      <td>111.6764</td>\n",
       "      <td>111.3800</td>\n",
       "      <td>111.59</td>\n",
       "      <td>9477222.0</td>\n",
       "      <td>450.72</td>\n",
       "      <td>453.63</td>\n",
       "      <td>446.9384</td>\n",
       "      <td>452.960</td>\n",
       "      <td>106515279</td>\n",
       "    </tr>\n",
       "    <tr>\n",
       "      <th>2022-02-02 00:00:00-05:00</th>\n",
       "      <td>111.70</td>\n",
       "      <td>111.9700</td>\n",
       "      <td>111.6744</td>\n",
       "      <td>111.72</td>\n",
       "      <td>7424696.0</td>\n",
       "      <td>455.50</td>\n",
       "      <td>458.12</td>\n",
       "      <td>453.0500</td>\n",
       "      <td>457.300</td>\n",
       "      <td>97807976</td>\n",
       "    </tr>\n",
       "    <tr>\n",
       "      <th>2022-02-03 00:00:00-05:00</th>\n",
       "      <td>111.26</td>\n",
       "      <td>111.3700</td>\n",
       "      <td>111.1300</td>\n",
       "      <td>111.27</td>\n",
       "      <td>9480330.0</td>\n",
       "      <td>450.95</td>\n",
       "      <td>452.97</td>\n",
       "      <td>445.7100</td>\n",
       "      <td>446.640</td>\n",
       "      <td>99110054</td>\n",
       "    </tr>\n",
       "    <tr>\n",
       "      <th>2022-02-04 00:00:00-05:00</th>\n",
       "      <td>110.75</td>\n",
       "      <td>110.7500</td>\n",
       "      <td>110.4707</td>\n",
       "      <td>110.56</td>\n",
       "      <td>6762828.0</td>\n",
       "      <td>446.35</td>\n",
       "      <td>452.78</td>\n",
       "      <td>443.8300</td>\n",
       "      <td>448.730</td>\n",
       "      <td>98775229</td>\n",
       "    </tr>\n",
       "  </tbody>\n",
       "</table>\n",
       "</div>"
      ],
      "text/plain": [
       "                              AGG                                          \\\n",
       "                             open      high       low   close      volume   \n",
       "time                                                                        \n",
       "2022-01-31 00:00:00-05:00  111.64  111.8900  111.6000  111.78  11437834.0   \n",
       "2022-02-01 00:00:00-05:00  111.66  111.6764  111.3800  111.59   9477222.0   \n",
       "2022-02-02 00:00:00-05:00  111.70  111.9700  111.6744  111.72   7424696.0   \n",
       "2022-02-03 00:00:00-05:00  111.26  111.3700  111.1300  111.27   9480330.0   \n",
       "2022-02-04 00:00:00-05:00  110.75  110.7500  110.4707  110.56   6762828.0   \n",
       "\n",
       "                              SPY                                        \n",
       "                             open    high       low    close     volume  \n",
       "time                                                                     \n",
       "2022-01-31 00:00:00-05:00  441.24  450.28  439.8100  449.815  128202383  \n",
       "2022-02-01 00:00:00-05:00  450.72  453.63  446.9384  452.960  106515279  \n",
       "2022-02-02 00:00:00-05:00  455.50  458.12  453.0500  457.300   97807976  \n",
       "2022-02-03 00:00:00-05:00  450.95  452.97  445.7100  446.640   99110054  \n",
       "2022-02-04 00:00:00-05:00  446.35  452.78  443.8300  448.730   98775229  "
      ]
     },
     "metadata": {},
     "output_type": "display_data"
    }
   ],
   "source": [
    "# Use the Alpaca get_barset function to make the API call to get the 3 years worth of pricing data\n",
    "# The tickers and timeframe parameters should have been set in Part 1 of this activity \n",
    "# The start and end dates should be updated with the information set above\n",
    "# Remember to add the df property to the end of the call so the response is returned as a DataFrame\n",
    "# YOUR CODE HERE\n",
    "prices_df = alpaca.get_barset(\n",
    "    tickers,\n",
    "    timeframe,\n",
    "    start=start_date,\n",
    "    end=end_date,\n",
    "    limit=limit_rows\n",
    ").df\n",
    "\n",
    "# Display both the first and last five rows of the DataFrame\n",
    "# YOUR CODE HERE\n",
    "display(prices_df.head())\n",
    "\n",
    "\n",
    "# YOUR CODE HERE\n",
    "display(prices_df.tail())"
   ]
  },
  {
   "cell_type": "markdown",
   "metadata": {},
   "source": [
    "#### Step 2: Run a Monte Carlo simulation of 500 samples and 30 years for the 60/40 portfolio, and then plot the results."
   ]
  },
  {
   "cell_type": "code",
   "execution_count": 30,
   "metadata": {},
   "outputs": [
    {
     "data": {
      "text/html": [
       "<div>\n",
       "<style scoped>\n",
       "    .dataframe tbody tr th:only-of-type {\n",
       "        vertical-align: middle;\n",
       "    }\n",
       "\n",
       "    .dataframe tbody tr th {\n",
       "        vertical-align: top;\n",
       "    }\n",
       "\n",
       "    .dataframe thead tr th {\n",
       "        text-align: left;\n",
       "    }\n",
       "\n",
       "    .dataframe thead tr:last-of-type th {\n",
       "        text-align: right;\n",
       "    }\n",
       "</style>\n",
       "<table border=\"1\" class=\"dataframe\">\n",
       "  <thead>\n",
       "    <tr>\n",
       "      <th></th>\n",
       "      <th colspan=\"6\" halign=\"left\">AGG</th>\n",
       "      <th colspan=\"6\" halign=\"left\">SPY</th>\n",
       "    </tr>\n",
       "    <tr>\n",
       "      <th></th>\n",
       "      <th>open</th>\n",
       "      <th>high</th>\n",
       "      <th>low</th>\n",
       "      <th>close</th>\n",
       "      <th>volume</th>\n",
       "      <th>daily_return</th>\n",
       "      <th>open</th>\n",
       "      <th>high</th>\n",
       "      <th>low</th>\n",
       "      <th>close</th>\n",
       "      <th>volume</th>\n",
       "      <th>daily_return</th>\n",
       "    </tr>\n",
       "    <tr>\n",
       "      <th>time</th>\n",
       "      <th></th>\n",
       "      <th></th>\n",
       "      <th></th>\n",
       "      <th></th>\n",
       "      <th></th>\n",
       "      <th></th>\n",
       "      <th></th>\n",
       "      <th></th>\n",
       "      <th></th>\n",
       "      <th></th>\n",
       "      <th></th>\n",
       "      <th></th>\n",
       "    </tr>\n",
       "  </thead>\n",
       "  <tbody>\n",
       "    <tr>\n",
       "      <th>2022-01-31 00:00:00-05:00</th>\n",
       "      <td>111.64</td>\n",
       "      <td>111.8900</td>\n",
       "      <td>111.6000</td>\n",
       "      <td>111.78</td>\n",
       "      <td>11437834.0</td>\n",
       "      <td>-0.000268</td>\n",
       "      <td>441.24</td>\n",
       "      <td>450.28</td>\n",
       "      <td>439.8100</td>\n",
       "      <td>449.815</td>\n",
       "      <td>128202383</td>\n",
       "      <td>0.017865</td>\n",
       "    </tr>\n",
       "    <tr>\n",
       "      <th>2022-02-01 00:00:00-05:00</th>\n",
       "      <td>111.66</td>\n",
       "      <td>111.6764</td>\n",
       "      <td>111.3800</td>\n",
       "      <td>111.59</td>\n",
       "      <td>9477222.0</td>\n",
       "      <td>-0.001700</td>\n",
       "      <td>450.72</td>\n",
       "      <td>453.63</td>\n",
       "      <td>446.9384</td>\n",
       "      <td>452.960</td>\n",
       "      <td>106515279</td>\n",
       "      <td>0.006992</td>\n",
       "    </tr>\n",
       "    <tr>\n",
       "      <th>2022-02-02 00:00:00-05:00</th>\n",
       "      <td>111.70</td>\n",
       "      <td>111.9700</td>\n",
       "      <td>111.6744</td>\n",
       "      <td>111.72</td>\n",
       "      <td>7424696.0</td>\n",
       "      <td>0.001165</td>\n",
       "      <td>455.50</td>\n",
       "      <td>458.12</td>\n",
       "      <td>453.0500</td>\n",
       "      <td>457.300</td>\n",
       "      <td>97807976</td>\n",
       "      <td>0.009581</td>\n",
       "    </tr>\n",
       "    <tr>\n",
       "      <th>2022-02-03 00:00:00-05:00</th>\n",
       "      <td>111.26</td>\n",
       "      <td>111.3700</td>\n",
       "      <td>111.1300</td>\n",
       "      <td>111.27</td>\n",
       "      <td>9480330.0</td>\n",
       "      <td>-0.004028</td>\n",
       "      <td>450.95</td>\n",
       "      <td>452.97</td>\n",
       "      <td>445.7100</td>\n",
       "      <td>446.640</td>\n",
       "      <td>99110054</td>\n",
       "      <td>-0.023311</td>\n",
       "    </tr>\n",
       "    <tr>\n",
       "      <th>2022-02-04 00:00:00-05:00</th>\n",
       "      <td>110.75</td>\n",
       "      <td>110.7500</td>\n",
       "      <td>110.4707</td>\n",
       "      <td>110.56</td>\n",
       "      <td>6762828.0</td>\n",
       "      <td>-0.006381</td>\n",
       "      <td>446.35</td>\n",
       "      <td>452.78</td>\n",
       "      <td>443.8300</td>\n",
       "      <td>448.730</td>\n",
       "      <td>98775229</td>\n",
       "      <td>0.004679</td>\n",
       "    </tr>\n",
       "  </tbody>\n",
       "</table>\n",
       "</div>"
      ],
      "text/plain": [
       "                              AGG                                          \\\n",
       "                             open      high       low   close      volume   \n",
       "time                                                                        \n",
       "2022-01-31 00:00:00-05:00  111.64  111.8900  111.6000  111.78  11437834.0   \n",
       "2022-02-01 00:00:00-05:00  111.66  111.6764  111.3800  111.59   9477222.0   \n",
       "2022-02-02 00:00:00-05:00  111.70  111.9700  111.6744  111.72   7424696.0   \n",
       "2022-02-03 00:00:00-05:00  111.26  111.3700  111.1300  111.27   9480330.0   \n",
       "2022-02-04 00:00:00-05:00  110.75  110.7500  110.4707  110.56   6762828.0   \n",
       "\n",
       "                                           SPY                             \\\n",
       "                          daily_return    open    high       low    close   \n",
       "time                                                                        \n",
       "2022-01-31 00:00:00-05:00    -0.000268  441.24  450.28  439.8100  449.815   \n",
       "2022-02-01 00:00:00-05:00    -0.001700  450.72  453.63  446.9384  452.960   \n",
       "2022-02-02 00:00:00-05:00     0.001165  455.50  458.12  453.0500  457.300   \n",
       "2022-02-03 00:00:00-05:00    -0.004028  450.95  452.97  445.7100  446.640   \n",
       "2022-02-04 00:00:00-05:00    -0.006381  446.35  452.78  443.8300  448.730   \n",
       "\n",
       "                                                   \n",
       "                              volume daily_return  \n",
       "time                                               \n",
       "2022-01-31 00:00:00-05:00  128202383     0.017865  \n",
       "2022-02-01 00:00:00-05:00  106515279     0.006992  \n",
       "2022-02-02 00:00:00-05:00   97807976     0.009581  \n",
       "2022-02-03 00:00:00-05:00   99110054    -0.023311  \n",
       "2022-02-04 00:00:00-05:00   98775229     0.004679  "
      ]
     },
     "execution_count": 30,
     "metadata": {},
     "output_type": "execute_result"
    }
   ],
   "source": [
    "# Configure the Monte Carlo simulation to forecast 30 years cumulative returns\n",
    "# The weights should be split 40% to AGG and 60% to SPY.\n",
    "# Run 500 samples.\n",
    "# YOUR CODE HERE\n",
    "MC_even_weight = MCSimulation(\n",
    "    portfolio_data = prices_df,\n",
    "    weights = [.40,.60,],\n",
    "    num_simulation = 500,\n",
    "    num_trading_days = 252*30\n",
    ")\n",
    "\n",
    "# Review the simulation input data\n",
    "# YOUR CODE HERE\n",
    "MC_even_weight.portfolio_data.tail()"
   ]
  },
  {
   "cell_type": "code",
   "execution_count": 31,
   "metadata": {},
   "outputs": [
    {
     "name": "stdout",
     "output_type": "stream",
     "text": [
      "Running Monte Carlo simulation number 0.\n",
      "Running Monte Carlo simulation number 10.\n",
      "Running Monte Carlo simulation number 20.\n",
      "Running Monte Carlo simulation number 30.\n",
      "Running Monte Carlo simulation number 40.\n",
      "Running Monte Carlo simulation number 50.\n",
      "Running Monte Carlo simulation number 60.\n",
      "Running Monte Carlo simulation number 70.\n",
      "Running Monte Carlo simulation number 80.\n",
      "Running Monte Carlo simulation number 90.\n",
      "Running Monte Carlo simulation number 100.\n",
      "Running Monte Carlo simulation number 110.\n",
      "Running Monte Carlo simulation number 120.\n",
      "Running Monte Carlo simulation number 130.\n",
      "Running Monte Carlo simulation number 140.\n",
      "Running Monte Carlo simulation number 150.\n",
      "Running Monte Carlo simulation number 160.\n",
      "Running Monte Carlo simulation number 170.\n",
      "Running Monte Carlo simulation number 180.\n",
      "Running Monte Carlo simulation number 190.\n",
      "Running Monte Carlo simulation number 200.\n",
      "Running Monte Carlo simulation number 210.\n",
      "Running Monte Carlo simulation number 220.\n",
      "Running Monte Carlo simulation number 230.\n",
      "Running Monte Carlo simulation number 240.\n",
      "Running Monte Carlo simulation number 250.\n",
      "Running Monte Carlo simulation number 260.\n",
      "Running Monte Carlo simulation number 270.\n",
      "Running Monte Carlo simulation number 280.\n",
      "Running Monte Carlo simulation number 290.\n",
      "Running Monte Carlo simulation number 300.\n",
      "Running Monte Carlo simulation number 310.\n",
      "Running Monte Carlo simulation number 320.\n",
      "Running Monte Carlo simulation number 330.\n",
      "Running Monte Carlo simulation number 340.\n",
      "Running Monte Carlo simulation number 350.\n",
      "Running Monte Carlo simulation number 360.\n",
      "Running Monte Carlo simulation number 370.\n",
      "Running Monte Carlo simulation number 380.\n",
      "Running Monte Carlo simulation number 390.\n",
      "Running Monte Carlo simulation number 400.\n",
      "Running Monte Carlo simulation number 410.\n",
      "Running Monte Carlo simulation number 420.\n",
      "Running Monte Carlo simulation number 430.\n",
      "Running Monte Carlo simulation number 440.\n",
      "Running Monte Carlo simulation number 450.\n",
      "Running Monte Carlo simulation number 460.\n",
      "Running Monte Carlo simulation number 470.\n",
      "Running Monte Carlo simulation number 480.\n",
      "Running Monte Carlo simulation number 490.\n"
     ]
    },
    {
     "data": {
      "text/html": [
       "<div>\n",
       "<style scoped>\n",
       "    .dataframe tbody tr th:only-of-type {\n",
       "        vertical-align: middle;\n",
       "    }\n",
       "\n",
       "    .dataframe tbody tr th {\n",
       "        vertical-align: top;\n",
       "    }\n",
       "\n",
       "    .dataframe thead th {\n",
       "        text-align: right;\n",
       "    }\n",
       "</style>\n",
       "<table border=\"1\" class=\"dataframe\">\n",
       "  <thead>\n",
       "    <tr style=\"text-align: right;\">\n",
       "      <th></th>\n",
       "      <th>0</th>\n",
       "      <th>1</th>\n",
       "      <th>2</th>\n",
       "      <th>3</th>\n",
       "      <th>4</th>\n",
       "      <th>5</th>\n",
       "      <th>6</th>\n",
       "      <th>7</th>\n",
       "      <th>8</th>\n",
       "      <th>9</th>\n",
       "      <th>...</th>\n",
       "      <th>490</th>\n",
       "      <th>491</th>\n",
       "      <th>492</th>\n",
       "      <th>493</th>\n",
       "      <th>494</th>\n",
       "      <th>495</th>\n",
       "      <th>496</th>\n",
       "      <th>497</th>\n",
       "      <th>498</th>\n",
       "      <th>499</th>\n",
       "    </tr>\n",
       "  </thead>\n",
       "  <tbody>\n",
       "    <tr>\n",
       "      <th>0</th>\n",
       "      <td>1.000000</td>\n",
       "      <td>1.000000</td>\n",
       "      <td>1.000000</td>\n",
       "      <td>1.000000</td>\n",
       "      <td>1.000000</td>\n",
       "      <td>1.000000</td>\n",
       "      <td>1.000000</td>\n",
       "      <td>1.000000</td>\n",
       "      <td>1.000000</td>\n",
       "      <td>1.000000</td>\n",
       "      <td>...</td>\n",
       "      <td>1.000000</td>\n",
       "      <td>1.000000</td>\n",
       "      <td>1.000000</td>\n",
       "      <td>1.000000</td>\n",
       "      <td>1.000000</td>\n",
       "      <td>1.000000</td>\n",
       "      <td>1.000000</td>\n",
       "      <td>1.000000</td>\n",
       "      <td>1.000000</td>\n",
       "      <td>1.000000</td>\n",
       "    </tr>\n",
       "    <tr>\n",
       "      <th>1</th>\n",
       "      <td>0.999776</td>\n",
       "      <td>0.992824</td>\n",
       "      <td>1.007502</td>\n",
       "      <td>1.001351</td>\n",
       "      <td>0.996595</td>\n",
       "      <td>0.993186</td>\n",
       "      <td>0.999875</td>\n",
       "      <td>1.002784</td>\n",
       "      <td>0.991050</td>\n",
       "      <td>1.014979</td>\n",
       "      <td>...</td>\n",
       "      <td>1.011795</td>\n",
       "      <td>0.993589</td>\n",
       "      <td>0.994500</td>\n",
       "      <td>0.993757</td>\n",
       "      <td>0.989580</td>\n",
       "      <td>0.998344</td>\n",
       "      <td>0.971004</td>\n",
       "      <td>1.002770</td>\n",
       "      <td>0.994391</td>\n",
       "      <td>0.985270</td>\n",
       "    </tr>\n",
       "    <tr>\n",
       "      <th>2</th>\n",
       "      <td>0.995742</td>\n",
       "      <td>0.979092</td>\n",
       "      <td>1.024656</td>\n",
       "      <td>1.005195</td>\n",
       "      <td>0.998859</td>\n",
       "      <td>0.998310</td>\n",
       "      <td>0.986082</td>\n",
       "      <td>1.008554</td>\n",
       "      <td>0.983790</td>\n",
       "      <td>1.022886</td>\n",
       "      <td>...</td>\n",
       "      <td>1.015861</td>\n",
       "      <td>1.000892</td>\n",
       "      <td>0.979818</td>\n",
       "      <td>0.987386</td>\n",
       "      <td>1.006155</td>\n",
       "      <td>1.002522</td>\n",
       "      <td>0.972195</td>\n",
       "      <td>1.009850</td>\n",
       "      <td>0.993955</td>\n",
       "      <td>0.986632</td>\n",
       "    </tr>\n",
       "    <tr>\n",
       "      <th>3</th>\n",
       "      <td>1.010323</td>\n",
       "      <td>0.981910</td>\n",
       "      <td>1.029654</td>\n",
       "      <td>1.021266</td>\n",
       "      <td>0.997474</td>\n",
       "      <td>0.991827</td>\n",
       "      <td>1.001917</td>\n",
       "      <td>1.013480</td>\n",
       "      <td>0.970620</td>\n",
       "      <td>1.023996</td>\n",
       "      <td>...</td>\n",
       "      <td>1.018140</td>\n",
       "      <td>1.006404</td>\n",
       "      <td>0.981670</td>\n",
       "      <td>0.985796</td>\n",
       "      <td>1.011475</td>\n",
       "      <td>0.994054</td>\n",
       "      <td>0.976972</td>\n",
       "      <td>1.002487</td>\n",
       "      <td>0.997141</td>\n",
       "      <td>0.996925</td>\n",
       "    </tr>\n",
       "    <tr>\n",
       "      <th>4</th>\n",
       "      <td>1.010413</td>\n",
       "      <td>0.985055</td>\n",
       "      <td>1.029405</td>\n",
       "      <td>1.012544</td>\n",
       "      <td>0.995430</td>\n",
       "      <td>1.000611</td>\n",
       "      <td>0.997367</td>\n",
       "      <td>1.018983</td>\n",
       "      <td>0.971257</td>\n",
       "      <td>1.023998</td>\n",
       "      <td>...</td>\n",
       "      <td>1.013074</td>\n",
       "      <td>1.007317</td>\n",
       "      <td>0.982140</td>\n",
       "      <td>0.980318</td>\n",
       "      <td>0.993514</td>\n",
       "      <td>1.009550</td>\n",
       "      <td>0.968491</td>\n",
       "      <td>0.991102</td>\n",
       "      <td>0.991257</td>\n",
       "      <td>0.993344</td>\n",
       "    </tr>\n",
       "    <tr>\n",
       "      <th>...</th>\n",
       "      <td>...</td>\n",
       "      <td>...</td>\n",
       "      <td>...</td>\n",
       "      <td>...</td>\n",
       "      <td>...</td>\n",
       "      <td>...</td>\n",
       "      <td>...</td>\n",
       "      <td>...</td>\n",
       "      <td>...</td>\n",
       "      <td>...</td>\n",
       "      <td>...</td>\n",
       "      <td>...</td>\n",
       "      <td>...</td>\n",
       "      <td>...</td>\n",
       "      <td>...</td>\n",
       "      <td>...</td>\n",
       "      <td>...</td>\n",
       "      <td>...</td>\n",
       "      <td>...</td>\n",
       "      <td>...</td>\n",
       "      <td>...</td>\n",
       "    </tr>\n",
       "    <tr>\n",
       "      <th>7556</th>\n",
       "      <td>51.366487</td>\n",
       "      <td>19.123749</td>\n",
       "      <td>7.704465</td>\n",
       "      <td>13.796329</td>\n",
       "      <td>42.073802</td>\n",
       "      <td>19.186949</td>\n",
       "      <td>99.418783</td>\n",
       "      <td>55.769078</td>\n",
       "      <td>25.940365</td>\n",
       "      <td>106.450529</td>\n",
       "      <td>...</td>\n",
       "      <td>79.624486</td>\n",
       "      <td>35.860883</td>\n",
       "      <td>27.268078</td>\n",
       "      <td>12.066649</td>\n",
       "      <td>28.009153</td>\n",
       "      <td>62.121700</td>\n",
       "      <td>17.094385</td>\n",
       "      <td>43.188206</td>\n",
       "      <td>22.313292</td>\n",
       "      <td>49.370370</td>\n",
       "    </tr>\n",
       "    <tr>\n",
       "      <th>7557</th>\n",
       "      <td>51.462758</td>\n",
       "      <td>19.040663</td>\n",
       "      <td>7.594998</td>\n",
       "      <td>13.811049</td>\n",
       "      <td>42.396898</td>\n",
       "      <td>19.135093</td>\n",
       "      <td>100.362419</td>\n",
       "      <td>56.621619</td>\n",
       "      <td>26.053073</td>\n",
       "      <td>107.779971</td>\n",
       "      <td>...</td>\n",
       "      <td>80.171568</td>\n",
       "      <td>36.029918</td>\n",
       "      <td>27.577010</td>\n",
       "      <td>12.060230</td>\n",
       "      <td>28.069431</td>\n",
       "      <td>62.841393</td>\n",
       "      <td>17.148994</td>\n",
       "      <td>42.878069</td>\n",
       "      <td>22.018741</td>\n",
       "      <td>49.617527</td>\n",
       "    </tr>\n",
       "    <tr>\n",
       "      <th>7558</th>\n",
       "      <td>51.401697</td>\n",
       "      <td>18.962476</td>\n",
       "      <td>7.596834</td>\n",
       "      <td>13.723309</td>\n",
       "      <td>42.350480</td>\n",
       "      <td>18.860148</td>\n",
       "      <td>100.025977</td>\n",
       "      <td>57.043043</td>\n",
       "      <td>26.025377</td>\n",
       "      <td>108.440109</td>\n",
       "      <td>...</td>\n",
       "      <td>79.331148</td>\n",
       "      <td>36.540948</td>\n",
       "      <td>27.943960</td>\n",
       "      <td>12.047509</td>\n",
       "      <td>28.190120</td>\n",
       "      <td>61.750471</td>\n",
       "      <td>17.014868</td>\n",
       "      <td>42.754342</td>\n",
       "      <td>22.321296</td>\n",
       "      <td>49.738141</td>\n",
       "    </tr>\n",
       "    <tr>\n",
       "      <th>7559</th>\n",
       "      <td>50.788350</td>\n",
       "      <td>18.970325</td>\n",
       "      <td>7.603722</td>\n",
       "      <td>13.646089</td>\n",
       "      <td>42.001606</td>\n",
       "      <td>18.913247</td>\n",
       "      <td>100.409366</td>\n",
       "      <td>56.404480</td>\n",
       "      <td>26.109972</td>\n",
       "      <td>109.134815</td>\n",
       "      <td>...</td>\n",
       "      <td>78.909145</td>\n",
       "      <td>37.052868</td>\n",
       "      <td>28.161378</td>\n",
       "      <td>12.145076</td>\n",
       "      <td>28.090480</td>\n",
       "      <td>63.060936</td>\n",
       "      <td>17.122907</td>\n",
       "      <td>42.524292</td>\n",
       "      <td>22.208763</td>\n",
       "      <td>49.941529</td>\n",
       "    </tr>\n",
       "    <tr>\n",
       "      <th>7560</th>\n",
       "      <td>50.047773</td>\n",
       "      <td>18.774659</td>\n",
       "      <td>7.661613</td>\n",
       "      <td>13.738039</td>\n",
       "      <td>41.641811</td>\n",
       "      <td>19.082321</td>\n",
       "      <td>100.727544</td>\n",
       "      <td>56.877678</td>\n",
       "      <td>26.337761</td>\n",
       "      <td>110.080251</td>\n",
       "      <td>...</td>\n",
       "      <td>78.433063</td>\n",
       "      <td>37.478286</td>\n",
       "      <td>28.378003</td>\n",
       "      <td>11.999320</td>\n",
       "      <td>28.023814</td>\n",
       "      <td>63.791376</td>\n",
       "      <td>17.300707</td>\n",
       "      <td>42.216887</td>\n",
       "      <td>22.478704</td>\n",
       "      <td>49.440932</td>\n",
       "    </tr>\n",
       "  </tbody>\n",
       "</table>\n",
       "<p>7561 rows × 500 columns</p>\n",
       "</div>"
      ],
      "text/plain": [
       "            0          1         2          3          4          5    \\\n",
       "0      1.000000   1.000000  1.000000   1.000000   1.000000   1.000000   \n",
       "1      0.999776   0.992824  1.007502   1.001351   0.996595   0.993186   \n",
       "2      0.995742   0.979092  1.024656   1.005195   0.998859   0.998310   \n",
       "3      1.010323   0.981910  1.029654   1.021266   0.997474   0.991827   \n",
       "4      1.010413   0.985055  1.029405   1.012544   0.995430   1.000611   \n",
       "...         ...        ...       ...        ...        ...        ...   \n",
       "7556  51.366487  19.123749  7.704465  13.796329  42.073802  19.186949   \n",
       "7557  51.462758  19.040663  7.594998  13.811049  42.396898  19.135093   \n",
       "7558  51.401697  18.962476  7.596834  13.723309  42.350480  18.860148   \n",
       "7559  50.788350  18.970325  7.603722  13.646089  42.001606  18.913247   \n",
       "7560  50.047773  18.774659  7.661613  13.738039  41.641811  19.082321   \n",
       "\n",
       "             6          7          8           9    ...        490        491  \\\n",
       "0       1.000000   1.000000   1.000000    1.000000  ...   1.000000   1.000000   \n",
       "1       0.999875   1.002784   0.991050    1.014979  ...   1.011795   0.993589   \n",
       "2       0.986082   1.008554   0.983790    1.022886  ...   1.015861   1.000892   \n",
       "3       1.001917   1.013480   0.970620    1.023996  ...   1.018140   1.006404   \n",
       "4       0.997367   1.018983   0.971257    1.023998  ...   1.013074   1.007317   \n",
       "...          ...        ...        ...         ...  ...        ...        ...   \n",
       "7556   99.418783  55.769078  25.940365  106.450529  ...  79.624486  35.860883   \n",
       "7557  100.362419  56.621619  26.053073  107.779971  ...  80.171568  36.029918   \n",
       "7558  100.025977  57.043043  26.025377  108.440109  ...  79.331148  36.540948   \n",
       "7559  100.409366  56.404480  26.109972  109.134815  ...  78.909145  37.052868   \n",
       "7560  100.727544  56.877678  26.337761  110.080251  ...  78.433063  37.478286   \n",
       "\n",
       "            492        493        494        495        496        497  \\\n",
       "0      1.000000   1.000000   1.000000   1.000000   1.000000   1.000000   \n",
       "1      0.994500   0.993757   0.989580   0.998344   0.971004   1.002770   \n",
       "2      0.979818   0.987386   1.006155   1.002522   0.972195   1.009850   \n",
       "3      0.981670   0.985796   1.011475   0.994054   0.976972   1.002487   \n",
       "4      0.982140   0.980318   0.993514   1.009550   0.968491   0.991102   \n",
       "...         ...        ...        ...        ...        ...        ...   \n",
       "7556  27.268078  12.066649  28.009153  62.121700  17.094385  43.188206   \n",
       "7557  27.577010  12.060230  28.069431  62.841393  17.148994  42.878069   \n",
       "7558  27.943960  12.047509  28.190120  61.750471  17.014868  42.754342   \n",
       "7559  28.161378  12.145076  28.090480  63.060936  17.122907  42.524292   \n",
       "7560  28.378003  11.999320  28.023814  63.791376  17.300707  42.216887   \n",
       "\n",
       "            498        499  \n",
       "0      1.000000   1.000000  \n",
       "1      0.994391   0.985270  \n",
       "2      0.993955   0.986632  \n",
       "3      0.997141   0.996925  \n",
       "4      0.991257   0.993344  \n",
       "...         ...        ...  \n",
       "7556  22.313292  49.370370  \n",
       "7557  22.018741  49.617527  \n",
       "7558  22.321296  49.738141  \n",
       "7559  22.208763  49.941529  \n",
       "7560  22.478704  49.440932  \n",
       "\n",
       "[7561 rows x 500 columns]"
      ]
     },
     "execution_count": 31,
     "metadata": {},
     "output_type": "execute_result"
    }
   ],
   "source": [
    "# Run the Monte Carlo simulation to forecast 30 years cumulative returns\n",
    "# YOUR CODE HERE\n",
    "MC_even_weight.calc_cumulative_return()"
   ]
  },
  {
   "cell_type": "code",
   "execution_count": 32,
   "metadata": {},
   "outputs": [
    {
     "data": {
      "image/png": "[encoded data removed]",
      "text/plain": [
       "<Figure size 432x288 with 1 Axes>"
      ]
     },
     "metadata": {
      "needs_background": "light"
     },
     "output_type": "display_data"
    }
   ],
   "source": [
    "# Visualize the 30-year Monte Carlo simulation by creating an\n",
    "# overlay line plot\n",
    "# YOUR CODE HERE\n",
    "even_weight_line_plot = MC_even_weight.plot_simulation()"
   ]
  },
  {
   "cell_type": "markdown",
   "metadata": {},
   "source": [
    "#### Step 3: Plot the probability distribution of the Monte Carlo simulation."
   ]
  },
  {
   "cell_type": "code",
   "execution_count": 33,
   "metadata": {},
   "outputs": [
    {
     "data": {
      "image/png": "[encoded data removed]",
      "text/plain": [
       "<Figure size 432x288 with 1 Axes>"
      ]
     },
     "metadata": {
      "needs_background": "light"
     },
     "output_type": "display_data"
    }
   ],
   "source": [
    "# Visualize the probability distribution of the 30-year Monte Carlo simulation \n",
    "# by plotting a histogram\n",
    "# YOUR CODE HERE\n",
    "even_weight_distribution_plot = MC_even_weight.plot_distribution()"
   ]
  },
  {
   "cell_type": "markdown",
   "metadata": {},
   "source": [
    "#### Step 4: Generate the summary statistics for the Monte Carlo simulation."
   ]
  },
  {
   "cell_type": "code",
   "execution_count": 34,
   "metadata": {},
   "outputs": [
    {
     "name": "stdout",
     "output_type": "stream",
     "text": [
      "count           500.000000\n",
      "mean             33.449674\n",
      "std              27.387118\n",
      "min               4.369293\n",
      "25%              15.707541\n",
      "50%              25.729975\n",
      "75%              42.661208\n",
      "max             241.331918\n",
      "95% CI Lower      7.120604\n",
      "95% CI Upper    105.148699\n",
      "Name: 7560, dtype: float64\n"
     ]
    }
   ],
   "source": [
    "# Generate summary statistics from the 30-year Monte Carlo simulation results\n",
    "# Save the results as a variable\n",
    "# YOUR CODE HERE\n",
    "even_weight_table = MC_even_weight.summarize_cumulative_return()\n",
    "\n",
    "\n",
    "# Review the 30-year Monte Carlo summary statistics\n",
    "# YOUR CODE HERE\n",
    "print(even_weight_table)"
   ]
  },
  {
   "cell_type": "markdown",
   "metadata": {},
   "source": [
    "### Analyze the Retirement Portfolio Forecasts\n",
    "\n",
    "Using the current value of only the stock and bond portion of the member's portfolio and the summary statistics that you generated from the Monte Carlo simulation, answer the following question in your Jupyter notebook:\n",
    "\n",
    "-  What are the lower and upper bounds for the expected value of the portfolio with a 95% confidence interval?\n"
   ]
  },
  {
   "cell_type": "code",
   "execution_count": 50,
   "metadata": {},
   "outputs": [
    {
     "name": "stdout",
     "output_type": "stream",
     "text": [
      "The current balance of the stock and bond portion is $71472.3\n"
     ]
    }
   ],
   "source": [
    "# Print the current balance of the stock and bond portion of the members portfolio\n",
    "# YOUR CODE HERE\n",
    "print(f\"The current balance of the stock and bond portion is ${total_stocks_bonds_value}\")"
   ]
  },
  {
   "cell_type": "code",
   "execution_count": 36,
   "metadata": {},
   "outputs": [
    {
     "name": "stdout",
     "output_type": "stream",
     "text": [
      "508925.95\n",
      "7515219.38\n"
     ]
    }
   ],
   "source": [
    "# Use the lower and upper `95%` confidence intervals to calculate the range of the possible outcomes for the current stock/bond portfolio\n",
    "# YOUR CODE HERE\n",
    "ci_lower_thirty_cumulative_return = round(even_weight_table[8]*total_stocks_bonds_value,2)\n",
    "ci_upper_thirty_cumulative_return = round(even_weight_table[9]*total_stocks_bonds_value,2)\n",
    "\n",
    "# Print the result of your calculations\n",
    "# YOUR CODE HERE\n",
    "print(ci_lower_thirty_cumulative_return)\n",
    "print(ci_upper_thirty_cumulative_return)"
   ]
  },
  {
   "cell_type": "markdown",
   "metadata": {},
   "source": [
    "### Forecast Cumulative Returns in 10 Years\n",
    "\n",
    "The CTO of the credit union is impressed with your work on these planning tools but wonders if 30 years is a long time to wait until retirement. So, your next task is to adjust the retirement portfolio and run a new Monte Carlo simulation to find out if the changes will allow members to retire earlier.\n",
    "\n",
    "For this new Monte Carlo simulation, do the following: \n",
    "\n",
    "- Forecast the cumulative returns for 10 years from now. Because of the shortened investment horizon (30 years to 10 years), the portfolio needs to invest more heavily in the riskier asset&mdash;that is, stock&mdash;to help accumulate wealth for retirement. \n",
    "\n",
    "- Adjust the weights of the retirement portfolio so that the composition for the Monte Carlo simulation consists of 20% bonds and 80% stocks. \n",
    "\n",
    "- Run the simulation over 500 samples, and use the same data that the API call to Alpaca generated.\n",
    "\n",
    "- Based on the new Monte Carlo simulation, answer the following questions in your Jupyter notebook:\n",
    "\n",
    "    - Using the current value of only the stock and bond portion of the member's portfolio and the summary statistics that you generated from the new Monte Carlo simulation, what are the lower and upper bounds for the expected value of the portfolio (with the new weights) with a 95% confidence interval?\n",
    "\n",
    "    - Will weighting the portfolio more heavily toward stocks allow the credit union members to retire after only 10 years?\n"
   ]
  },
  {
   "cell_type": "code",
   "execution_count": 45,
   "metadata": {},
   "outputs": [
    {
     "data": {
      "text/html": [
       "<div>\n",
       "<style scoped>\n",
       "    .dataframe tbody tr th:only-of-type {\n",
       "        vertical-align: middle;\n",
       "    }\n",
       "\n",
       "    .dataframe tbody tr th {\n",
       "        vertical-align: top;\n",
       "    }\n",
       "\n",
       "    .dataframe thead tr th {\n",
       "        text-align: left;\n",
       "    }\n",
       "\n",
       "    .dataframe thead tr:last-of-type th {\n",
       "        text-align: right;\n",
       "    }\n",
       "</style>\n",
       "<table border=\"1\" class=\"dataframe\">\n",
       "  <thead>\n",
       "    <tr>\n",
       "      <th></th>\n",
       "      <th colspan=\"6\" halign=\"left\">AGG</th>\n",
       "      <th colspan=\"6\" halign=\"left\">SPY</th>\n",
       "    </tr>\n",
       "    <tr>\n",
       "      <th></th>\n",
       "      <th>open</th>\n",
       "      <th>high</th>\n",
       "      <th>low</th>\n",
       "      <th>close</th>\n",
       "      <th>volume</th>\n",
       "      <th>daily_return</th>\n",
       "      <th>open</th>\n",
       "      <th>high</th>\n",
       "      <th>low</th>\n",
       "      <th>close</th>\n",
       "      <th>volume</th>\n",
       "      <th>daily_return</th>\n",
       "    </tr>\n",
       "    <tr>\n",
       "      <th>time</th>\n",
       "      <th></th>\n",
       "      <th></th>\n",
       "      <th></th>\n",
       "      <th></th>\n",
       "      <th></th>\n",
       "      <th></th>\n",
       "      <th></th>\n",
       "      <th></th>\n",
       "      <th></th>\n",
       "      <th></th>\n",
       "      <th></th>\n",
       "      <th></th>\n",
       "    </tr>\n",
       "  </thead>\n",
       "  <tbody>\n",
       "    <tr>\n",
       "      <th>2022-01-31 00:00:00-05:00</th>\n",
       "      <td>111.64</td>\n",
       "      <td>111.8900</td>\n",
       "      <td>111.6000</td>\n",
       "      <td>111.78</td>\n",
       "      <td>11437834.0</td>\n",
       "      <td>-0.000268</td>\n",
       "      <td>441.24</td>\n",
       "      <td>450.28</td>\n",
       "      <td>439.8100</td>\n",
       "      <td>449.815</td>\n",
       "      <td>128202383</td>\n",
       "      <td>0.017865</td>\n",
       "    </tr>\n",
       "    <tr>\n",
       "      <th>2022-02-01 00:00:00-05:00</th>\n",
       "      <td>111.66</td>\n",
       "      <td>111.6764</td>\n",
       "      <td>111.3800</td>\n",
       "      <td>111.59</td>\n",
       "      <td>9477222.0</td>\n",
       "      <td>-0.001700</td>\n",
       "      <td>450.72</td>\n",
       "      <td>453.63</td>\n",
       "      <td>446.9384</td>\n",
       "      <td>452.960</td>\n",
       "      <td>106515279</td>\n",
       "      <td>0.006992</td>\n",
       "    </tr>\n",
       "    <tr>\n",
       "      <th>2022-02-02 00:00:00-05:00</th>\n",
       "      <td>111.70</td>\n",
       "      <td>111.9700</td>\n",
       "      <td>111.6744</td>\n",
       "      <td>111.72</td>\n",
       "      <td>7424696.0</td>\n",
       "      <td>0.001165</td>\n",
       "      <td>455.50</td>\n",
       "      <td>458.12</td>\n",
       "      <td>453.0500</td>\n",
       "      <td>457.300</td>\n",
       "      <td>97807976</td>\n",
       "      <td>0.009581</td>\n",
       "    </tr>\n",
       "    <tr>\n",
       "      <th>2022-02-03 00:00:00-05:00</th>\n",
       "      <td>111.26</td>\n",
       "      <td>111.3700</td>\n",
       "      <td>111.1300</td>\n",
       "      <td>111.27</td>\n",
       "      <td>9480330.0</td>\n",
       "      <td>-0.004028</td>\n",
       "      <td>450.95</td>\n",
       "      <td>452.97</td>\n",
       "      <td>445.7100</td>\n",
       "      <td>446.640</td>\n",
       "      <td>99110054</td>\n",
       "      <td>-0.023311</td>\n",
       "    </tr>\n",
       "    <tr>\n",
       "      <th>2022-02-04 00:00:00-05:00</th>\n",
       "      <td>110.75</td>\n",
       "      <td>110.7500</td>\n",
       "      <td>110.4707</td>\n",
       "      <td>110.56</td>\n",
       "      <td>6762828.0</td>\n",
       "      <td>-0.006381</td>\n",
       "      <td>446.35</td>\n",
       "      <td>452.78</td>\n",
       "      <td>443.8300</td>\n",
       "      <td>448.730</td>\n",
       "      <td>98775229</td>\n",
       "      <td>0.004679</td>\n",
       "    </tr>\n",
       "  </tbody>\n",
       "</table>\n",
       "</div>"
      ],
      "text/plain": [
       "                              AGG                                          \\\n",
       "                             open      high       low   close      volume   \n",
       "time                                                                        \n",
       "2022-01-31 00:00:00-05:00  111.64  111.8900  111.6000  111.78  11437834.0   \n",
       "2022-02-01 00:00:00-05:00  111.66  111.6764  111.3800  111.59   9477222.0   \n",
       "2022-02-02 00:00:00-05:00  111.70  111.9700  111.6744  111.72   7424696.0   \n",
       "2022-02-03 00:00:00-05:00  111.26  111.3700  111.1300  111.27   9480330.0   \n",
       "2022-02-04 00:00:00-05:00  110.75  110.7500  110.4707  110.56   6762828.0   \n",
       "\n",
       "                                           SPY                             \\\n",
       "                          daily_return    open    high       low    close   \n",
       "time                                                                        \n",
       "2022-01-31 00:00:00-05:00    -0.000268  441.24  450.28  439.8100  449.815   \n",
       "2022-02-01 00:00:00-05:00    -0.001700  450.72  453.63  446.9384  452.960   \n",
       "2022-02-02 00:00:00-05:00     0.001165  455.50  458.12  453.0500  457.300   \n",
       "2022-02-03 00:00:00-05:00    -0.004028  450.95  452.97  445.7100  446.640   \n",
       "2022-02-04 00:00:00-05:00    -0.006381  446.35  452.78  443.8300  448.730   \n",
       "\n",
       "                                                   \n",
       "                              volume daily_return  \n",
       "time                                               \n",
       "2022-01-31 00:00:00-05:00  128202383     0.017865  \n",
       "2022-02-01 00:00:00-05:00  106515279     0.006992  \n",
       "2022-02-02 00:00:00-05:00   97807976     0.009581  \n",
       "2022-02-03 00:00:00-05:00   99110054    -0.023311  \n",
       "2022-02-04 00:00:00-05:00   98775229     0.004679  "
      ]
     },
     "execution_count": 45,
     "metadata": {},
     "output_type": "execute_result"
    }
   ],
   "source": [
    "# Configure a Monte Carlo simulation to forecast 10 years cumulative returns\n",
    "# The weights should be split 20% to AGG and 80% to SPY.\n",
    "# Run 500 samples.\n",
    "# YOUR CODE HERE\n",
    "MC_even_weight = MCSimulation(\n",
    "    portfolio_data = prices_df,\n",
    "    weights = [.20,.80,],\n",
    "    num_simulation = 500,\n",
    "    num_trading_days = 252*10\n",
    ")\n",
    "# Review the simulation input data\n",
    "# YOUR CODE HERE\n",
    "MC_even_weight.portfolio_data.tail()"
   ]
  },
  {
   "cell_type": "code",
   "execution_count": 46,
   "metadata": {},
   "outputs": [
    {
     "name": "stdout",
     "output_type": "stream",
     "text": [
      "Running Monte Carlo simulation number 0.\n",
      "Running Monte Carlo simulation number 10.\n",
      "Running Monte Carlo simulation number 20.\n",
      "Running Monte Carlo simulation number 30.\n",
      "Running Monte Carlo simulation number 40.\n",
      "Running Monte Carlo simulation number 50.\n",
      "Running Monte Carlo simulation number 60.\n",
      "Running Monte Carlo simulation number 70.\n",
      "Running Monte Carlo simulation number 80.\n",
      "Running Monte Carlo simulation number 90.\n",
      "Running Monte Carlo simulation number 100.\n",
      "Running Monte Carlo simulation number 110.\n",
      "Running Monte Carlo simulation number 120.\n",
      "Running Monte Carlo simulation number 130.\n",
      "Running Monte Carlo simulation number 140.\n",
      "Running Monte Carlo simulation number 150.\n",
      "Running Monte Carlo simulation number 160.\n",
      "Running Monte Carlo simulation number 170.\n",
      "Running Monte Carlo simulation number 180.\n",
      "Running Monte Carlo simulation number 190.\n",
      "Running Monte Carlo simulation number 200.\n",
      "Running Monte Carlo simulation number 210.\n",
      "Running Monte Carlo simulation number 220.\n",
      "Running Monte Carlo simulation number 230.\n",
      "Running Monte Carlo simulation number 240.\n",
      "Running Monte Carlo simulation number 250.\n",
      "Running Monte Carlo simulation number 260.\n",
      "Running Monte Carlo simulation number 270.\n",
      "Running Monte Carlo simulation number 280.\n",
      "Running Monte Carlo simulation number 290.\n",
      "Running Monte Carlo simulation number 300.\n",
      "Running Monte Carlo simulation number 310.\n",
      "Running Monte Carlo simulation number 320.\n",
      "Running Monte Carlo simulation number 330.\n",
      "Running Monte Carlo simulation number 340.\n",
      "Running Monte Carlo simulation number 350.\n",
      "Running Monte Carlo simulation number 360.\n",
      "Running Monte Carlo simulation number 370.\n",
      "Running Monte Carlo simulation number 380.\n",
      "Running Monte Carlo simulation number 390.\n",
      "Running Monte Carlo simulation number 400.\n",
      "Running Monte Carlo simulation number 410.\n",
      "Running Monte Carlo simulation number 420.\n",
      "Running Monte Carlo simulation number 430.\n",
      "Running Monte Carlo simulation number 440.\n",
      "Running Monte Carlo simulation number 450.\n",
      "Running Monte Carlo simulation number 460.\n",
      "Running Monte Carlo simulation number 470.\n",
      "Running Monte Carlo simulation number 480.\n",
      "Running Monte Carlo simulation number 490.\n"
     ]
    },
    {
     "data": {
      "text/html": [
       "<div>\n",
       "<style scoped>\n",
       "    .dataframe tbody tr th:only-of-type {\n",
       "        vertical-align: middle;\n",
       "    }\n",
       "\n",
       "    .dataframe tbody tr th {\n",
       "        vertical-align: top;\n",
       "    }\n",
       "\n",
       "    .dataframe thead th {\n",
       "        text-align: right;\n",
       "    }\n",
       "</style>\n",
       "<table border=\"1\" class=\"dataframe\">\n",
       "  <thead>\n",
       "    <tr style=\"text-align: right;\">\n",
       "      <th></th>\n",
       "      <th>0</th>\n",
       "      <th>1</th>\n",
       "      <th>2</th>\n",
       "      <th>3</th>\n",
       "      <th>4</th>\n",
       "      <th>5</th>\n",
       "      <th>6</th>\n",
       "      <th>7</th>\n",
       "      <th>8</th>\n",
       "      <th>9</th>\n",
       "      <th>...</th>\n",
       "      <th>490</th>\n",
       "      <th>491</th>\n",
       "      <th>492</th>\n",
       "      <th>493</th>\n",
       "      <th>494</th>\n",
       "      <th>495</th>\n",
       "      <th>496</th>\n",
       "      <th>497</th>\n",
       "      <th>498</th>\n",
       "      <th>499</th>\n",
       "    </tr>\n",
       "  </thead>\n",
       "  <tbody>\n",
       "    <tr>\n",
       "      <th>0</th>\n",
       "      <td>1.000000</td>\n",
       "      <td>1.000000</td>\n",
       "      <td>1.000000</td>\n",
       "      <td>1.000000</td>\n",
       "      <td>1.000000</td>\n",
       "      <td>1.000000</td>\n",
       "      <td>1.000000</td>\n",
       "      <td>1.000000</td>\n",
       "      <td>1.000000</td>\n",
       "      <td>1.000000</td>\n",
       "      <td>...</td>\n",
       "      <td>1.000000</td>\n",
       "      <td>1.000000</td>\n",
       "      <td>1.000000</td>\n",
       "      <td>1.000000</td>\n",
       "      <td>1.000000</td>\n",
       "      <td>1.000000</td>\n",
       "      <td>1.000000</td>\n",
       "      <td>1.000000</td>\n",
       "      <td>1.000000</td>\n",
       "      <td>1.000000</td>\n",
       "    </tr>\n",
       "    <tr>\n",
       "      <th>1</th>\n",
       "      <td>1.022508</td>\n",
       "      <td>1.017170</td>\n",
       "      <td>1.006359</td>\n",
       "      <td>1.003112</td>\n",
       "      <td>0.995504</td>\n",
       "      <td>0.995863</td>\n",
       "      <td>0.994462</td>\n",
       "      <td>1.017789</td>\n",
       "      <td>0.990825</td>\n",
       "      <td>0.979071</td>\n",
       "      <td>...</td>\n",
       "      <td>0.997545</td>\n",
       "      <td>0.969053</td>\n",
       "      <td>0.991732</td>\n",
       "      <td>1.002959</td>\n",
       "      <td>1.000574</td>\n",
       "      <td>0.996922</td>\n",
       "      <td>0.989219</td>\n",
       "      <td>0.987851</td>\n",
       "      <td>0.990208</td>\n",
       "      <td>1.008936</td>\n",
       "    </tr>\n",
       "    <tr>\n",
       "      <th>2</th>\n",
       "      <td>1.019671</td>\n",
       "      <td>1.021216</td>\n",
       "      <td>1.007418</td>\n",
       "      <td>0.982593</td>\n",
       "      <td>0.995782</td>\n",
       "      <td>1.017818</td>\n",
       "      <td>0.982656</td>\n",
       "      <td>1.005505</td>\n",
       "      <td>0.980249</td>\n",
       "      <td>0.968387</td>\n",
       "      <td>...</td>\n",
       "      <td>0.997327</td>\n",
       "      <td>0.959155</td>\n",
       "      <td>0.987911</td>\n",
       "      <td>0.990884</td>\n",
       "      <td>0.984644</td>\n",
       "      <td>0.995536</td>\n",
       "      <td>1.004205</td>\n",
       "      <td>0.989820</td>\n",
       "      <td>0.996597</td>\n",
       "      <td>0.999805</td>\n",
       "    </tr>\n",
       "    <tr>\n",
       "      <th>3</th>\n",
       "      <td>1.026596</td>\n",
       "      <td>1.006156</td>\n",
       "      <td>1.018294</td>\n",
       "      <td>1.000639</td>\n",
       "      <td>1.002161</td>\n",
       "      <td>1.022781</td>\n",
       "      <td>0.978880</td>\n",
       "      <td>1.019548</td>\n",
       "      <td>0.975234</td>\n",
       "      <td>0.967117</td>\n",
       "      <td>...</td>\n",
       "      <td>1.009736</td>\n",
       "      <td>0.967738</td>\n",
       "      <td>0.992334</td>\n",
       "      <td>1.004788</td>\n",
       "      <td>0.997062</td>\n",
       "      <td>1.006401</td>\n",
       "      <td>0.999832</td>\n",
       "      <td>0.965843</td>\n",
       "      <td>1.002882</td>\n",
       "      <td>1.007963</td>\n",
       "    </tr>\n",
       "    <tr>\n",
       "      <th>4</th>\n",
       "      <td>1.001905</td>\n",
       "      <td>1.007860</td>\n",
       "      <td>1.004689</td>\n",
       "      <td>0.993093</td>\n",
       "      <td>0.999666</td>\n",
       "      <td>1.014015</td>\n",
       "      <td>0.982549</td>\n",
       "      <td>1.026715</td>\n",
       "      <td>0.977008</td>\n",
       "      <td>0.969031</td>\n",
       "      <td>...</td>\n",
       "      <td>1.026677</td>\n",
       "      <td>0.973035</td>\n",
       "      <td>1.006451</td>\n",
       "      <td>1.004473</td>\n",
       "      <td>0.987988</td>\n",
       "      <td>1.014837</td>\n",
       "      <td>0.994631</td>\n",
       "      <td>0.964797</td>\n",
       "      <td>0.991009</td>\n",
       "      <td>1.031408</td>\n",
       "    </tr>\n",
       "    <tr>\n",
       "      <th>...</th>\n",
       "      <td>...</td>\n",
       "      <td>...</td>\n",
       "      <td>...</td>\n",
       "      <td>...</td>\n",
       "      <td>...</td>\n",
       "      <td>...</td>\n",
       "      <td>...</td>\n",
       "      <td>...</td>\n",
       "      <td>...</td>\n",
       "      <td>...</td>\n",
       "      <td>...</td>\n",
       "      <td>...</td>\n",
       "      <td>...</td>\n",
       "      <td>...</td>\n",
       "      <td>...</td>\n",
       "      <td>...</td>\n",
       "      <td>...</td>\n",
       "      <td>...</td>\n",
       "      <td>...</td>\n",
       "      <td>...</td>\n",
       "      <td>...</td>\n",
       "    </tr>\n",
       "    <tr>\n",
       "      <th>2516</th>\n",
       "      <td>4.421754</td>\n",
       "      <td>2.177152</td>\n",
       "      <td>7.400797</td>\n",
       "      <td>6.475662</td>\n",
       "      <td>32.180966</td>\n",
       "      <td>2.460675</td>\n",
       "      <td>3.338567</td>\n",
       "      <td>10.943051</td>\n",
       "      <td>3.091410</td>\n",
       "      <td>5.877112</td>\n",
       "      <td>...</td>\n",
       "      <td>3.912594</td>\n",
       "      <td>2.458488</td>\n",
       "      <td>2.326600</td>\n",
       "      <td>2.028127</td>\n",
       "      <td>5.608340</td>\n",
       "      <td>2.662102</td>\n",
       "      <td>9.644925</td>\n",
       "      <td>2.857780</td>\n",
       "      <td>1.374803</td>\n",
       "      <td>3.943709</td>\n",
       "    </tr>\n",
       "    <tr>\n",
       "      <th>2517</th>\n",
       "      <td>4.396248</td>\n",
       "      <td>2.200369</td>\n",
       "      <td>7.408518</td>\n",
       "      <td>6.535104</td>\n",
       "      <td>31.724656</td>\n",
       "      <td>2.509969</td>\n",
       "      <td>3.332461</td>\n",
       "      <td>11.185940</td>\n",
       "      <td>3.079657</td>\n",
       "      <td>5.827610</td>\n",
       "      <td>...</td>\n",
       "      <td>3.950256</td>\n",
       "      <td>2.447735</td>\n",
       "      <td>2.355841</td>\n",
       "      <td>2.060003</td>\n",
       "      <td>5.569558</td>\n",
       "      <td>2.746524</td>\n",
       "      <td>9.683447</td>\n",
       "      <td>2.855232</td>\n",
       "      <td>1.376449</td>\n",
       "      <td>3.896477</td>\n",
       "    </tr>\n",
       "    <tr>\n",
       "      <th>2518</th>\n",
       "      <td>4.420683</td>\n",
       "      <td>2.201745</td>\n",
       "      <td>7.259190</td>\n",
       "      <td>6.553281</td>\n",
       "      <td>31.345857</td>\n",
       "      <td>2.446858</td>\n",
       "      <td>3.344579</td>\n",
       "      <td>11.083853</td>\n",
       "      <td>3.059041</td>\n",
       "      <td>5.858446</td>\n",
       "      <td>...</td>\n",
       "      <td>3.998351</td>\n",
       "      <td>2.477297</td>\n",
       "      <td>2.338862</td>\n",
       "      <td>2.068379</td>\n",
       "      <td>5.566845</td>\n",
       "      <td>2.724384</td>\n",
       "      <td>9.726754</td>\n",
       "      <td>2.849570</td>\n",
       "      <td>1.368828</td>\n",
       "      <td>3.980555</td>\n",
       "    </tr>\n",
       "    <tr>\n",
       "      <th>2519</th>\n",
       "      <td>4.374553</td>\n",
       "      <td>2.163792</td>\n",
       "      <td>7.341555</td>\n",
       "      <td>6.422156</td>\n",
       "      <td>31.414078</td>\n",
       "      <td>2.454195</td>\n",
       "      <td>3.330151</td>\n",
       "      <td>10.965979</td>\n",
       "      <td>3.053669</td>\n",
       "      <td>5.799549</td>\n",
       "      <td>...</td>\n",
       "      <td>4.042254</td>\n",
       "      <td>2.487241</td>\n",
       "      <td>2.328793</td>\n",
       "      <td>2.067070</td>\n",
       "      <td>5.587550</td>\n",
       "      <td>2.736600</td>\n",
       "      <td>9.842674</td>\n",
       "      <td>2.874597</td>\n",
       "      <td>1.359589</td>\n",
       "      <td>3.925363</td>\n",
       "    </tr>\n",
       "    <tr>\n",
       "      <th>2520</th>\n",
       "      <td>4.494416</td>\n",
       "      <td>2.153527</td>\n",
       "      <td>7.343718</td>\n",
       "      <td>6.387637</td>\n",
       "      <td>31.747560</td>\n",
       "      <td>2.424787</td>\n",
       "      <td>3.361929</td>\n",
       "      <td>10.989275</td>\n",
       "      <td>3.048354</td>\n",
       "      <td>5.761494</td>\n",
       "      <td>...</td>\n",
       "      <td>4.097595</td>\n",
       "      <td>2.506164</td>\n",
       "      <td>2.341578</td>\n",
       "      <td>2.066036</td>\n",
       "      <td>5.583889</td>\n",
       "      <td>2.748244</td>\n",
       "      <td>9.863072</td>\n",
       "      <td>2.864478</td>\n",
       "      <td>1.373634</td>\n",
       "      <td>4.001406</td>\n",
       "    </tr>\n",
       "  </tbody>\n",
       "</table>\n",
       "<p>2521 rows × 500 columns</p>\n",
       "</div>"
      ],
      "text/plain": [
       "           0         1         2         3          4         5         6    \\\n",
       "0     1.000000  1.000000  1.000000  1.000000   1.000000  1.000000  1.000000   \n",
       "1     1.022508  1.017170  1.006359  1.003112   0.995504  0.995863  0.994462   \n",
       "2     1.019671  1.021216  1.007418  0.982593   0.995782  1.017818  0.982656   \n",
       "3     1.026596  1.006156  1.018294  1.000639   1.002161  1.022781  0.978880   \n",
       "4     1.001905  1.007860  1.004689  0.993093   0.999666  1.014015  0.982549   \n",
       "...        ...       ...       ...       ...        ...       ...       ...   \n",
       "2516  4.421754  2.177152  7.400797  6.475662  32.180966  2.460675  3.338567   \n",
       "2517  4.396248  2.200369  7.408518  6.535104  31.724656  2.509969  3.332461   \n",
       "2518  4.420683  2.201745  7.259190  6.553281  31.345857  2.446858  3.344579   \n",
       "2519  4.374553  2.163792  7.341555  6.422156  31.414078  2.454195  3.330151   \n",
       "2520  4.494416  2.153527  7.343718  6.387637  31.747560  2.424787  3.361929   \n",
       "\n",
       "            7         8         9    ...       490       491       492  \\\n",
       "0      1.000000  1.000000  1.000000  ...  1.000000  1.000000  1.000000   \n",
       "1      1.017789  0.990825  0.979071  ...  0.997545  0.969053  0.991732   \n",
       "2      1.005505  0.980249  0.968387  ...  0.997327  0.959155  0.987911   \n",
       "3      1.019548  0.975234  0.967117  ...  1.009736  0.967738  0.992334   \n",
       "4      1.026715  0.977008  0.969031  ...  1.026677  0.973035  1.006451   \n",
       "...         ...       ...       ...  ...       ...       ...       ...   \n",
       "2516  10.943051  3.091410  5.877112  ...  3.912594  2.458488  2.326600   \n",
       "2517  11.185940  3.079657  5.827610  ...  3.950256  2.447735  2.355841   \n",
       "2518  11.083853  3.059041  5.858446  ...  3.998351  2.477297  2.338862   \n",
       "2519  10.965979  3.053669  5.799549  ...  4.042254  2.487241  2.328793   \n",
       "2520  10.989275  3.048354  5.761494  ...  4.097595  2.506164  2.341578   \n",
       "\n",
       "           493       494       495       496       497       498       499  \n",
       "0     1.000000  1.000000  1.000000  1.000000  1.000000  1.000000  1.000000  \n",
       "1     1.002959  1.000574  0.996922  0.989219  0.987851  0.990208  1.008936  \n",
       "2     0.990884  0.984644  0.995536  1.004205  0.989820  0.996597  0.999805  \n",
       "3     1.004788  0.997062  1.006401  0.999832  0.965843  1.002882  1.007963  \n",
       "4     1.004473  0.987988  1.014837  0.994631  0.964797  0.991009  1.031408  \n",
       "...        ...       ...       ...       ...       ...       ...       ...  \n",
       "2516  2.028127  5.608340  2.662102  9.644925  2.857780  1.374803  3.943709  \n",
       "2517  2.060003  5.569558  2.746524  9.683447  2.855232  1.376449  3.896477  \n",
       "2518  2.068379  5.566845  2.724384  9.726754  2.849570  1.368828  3.980555  \n",
       "2519  2.067070  5.587550  2.736600  9.842674  2.874597  1.359589  3.925363  \n",
       "2520  2.066036  5.583889  2.748244  9.863072  2.864478  1.373634  4.001406  \n",
       "\n",
       "[2521 rows x 500 columns]"
      ]
     },
     "execution_count": 46,
     "metadata": {},
     "output_type": "execute_result"
    }
   ],
   "source": [
    "# Run the Monte Carlo simulation to forecast 10 years cumulative returns\n",
    "# YOUR CODE HERE\n",
    "MC_even_weight.calc_cumulative_return()"
   ]
  },
  {
   "cell_type": "code",
   "execution_count": 47,
   "metadata": {},
   "outputs": [
    {
     "data": {
      "image/png": "[encoded data removed]",
      "text/plain": [
       "<Figure size 432x288 with 1 Axes>"
      ]
     },
     "metadata": {
      "needs_background": "light"
     },
     "output_type": "display_data"
    }
   ],
   "source": [
    "# Visualize the 10-year Monte Carlo simulation by creating an\n",
    "# overlay line plot\n",
    "# YOUR CODE HERE\n",
    "even_weight_line_plot = MC_even_weight.plot_simulation()"
   ]
  },
  {
   "cell_type": "code",
   "execution_count": 48,
   "metadata": {},
   "outputs": [
    {
     "data": {
      "image/png": "[encoded data removed]",
      "text/plain": [
       "<Figure size 432x288 with 1 Axes>"
      ]
     },
     "metadata": {
      "needs_background": "light"
     },
     "output_type": "display_data"
    }
   ],
   "source": [
    "# Visualize the probability distribution of the 10-year Monte Carlo simulation \n",
    "# by plotting a histogram\n",
    "# YOUR CODE HERE\n",
    "even_weight_distribution_plot = MC_even_weight.plot_distribution()"
   ]
  },
  {
   "cell_type": "code",
   "execution_count": 49,
   "metadata": {},
   "outputs": [
    {
     "data": {
      "text/plain": [
       "count           500.000000\n",
       "mean              4.524924\n",
       "std               2.843968\n",
       "min               0.733254\n",
       "25%               2.666288\n",
       "50%               3.956809\n",
       "75%               5.580137\n",
       "max              31.747560\n",
       "95% CI Lower      1.210322\n",
       "95% CI Upper     11.057399\n",
       "Name: 2520, dtype: float64"
      ]
     },
     "execution_count": 49,
     "metadata": {},
     "output_type": "execute_result"
    }
   ],
   "source": [
    "# Generate summary statistics from the 10-year Monte Carlo simulation results\n",
    "# Save the results as a variable\n",
    "# YOUR CODE HERE\n",
    "even_weight_table = MC_even_weight.summarize_cumulative_return()\n",
    "\n",
    "# Review the 10-year Monte Carlo summary statistics\n",
    "# YOUR CODE HERE\n",
    "even_weight_table"
   ]
  },
  {
   "cell_type": "markdown",
   "metadata": {},
   "source": [
    "### Answer the following questions:"
   ]
  },
  {
   "cell_type": "markdown",
   "metadata": {},
   "source": [
    "#### Question: Using the current value of only the stock and bond portion of the member's portfolio and the summary statistics that you generated from the new Monte Carlo simulation, what are the lower and upper bounds for the expected value of the portfolio (with the new weights) with a 95% confidence interval?"
   ]
  },
  {
   "cell_type": "code",
   "execution_count": 51,
   "metadata": {},
   "outputs": [
    {
     "name": "stdout",
     "output_type": "stream",
     "text": [
      "The current balance of the stock and bond portion is $71472.3\n"
     ]
    }
   ],
   "source": [
    "# Print the current balance of the stock and bond portion of the members portfolio\n",
    "# YOUR CODE HERE\n",
    "print(f\"The current balance of the stock and bond portion is ${total_stocks_bonds_value}\")"
   ]
  },
  {
   "cell_type": "code",
   "execution_count": 52,
   "metadata": {},
   "outputs": [
    {
     "name": "stdout",
     "output_type": "stream",
     "text": [
      "86504.5\n",
      "790297.73\n"
     ]
    }
   ],
   "source": [
    "# Use the lower and upper `95%` confidence intervals to calculate the range of the possible outcomes for the current stock/bond portfolio\n",
    "ci_lower_ten_cumulative_return = round(even_weight_table[8]*total_stocks_bonds_value,2)\n",
    "ci_upper_ten_cumulative_return = round(even_weight_table[9]*total_stocks_bonds_value,2)\n",
    "\n",
    "# Print the result of your calculations\n",
    "# YOUR CODE HERE\n",
    "print(ci_lower_ten_cumulative_return)\n",
    "print(ci_upper_ten_cumulative_return)"
   ]
  },
  {
   "cell_type": "markdown",
   "metadata": {},
   "source": [
    "#### Question: Will weighting the portfolio more heavily to stocks allow the credit union members to retire after only 10 years?"
   ]
  },
  {
   "cell_type": "raw",
   "metadata": {},
   "source": [
    "**Answer** The upper return looks promising, but the lower return was not. to get a good comparison. we should try also a 40/60 (bond/stock) for 10 years as well and see what the output brings us."
   ]
  },
  {
   "cell_type": "code",
   "execution_count": null,
   "metadata": {},
   "outputs": [],
   "source": []
  }
 ],
 "metadata": {
  "kernelspec": {
   "display_name": "Python 3",
   "language": "python",
   "name": "python3"
  },
  "language_info": {
   "codemirror_mode": {
    "name": "ipython",
    "version": 3
   },
   "file_extension": ".py",
   "mimetype": "text/x-python",
   "name": "python",
   "nbconvert_exporter": "python",
   "pygments_lexer": "ipython3",
   "version": "3.8.8"
  }
 },
 "nbformat": 4,
 "nbformat_minor": 4
}
