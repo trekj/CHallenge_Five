{
 "cells": [
  {
   "cell_type": "markdown",
   "metadata": {},
   "source": [
    "# Financial Planning with APIs and Simulations\n",
    "\n",
    "In this Challenge, you’ll create two financial analysis tools by using a single Jupyter notebook:\n",
    "\n",
    "Part 1: A financial planner for emergencies. The members will be able to use this tool to visualize their current savings. The members can then determine if they have enough reserves for an emergency fund.\n",
    "\n",
    "Part 2: A financial planner for retirement. This tool will forecast the performance of their retirement portfolio in 30 years. To do this, the tool will make an Alpaca API call via the Alpaca SDK to get historical price data for use in Monte Carlo simulations.\n",
    "\n",
    "You’ll use the information from the Monte Carlo simulation to answer questions about the portfolio in your Jupyter notebook.\n",
    "\n"
   ]
  },
  {
   "cell_type": "code",
   "execution_count": 1,
   "metadata": {},
   "outputs": [],
   "source": [
    "# Import the required libraries and dependencies\n",
    "import os\n",
    "import requests\n",
    "import json\n",
    "import pandas as pd\n",
    "from dotenv import load_dotenv\n",
    "import alpaca_trade_api as tradeapi\n",
    "from MCForecastTools import MCSimulation\n",
    "\n",
    "%matplotlib inline"
   ]
  },
  {
   "cell_type": "code",
   "execution_count": 2,
   "metadata": {},
   "outputs": [
    {
     "data": {
      "text/plain": [
       "True"
      ]
     },
     "execution_count": 2,
     "metadata": {},
     "output_type": "execute_result"
    }
   ],
   "source": [
    "# Load the environment variables from the .env file\n",
    "#by calling the load_dotenv function\n",
    "load_dotenv()"
   ]
  },
  {
   "cell_type": "markdown",
   "metadata": {},
   "source": [
    "## Part 1: Create a Financial Planner for Emergencies"
   ]
  },
  {
   "cell_type": "markdown",
   "metadata": {},
   "source": [
    "### Evaluate the Cryptocurrency Wallet by Using the Requests Library\n",
    "\n",
    "In this section, you’ll determine the current value of a member’s cryptocurrency wallet. You’ll collect the current prices for the Bitcoin and Ethereum cryptocurrencies by using the Python Requests library. For the prototype, you’ll assume that the member holds the 1.2 Bitcoins (BTC) and 5.3 Ethereum coins (ETH). To do all this, complete the following steps:\n",
    "\n",
    "1. Create a variable named `monthly_income`, and set its value to `12000`.\n",
    "\n",
    "2. Use the Requests library to get the current price (in US dollars) of Bitcoin (BTC) and Ethereum (ETH) by using the API endpoints that the starter code supplies.\n",
    "\n",
    "3. Navigate the JSON response object to access the current price of each coin, and store each in a variable.\n",
    "\n",
    "    > **Hint** Note the specific identifier for each cryptocurrency in the API JSON response. The Bitcoin identifier is `1`, and the Ethereum identifier is `1027`.\n",
    "\n",
    "4. Calculate the value, in US dollars, of the current amount of each cryptocurrency and of the entire cryptocurrency wallet.\n",
    "\n"
   ]
  },
  {
   "cell_type": "code",
   "execution_count": 3,
   "metadata": {},
   "outputs": [],
   "source": [
    "# The current number of coins for each cryptocurrency asset held in the portfolio.\n",
    "btc_coins = 1.2\n",
    "eth_coins = 5.3"
   ]
  },
  {
   "cell_type": "markdown",
   "metadata": {},
   "source": [
    "#### Step 1: Create a variable named `monthly_income`, and set its value to `12000`."
   ]
  },
  {
   "cell_type": "code",
   "execution_count": 4,
   "metadata": {},
   "outputs": [],
   "source": [
    "# The monthly amount for the member's household income\n",
    "# YOUR CODE HERE\n",
    "monthly_income = 12000\n"
   ]
  },
  {
   "cell_type": "markdown",
   "metadata": {},
   "source": [
    "#### Review the endpoint URLs for the API calls to Free Crypto API in order to get the current pricing information for both BTC and ETH."
   ]
  },
  {
   "cell_type": "code",
   "execution_count": 5,
   "metadata": {},
   "outputs": [],
   "source": [
    "# The Free Crypto API Call endpoint URLs for the held cryptocurrency assets\n",
    "btc_url = \"https://api.alternative.me/v2/ticker/Bitcoin/?convert=USD\"\n",
    "eth_url = \"https://api.alternative.me/v2/ticker/Ethereum/?convert=USD\""
   ]
  },
  {
   "cell_type": "markdown",
   "metadata": {},
   "source": [
    "#### Step 2. Use the Requests library to get the current price (in US dollars) of Bitcoin (BTC) and Ethereum (ETH) by using the API endpoints that the starter code supplied."
   ]
  },
  {
   "cell_type": "code",
   "execution_count": 6,
   "metadata": {},
   "outputs": [
    {
     "name": "stdout",
     "output_type": "stream",
     "text": [
      "{\n",
      "    \"data\": {\n",
      "        \"1\": {\n",
      "            \"circulating_supply\": 18949750,\n",
      "            \"id\": 1,\n",
      "            \"last_updated\": 1644105858,\n",
      "            \"max_supply\": 21000000,\n",
      "            \"name\": \"Bitcoin\",\n",
      "            \"quotes\": {\n",
      "                \"USD\": {\n",
      "                    \"market_cap\": 786295053042,\n",
      "                    \"percent_change_1h\": -0.366159744415361,\n",
      "                    \"percent_change_24h\": -0.0431151313539116,\n",
      "                    \"percent_change_7d\": 8.59522664281825,\n",
      "                    \"percentage_change_1h\": -0.366159744415361,\n",
      "                    \"percentage_change_24h\": -0.0431151313539116,\n",
      "                    \"percentage_change_7d\": 8.59522664281825,\n",
      "                    \"price\": 41518.0,\n",
      "                    \"volume_24h\": 16473806142\n",
      "                }\n",
      "            },\n",
      "            \"rank\": 1,\n",
      "            \"symbol\": \"BTC\",\n",
      "            \"total_supply\": 18949750,\n",
      "            \"website_slug\": \"bitcoin\"\n",
      "        }\n",
      "    },\n",
      "    \"metadata\": {\n",
      "        \"error\": null,\n",
      "        \"num_cryptocurrencies\": 3105,\n",
      "        \"timestamp\": 1644105858\n",
      "    }\n",
      "}\n"
     ]
    }
   ],
   "source": [
    "# Using the Python requests library, make an API call to access the current price of BTC\n",
    "# YOUR CODE HERE\n",
    "btc_response = requests.get(btc_url).json()\n",
    "# Use the json.dumps function to review the response data from the API call\n",
    "# Use the indent and sort_keys parameters to make the response object readable\n",
    "# YOUR CODE HERE\n",
    "print(json.dumps(btc_response, indent=4, sort_keys=True))"
   ]
  },
  {
   "cell_type": "code",
   "execution_count": 7,
   "metadata": {},
   "outputs": [
    {
     "name": "stdout",
     "output_type": "stream",
     "text": [
      "{\n",
      "    \"data\": {\n",
      "        \"1027\": {\n",
      "            \"circulating_supply\": 119461192,\n",
      "            \"id\": 1027,\n",
      "            \"last_updated\": 1644105873,\n",
      "            \"max_supply\": 0,\n",
      "            \"name\": \"Ethereum\",\n",
      "            \"quotes\": {\n",
      "                \"USD\": {\n",
      "                    \"market_cap\": 360812477248,\n",
      "                    \"percent_change_1h\": -0.0985334553593506,\n",
      "                    \"percent_change_24h\": 1.3348418805021,\n",
      "                    \"percent_change_7d\": 16.0909059158564,\n",
      "                    \"percentage_change_1h\": -0.0985334553593506,\n",
      "                    \"percentage_change_24h\": 1.3348418805021,\n",
      "                    \"percentage_change_7d\": 16.0909059158564,\n",
      "                    \"price\": 3022.55,\n",
      "                    \"volume_24h\": 12892423094\n",
      "                }\n",
      "            },\n",
      "            \"rank\": 2,\n",
      "            \"symbol\": \"ETH\",\n",
      "            \"total_supply\": 119461192,\n",
      "            \"website_slug\": \"ethereum\"\n",
      "        }\n",
      "    },\n",
      "    \"metadata\": {\n",
      "        \"error\": null,\n",
      "        \"num_cryptocurrencies\": 3105,\n",
      "        \"timestamp\": 1644105873\n",
      "    }\n",
      "}\n"
     ]
    }
   ],
   "source": [
    "# Using the Python requests library, make an API call to access the current price ETH\n",
    "# YOUR CODE HERE\n",
    "eth_response =  requests.get(eth_url).json()\n",
    "# Use the json.dumps function to review the response data from the API call\n",
    "# Use the indent and sort_keys parameters to make the response object readable\n",
    "# YOUR CODE HERE\n",
    "print(json.dumps(eth_response, indent=4, sort_keys=True))\n"
   ]
  },
  {
   "cell_type": "markdown",
   "metadata": {},
   "source": [
    "#### Step 3: Navigate the JSON response object to access the current price of each coin, and store each in a variable."
   ]
  },
  {
   "cell_type": "code",
   "execution_count": 8,
   "metadata": {},
   "outputs": [
    {
     "name": "stdout",
     "output_type": "stream",
     "text": [
      "The price for BTC is $41518.0\n"
     ]
    }
   ],
   "source": [
    "# Navigate the BTC response object to access the current price of BTC\n",
    "# YOUR CODE HERE\n",
    "btc_price = btc_response[\"data\"][\"1\"][\"quotes\"][\"USD\"][\"price\"]\n",
    "#symbol\n",
    "#btc_symbol = btc_response[\"data\"][\"1\"][\"symbol\"]\n",
    "#print(btc_symbol)\n",
    "\n",
    "# Print the current price of BTC\n",
    "# YOUR CODE HERE\n",
    "print(f\"The price for BTC is ${btc_price}\")"
   ]
  },
  {
   "cell_type": "code",
   "execution_count": 9,
   "metadata": {},
   "outputs": [
    {
     "name": "stdout",
     "output_type": "stream",
     "text": [
      "The price for ETH is $3022.55\n"
     ]
    }
   ],
   "source": [
    "# Navigate the BTC response object to access the current price of ETH\n",
    "eth_price = eth_response[\"data\"][\"1027\"][\"quotes\"][\"USD\"][\"price\"]\n",
    "\n",
    "# Print the current price of ETH\n",
    "# YOUR CODE HERE\n",
    "print(f\"The price for ETH is ${eth_price}\")"
   ]
  },
  {
   "cell_type": "markdown",
   "metadata": {},
   "source": [
    "### Step 4: Calculate the value, in US dollars, of the current amount of each cryptocurrency and of the entire cryptocurrency wallet."
   ]
  },
  {
   "cell_type": "code",
   "execution_count": 10,
   "metadata": {},
   "outputs": [
    {
     "name": "stdout",
     "output_type": "stream",
     "text": [
      " The total value for BTC is $49821.6\n"
     ]
    }
   ],
   "source": [
    "# Compute the current value of the BTC holding \n",
    "btc_value = btc_price * 1.2\n",
    "# YOUR CODE HERE\n",
    "\n",
    "# Print current value of your holding in BTC\n",
    "# YOUR CODE HERE\n",
    "print(f\" The total value for BTC is ${btc_value}\")"
   ]
  },
  {
   "cell_type": "code",
   "execution_count": 11,
   "metadata": {},
   "outputs": [
    {
     "name": "stdout",
     "output_type": "stream",
     "text": [
      "The total value for ETH is $16019.515000000001\n"
     ]
    }
   ],
   "source": [
    "# Compute the current value of the ETH holding \n",
    "eth_value = eth_price *5.3 # YOUR CODE HERE\n",
    "\n",
    "# Print current value of your holding in ETH\n",
    "# YOUR CODE HERE\n",
    "print(f\"The total value for ETH is ${eth_value}\")"
   ]
  },
  {
   "cell_type": "code",
   "execution_count": 12,
   "metadata": {},
   "outputs": [
    {
     "name": "stdout",
     "output_type": "stream",
     "text": [
      "The total crypocurrency wallet balance is $65841.115\n"
     ]
    }
   ],
   "source": [
    "# Compute the total value of the cryptocurrency wallet\n",
    "# Add the value of the BTC holding to the value of the ETH holding\n",
    "total_crypto_wallet =btc_value + eth_value  # YOUR CODE HERE\n",
    "\n",
    "# Print current cryptocurrency wallet balance\n",
    "# YOUR CODE HERE\n",
    "print(f\"The total crypocurrency wallet balance is ${total_crypto_wallet}\")"
   ]
  },
  {
   "cell_type": "markdown",
   "metadata": {},
   "source": [
    "### Evaluate the Stock and Bond Holdings by Using the Alpaca SDK\n",
    "\n",
    "In this section, you’ll determine the current value of a member’s stock and bond holdings. You’ll make an API call to Alpaca via the Alpaca SDK to get the current closing prices of the SPDR S&P 500 ETF Trust (ticker: SPY) and of the iShares Core US Aggregate Bond ETF (ticker: AGG). For the prototype, assume that the member holds 110 shares of SPY, which represents the stock portion of their portfolio, and 200 shares of AGG, which represents the bond portion. To do all this, complete the following steps:\n",
    "\n",
    "1. In the `Starter_Code` folder, create an environment file (`.env`) to store the values of your Alpaca API key and Alpaca secret key.\n",
    "\n",
    "2. Set the variables for the Alpaca API and secret keys. Using the Alpaca SDK, create the Alpaca `tradeapi.REST` object. In this object, include the parameters for the Alpaca API key, the secret key, and the version number.\n",
    "\n",
    "3. Set the following parameters for the Alpaca API call:\n",
    "\n",
    "    - `tickers`: Use the tickers for the member’s stock and bond holdings.\n",
    "\n",
    "    - `timeframe`: Use a time frame of one day.\n",
    "\n",
    "    - `start_date` and `end_date`: Use the same date for these parameters, and format them with the date of the previous weekday (or `2020-08-07`). This is because you want the one closing price for the most-recent trading day.\n",
    "\n",
    "4. Get the current closing prices for `SPY` and `AGG` by using the Alpaca `get_barset` function. Format the response as a Pandas DataFrame by including the `df` property at the end of the `get_barset` function.\n",
    "\n",
    "5. Navigating the Alpaca response DataFrame, select the `SPY` and `AGG` closing prices, and store them as variables.\n",
    "\n",
    "6. Calculate the value, in US dollars, of the current amount of shares in each of the stock and bond portions of the portfolio, and print the results.\n"
   ]
  },
  {
   "cell_type": "markdown",
   "metadata": {},
   "source": [
    "#### Review the total number of shares held in both (SPY) and (AGG)."
   ]
  },
  {
   "cell_type": "code",
   "execution_count": 13,
   "metadata": {},
   "outputs": [],
   "source": [
    "# Current amount of shares held in both the stock (SPY) and bond (AGG) portion of the portfolio.\n",
    "spy_shares = 110\n",
    "agg_shares = 200\n"
   ]
  },
  {
   "cell_type": "markdown",
   "metadata": {},
   "source": [
    "#### Step 1: In the `Starter_Code` folder, create an environment file (`.env`) to store the values of your Alpaca API key and Alpaca secret key."
   ]
  },
  {
   "cell_type": "markdown",
   "metadata": {},
   "source": [
    "#### Step 2: Set the variables for the Alpaca API and secret keys. Using the Alpaca SDK, create the Alpaca `tradeapi.REST` object. In this object, include the parameters for the Alpaca API key, the secret key, and the version number."
   ]
  },
  {
   "cell_type": "code",
   "execution_count": 14,
   "metadata": {},
   "outputs": [],
   "source": [
    "# Set the variables for the Alpaca API and secret keys\n",
    "# YOUR CODE HERE\n",
    "# YOUR CODE HERE\n",
    "alpaca_api_key = os.getenv(\"ALPACA_API_KEY\")\n",
    "alpaca_secret_key = os.getenv(\"ALPACA_SECRET_KEY\")\n",
    "alpaca_api_key \n",
    "alpaca_secret_key \n",
    "# Create the Alpaca tradeapi.REST object\n",
    "# YOUR CODE HERE\n",
    "alpaca = tradeapi.REST(\n",
    "    alpaca_api_key,\n",
    "    alpaca_secret_key,\n",
    "    api_version=\"v2\")"
   ]
  },
  {
   "cell_type": "markdown",
   "metadata": {},
   "source": [
    "#### Step 3: Set the following parameters for the Alpaca API call:\n",
    "\n",
    "- `tickers`: Use the tickers for the member’s stock and bond holdings.\n",
    "\n",
    "- `timeframe`: Use a time frame of one day.\n",
    "\n",
    "- `start_date` and `end_date`: Use the same date for these parameters, and format them with the date of the previous weekday (or `2020-08-07`). This is because you want the one closing price for the most-recent trading day.\n"
   ]
  },
  {
   "cell_type": "code",
   "execution_count": 15,
   "metadata": {},
   "outputs": [],
   "source": [
    "# Set the tickers for both the bond and stock portion of the portfolio\n",
    "# YOUR CODE HERE\n",
    "tickers = [\"AGG\", \"SPY\"]\n",
    "# Set timeframe to 1D \n",
    "# YOUR CODE HERE\n",
    "timeframe = \"1D\"\n",
    "\n",
    "# Format current date as ISO format\n",
    "# Set both the start and end date at the date of your prior weekday \n",
    "# This will give you the closing price of the previous trading day\n",
    "# Alternatively you can use a start and end date of 2020-08-07\n",
    "start_date = pd.Timestamp(\"2022-02-04\", tz=\"America/New_York\").isoformat()\n",
    "end_date = pd.Timestamp(\"2022-02-04\", tz=\"America/New_York\").isoformat()\n"
   ]
  },
  {
   "cell_type": "markdown",
   "metadata": {},
   "source": [
    "#### Step 4: Get the current closing prices for `SPY` and `AGG` by using the Alpaca `get_barset` function. Format the response as a Pandas DataFrame by including the `df` property at the end of the `get_barset` function."
   ]
  },
  {
   "cell_type": "code",
   "execution_count": 16,
   "metadata": {},
   "outputs": [
    {
     "name": "stderr",
     "output_type": "stream",
     "text": [
      "<ipython-input-16-7b9df3626364>:4: DeprecatedWarning: get_barset is deprecated as of v1.0.0. Use get_bars instead\n",
      "  prices_df = alpaca.get_barset(\n"
     ]
    },
    {
     "data": {
      "text/html": [
       "<div>\n",
       "<style scoped>\n",
       "    .dataframe tbody tr th:only-of-type {\n",
       "        vertical-align: middle;\n",
       "    }\n",
       "\n",
       "    .dataframe tbody tr th {\n",
       "        vertical-align: top;\n",
       "    }\n",
       "\n",
       "    .dataframe thead tr th {\n",
       "        text-align: left;\n",
       "    }\n",
       "\n",
       "    .dataframe thead tr:last-of-type th {\n",
       "        text-align: right;\n",
       "    }\n",
       "</style>\n",
       "<table border=\"1\" class=\"dataframe\">\n",
       "  <thead>\n",
       "    <tr>\n",
       "      <th></th>\n",
       "      <th colspan=\"5\" halign=\"left\">AGG</th>\n",
       "      <th colspan=\"5\" halign=\"left\">SPY</th>\n",
       "    </tr>\n",
       "    <tr>\n",
       "      <th></th>\n",
       "      <th>open</th>\n",
       "      <th>high</th>\n",
       "      <th>low</th>\n",
       "      <th>close</th>\n",
       "      <th>volume</th>\n",
       "      <th>open</th>\n",
       "      <th>high</th>\n",
       "      <th>low</th>\n",
       "      <th>close</th>\n",
       "      <th>volume</th>\n",
       "    </tr>\n",
       "    <tr>\n",
       "      <th>time</th>\n",
       "      <th></th>\n",
       "      <th></th>\n",
       "      <th></th>\n",
       "      <th></th>\n",
       "      <th></th>\n",
       "      <th></th>\n",
       "      <th></th>\n",
       "      <th></th>\n",
       "      <th></th>\n",
       "      <th></th>\n",
       "    </tr>\n",
       "  </thead>\n",
       "  <tbody>\n",
       "    <tr>\n",
       "      <th>2022-02-04 00:00:00-05:00</th>\n",
       "      <td>110.75</td>\n",
       "      <td>110.75</td>\n",
       "      <td>110.4707</td>\n",
       "      <td>110.56</td>\n",
       "      <td>6762828</td>\n",
       "      <td>446.35</td>\n",
       "      <td>452.78</td>\n",
       "      <td>443.83</td>\n",
       "      <td>448.73</td>\n",
       "      <td>98775229</td>\n",
       "    </tr>\n",
       "  </tbody>\n",
       "</table>\n",
       "</div>"
      ],
      "text/plain": [
       "                              AGG                                        SPY  \\\n",
       "                             open    high       low   close   volume    open   \n",
       "time                                                                           \n",
       "2022-02-04 00:00:00-05:00  110.75  110.75  110.4707  110.56  6762828  446.35   \n",
       "\n",
       "                                                             \n",
       "                             high     low   close    volume  \n",
       "time                                                         \n",
       "2022-02-04 00:00:00-05:00  452.78  443.83  448.73  98775229  "
      ]
     },
     "execution_count": 16,
     "metadata": {},
     "output_type": "execute_result"
    }
   ],
   "source": [
    "# Use the Alpaca get_barset function to get current closing prices the portfolio\n",
    "# Be sure to set the `df` property after the function to format the response object as a DataFrame\n",
    "# YOUR CODE HERE\n",
    "prices_df = alpaca.get_barset(\n",
    "    tickers,\n",
    "    timeframe,\n",
    "    start=start_date,\n",
    "    end=end_date,\n",
    "    limit=None\n",
    ").df\n",
    "\n",
    "# Review the first 5 rows of the Alpaca DataFrame\n",
    "# YOUR CODE HERE\n",
    "prices_df.head()"
   ]
  },
  {
   "cell_type": "markdown",
   "metadata": {},
   "source": [
    "#### Step 5: Navigating the Alpaca response DataFrame, select the `SPY` and `AGG` closing prices, and store them as variables."
   ]
  },
  {
   "cell_type": "code",
   "execution_count": 17,
   "metadata": {},
   "outputs": [
    {
     "name": "stdout",
     "output_type": "stream",
     "text": [
      " The AGG close price is $110.56\n"
     ]
    }
   ],
   "source": [
    "# Access the closing price for AGG from the Alpaca DataFrame\n",
    "# Converting the value to a floating point number\n",
    "agg_close_price = float(prices_df[\"AGG\"][\"close\"])\n",
    "\n",
    "# Print the AGG closing price\n",
    "# YOUR CODE HERE\n",
    "print(f\" The AGG close price is ${agg_close_price}\")"
   ]
  },
  {
   "cell_type": "code",
   "execution_count": 18,
   "metadata": {},
   "outputs": [
    {
     "name": "stdout",
     "output_type": "stream",
     "text": [
      "The SPY close price is $448.73\n"
     ]
    }
   ],
   "source": [
    "# Access the closing price for SPY from the Alpaca DataFrame\n",
    "# Converting the value to a floating point number\n",
    "spy_close_price = float(prices_df[\"SPY\"][\"close\"])\n",
    "\n",
    "# Print the SPY closing price\n",
    "# YOUR CODE HERE\n",
    "print(f\"The SPY close price is ${spy_close_price}\")"
   ]
  },
  {
   "cell_type": "markdown",
   "metadata": {},
   "source": [
    "#### Step 6: Calculate the value, in US dollars, of the current amount of shares in each of the stock and bond portions of the portfolio, and print the results."
   ]
  },
  {
   "cell_type": "code",
   "execution_count": 19,
   "metadata": {},
   "outputs": [
    {
     "name": "stdout",
     "output_type": "stream",
     "text": [
      "The current value of the bond(AGG) portfolio is $22112.0\n"
     ]
    }
   ],
   "source": [
    "# Calculate the current value of the bond portion of the portfolio\n",
    " # YOUR CODE HERE\n",
    "agg_value = agg_shares * agg_close_price\n",
    "# Print the current value of the bond portfolio\n",
    "# YOUR CODE HERE\n",
    "print(f\"The current value of the bond(AGG) portfolio is ${agg_value}\")"
   ]
  },
  {
   "cell_type": "code",
   "execution_count": 20,
   "metadata": {},
   "outputs": [
    {
     "name": "stdout",
     "output_type": "stream",
     "text": [
      "The current value of the stock (SPY) portfolio is $49360.3\n"
     ]
    }
   ],
   "source": [
    "# Calculate the current value of the stock portion of the portfolio\n",
    "# YOUR CODE HERE\n",
    "spy_value = spy_shares * spy_close_price\n",
    "\n",
    "# Print the current value of the stock portfolio\n",
    "# YOUR CODE HERE\n",
    "print(f\"The current value of the stock (SPY) portfolio is ${spy_value}\")"
   ]
  },
  {
   "cell_type": "code",
   "execution_count": 21,
   "metadata": {},
   "outputs": [
    {
     "name": "stdout",
     "output_type": "stream",
     "text": [
      "The total value of stocks and bonds is $71472.3\n"
     ]
    }
   ],
   "source": [
    "# Calculate the total value of the stock and bond portion of the portfolio\n",
    "# YOUR CODE HERE\n",
    "total_stocks_bonds_value = agg_value + spy_value\n",
    "total_stocks_bonds_value\n",
    "# Print the current balance of the stock and bond portion of the portfolio\n",
    "# YOUR CODE HERE\n",
    "print(f\"The total value of stocks and bonds is ${total_stocks_bonds_value}\")"
   ]
  },
  {
   "cell_type": "code",
   "execution_count": 22,
   "metadata": {},
   "outputs": [
    {
     "name": "stdout",
     "output_type": "stream",
     "text": [
      " The current total portfolio balance is $137313.415\n"
     ]
    }
   ],
   "source": [
    "# Calculate the total value of the member's entire savings portfolio\n",
    "# Add the value of the cryptocurrency walled to the value of the total stocks and bonds\n",
    "# YOUR CODE HERE\n",
    "total_portfolio_value = total_stocks_bonds_value + total_crypto_wallet\n",
    "\n",
    "# Print current cryptocurrency wallet balance\n",
    "# YOUR CODE HERE\n",
    "print(f\" The current total portfolio balance is ${total_portfolio_value}\") # I am assuming this what is being asked and not the current cryptocurrency wallet balance that has been provided already in [12]\n"
   ]
  },
  {
   "cell_type": "markdown",
   "metadata": {},
   "source": [
    "### Evaluate the Emergency Fund\n",
    "\n",
    "In this section, you’ll use the valuations for the cryptocurrency wallet and for the stock and bond portions of the portfolio to determine if the credit union member has enough savings to build an emergency fund into their financial plan. To do this, complete the following steps:\n",
    "\n",
    "1. Create a Python list named `savings_data` that has two elements. The first element contains the total value of the cryptocurrency wallet. The second element contains the total value of the stock and bond portions of the portfolio.\n",
    "\n",
    "2. Use the `savings_data` list to create a Pandas DataFrame named `savings_df`, and then display this DataFrame. The function to create the DataFrame should take the following three parameters:\n",
    "\n",
    "    - `savings_data`: Use the list that you just created.\n",
    "\n",
    "    - `columns`: Set this parameter equal to a Python list with a single value called `amount`.\n",
    "\n",
    "    - `index`: Set this parameter equal to a Python list with the values of `crypto` and `stock/bond`.\n",
    "\n",
    "3. Use the `savings_df` DataFrame to plot a pie chart that visualizes the composition of the member’s portfolio. The y-axis of the pie chart uses `amount`. Be sure to add a title.\n",
    "\n",
    "4. Using Python, determine if the current portfolio has enough to create an emergency fund as part of the member’s financial plan. Ideally, an emergency fund should equal to three times the member’s monthly income. To do this, implement the following steps:\n",
    "\n",
    "    1. Create a variable named `emergency_fund_value`, and set it equal to three times the value of the member’s `monthly_income` of $12000. (You set this earlier in Part 1).\n",
    "\n",
    "    2. Create a series of three if statements to determine if the member’s total portfolio is large enough to fund the emergency portfolio:\n",
    "\n",
    "        1. If the total portfolio value is greater than the emergency fund value, display a message congratulating the member for having enough money in this fund.\n",
    "\n",
    "        2. Else if the total portfolio value is equal to the emergency fund value, display a message congratulating the member on reaching this important financial goal.\n",
    "\n",
    "        3. Else the total portfolio is less than the emergency fund value, so display a message showing how many dollars away the member is from reaching the goal. (Subtract the total portfolio value from the emergency fund value.)\n"
   ]
  },
  {
   "cell_type": "markdown",
   "metadata": {},
   "source": [
    "#### Step 1: Create a Python list named `savings_data` that has two elements. The first element contains the total value of the cryptocurrency wallet. The second element contains the total value of the stock and bond portions of the portfolio."
   ]
  },
  {
   "cell_type": "code",
   "execution_count": 23,
   "metadata": {},
   "outputs": [
    {
     "data": {
      "text/plain": [
       "[65841.115, 71472.3]"
      ]
     },
     "execution_count": 23,
     "metadata": {},
     "output_type": "execute_result"
    }
   ],
   "source": [
    "# Consolidate financial assets data into a Python list\n",
    "# YOUR CODE HERE\n",
    "savings_data = [total_crypto_wallet, total_stocks_bonds_value]\n",
    "\n",
    "# Review the Python list savings_data\n",
    "# YOUR CODE HERE\n",
    "savings_data"
   ]
  },
  {
   "cell_type": "markdown",
   "metadata": {},
   "source": [
    "#### Step 2: Use the `savings_data` list to create a Pandas DataFrame named `savings_df`, and then display this DataFrame. The function to create the DataFrame should take the following three parameters:\n",
    "\n",
    "- `savings_data`: Use the list that you just created.\n",
    "\n",
    "- `columns`: Set this parameter equal to a Python list with a single value called `amount`.\n",
    "\n",
    "- `index`: Set this parameter equal to a Python list with the values of `crypto` and `stock/bond`.\n"
   ]
  },
  {
   "cell_type": "code",
   "execution_count": 24,
   "metadata": {},
   "outputs": [
    {
     "data": {
      "text/html": [
       "<div>\n",
       "<style scoped>\n",
       "    .dataframe tbody tr th:only-of-type {\n",
       "        vertical-align: middle;\n",
       "    }\n",
       "\n",
       "    .dataframe tbody tr th {\n",
       "        vertical-align: top;\n",
       "    }\n",
       "\n",
       "    .dataframe thead th {\n",
       "        text-align: right;\n",
       "    }\n",
       "</style>\n",
       "<table border=\"1\" class=\"dataframe\">\n",
       "  <thead>\n",
       "    <tr style=\"text-align: right;\">\n",
       "      <th></th>\n",
       "      <th>amount</th>\n",
       "    </tr>\n",
       "  </thead>\n",
       "  <tbody>\n",
       "    <tr>\n",
       "      <th>crypto</th>\n",
       "      <td>65841.115</td>\n",
       "    </tr>\n",
       "    <tr>\n",
       "      <th>stock/bond</th>\n",
       "      <td>71472.300</td>\n",
       "    </tr>\n",
       "  </tbody>\n",
       "</table>\n",
       "</div>"
      ],
      "text/plain": [
       "               amount\n",
       "crypto      65841.115\n",
       "stock/bond  71472.300"
      ]
     },
     "execution_count": 24,
     "metadata": {},
     "output_type": "execute_result"
    }
   ],
   "source": [
    "# Create a Pandas DataFrame called savings_df \n",
    "# YOUR CODE HERE\n",
    "#columns = [\"amount\"]\n",
    "#index = [\"crypto\", \"stock/bond\"]\n",
    "savings_df = pd.DataFrame(savings_data, index=(\"crypto\", \"stock/bond\"), columns=[\"amount\"])\n",
    "\n",
    "# Display the savings_df DataFrame\n",
    "# YOUR CODE HERE\n",
    "savings_df\n"
   ]
  },
  {
   "cell_type": "markdown",
   "metadata": {},
   "source": [
    "#### Step 3: Use the `savings_df` DataFrame to plot a pie chart that visualizes the composition of the member’s portfolio. The y-axis of the pie chart uses `amount`. Be sure to add a title."
   ]
  },
  {
   "cell_type": "code",
   "execution_count": 25,
   "metadata": {},
   "outputs": [
    {
     "data": {
      "text/plain": [
       "<AxesSubplot:title={'center':'Pie Chart of the Total Portfolio'}, ylabel='amount'>"
      ]
     },
     "execution_count": 25,
     "metadata": {},
     "output_type": "execute_result"
    },
    {
     "data": {
      "image/png": "[encoded data removed]",
      "text/plain": [
       "<Figure size 432x288 with 1 Axes>"
      ]
     },
     "metadata": {},
     "output_type": "display_data"
    }
   ],
   "source": [
    "# Plot the total value of the member's portfolio (crypto and stock/bond) in a pie chart\n",
    "# YOUR CODE HERE\n",
    "savings_df.plot.pie(y='amount', title=\"Pie Chart of the Total Portfolio\")\n"
   ]
  },
  {
   "cell_type": "markdown",
   "metadata": {},
   "source": [
    "#### Step 4: Using Python, determine if the current portfolio has enough to create an emergency fund as part of the member’s financial plan. Ideally, an emergency fund should equal to three times the member’s monthly income. To do this, implement the following steps:\n",
    "\n",
    "Step 1. Create a variable named `emergency_fund_value`, and set it equal to three times the value of the member’s `monthly_income` of 12000. (You set this earlier in Part 1).\n",
    "\n",
    "Step 2. Create a series of three if statements to determine if the member’s total portfolio is large enough to fund the emergency portfolio:\n",
    "\n",
    "* If the total portfolio value is greater than the emergency fund value, display a message congratulating the member for having enough money in this fund.\n",
    "\n",
    "* Else if the total portfolio value is equal to the emergency fund value, display a message congratulating the member on reaching this important financial goal.\n",
    "\n",
    "* Else the total portfolio is less than the emergency fund value, so display a message showing how many dollars away the member is from reaching the goal. (Subtract the total portfolio value from the emergency fund value.)\n"
   ]
  },
  {
   "cell_type": "markdown",
   "metadata": {},
   "source": [
    "##### Step 4-1: Create a variable named `emergency_fund_value`, and set it equal to three times the value of the member’s `monthly_income` of 12000. (You set this earlier in Part 1)."
   ]
  },
  {
   "cell_type": "code",
   "execution_count": 26,
   "metadata": {},
   "outputs": [
    {
     "data": {
      "text/plain": [
       "36000"
      ]
     },
     "execution_count": 26,
     "metadata": {},
     "output_type": "execute_result"
    }
   ],
   "source": [
    "# Create a variable named emergency_fund_value\n",
    "# YOUR CODE HERE\n",
    "emergency_fund_value = monthly_income * 3\n",
    "\n",
    "emergency_fund_value"
   ]
  },
  {
   "cell_type": "markdown",
   "metadata": {},
   "source": [
    "##### Step 4-2: Create a series of three if statements to determine if the member’s total portfolio is large enough to fund the emergency portfolio:\n",
    "\n",
    "* If the total portfolio value is greater than the emergency fund value, display a message congratulating the member for having enough money in this fund.\n",
    "\n",
    "* Else if the total portfolio value is equal to the emergency fund value, display a message congratulating the member on reaching this important financial goal.\n",
    "\n",
    "* Else the total portfolio is less than the emergency fund value, so display a message showing how many dollars away the member is from reaching the goal. (Subtract the total portfolio value from the emergency fund value.)"
   ]
  },
  {
   "cell_type": "code",
   "execution_count": 27,
   "metadata": {},
   "outputs": [
    {
     "name": "stdout",
     "output_type": "stream",
     "text": [
      "Congratulations, you have enough money to cover for your emergency fund\n"
     ]
    }
   ],
   "source": [
    "# Evaluate the possibility of creating an emergency fund with 3 conditions:\n",
    "# YOUR CODE HERE\n",
    "if total_portfolio_value > emergency_fund_value:\n",
    "    print(f\"Congratulations, you have enough money to cover for your emergency fund\")\n",
    "# YOUR CODE HERE\n",
    "elif total_portfolio_value == emergency_fund_value:\n",
    "    print(f\"Congratualations, you just reached your goal on covering your emergency fund\")\n",
    "else: \n",
    "    amount_needed = emergency_fund_value - total_portfolio_value \n",
    "    print(f\"You are ${amount_needed} away from reaching your goal on covering your emergency fund\")\n",
    " "
   ]
  },
  {
   "cell_type": "markdown",
   "metadata": {},
   "source": [
    "## Part 2: Create a Financial Planner for Retirement"
   ]
  },
  {
   "cell_type": "markdown",
   "metadata": {},
   "source": [
    "### Create the Monte Carlo Simulation\n",
    "\n",
    "In this section, you’ll use the MCForecastTools library to create a Monte Carlo simulation for the member’s savings portfolio. To do this, complete the following steps:\n",
    "\n",
    "1. Make an API call via the Alpaca SDK to get 3 years of historical closing prices for a traditional 60/40 portfolio split: 60% stocks (SPY) and 40% bonds (AGG).\n",
    "\n",
    "2. Run a Monte Carlo simulation of 500 samples and 30 years for the 60/40 portfolio, and then plot the results.The following image shows the overlay line plot resulting from a simulation with these characteristics. However, because a random number generator is used to run each live Monte Carlo simulation, your image will differ slightly from this exact image:\n",
    "\n",
    "![A screenshot depicts the resulting plot.](Images/5-4-monte-carlo-line-plot.png)\n",
    "\n",
    "3. Plot the probability distribution of the Monte Carlo simulation. Plot the probability distribution of the Monte Carlo simulation. The following image shows the histogram plot resulting from a simulation with these characteristics. However, because a random number generator is used to run each live Monte Carlo simulation, your image will differ slightly from this exact image:\n",
    "\n",
    "![A screenshot depicts the histogram plot.](Images/5-4-monte-carlo-histogram.png)\n",
    "\n",
    "4. Generate the summary statistics for the Monte Carlo simulation.\n",
    "\n"
   ]
  },
  {
   "cell_type": "markdown",
   "metadata": {},
   "source": [
    "#### Step 1: Make an API call via the Alpaca SDK to get 3 years of historical closing prices for a traditional 60/40 portfolio split: 60% stocks (SPY) and 40% bonds (AGG)."
   ]
  },
  {
   "cell_type": "code",
   "execution_count": 28,
   "metadata": {},
   "outputs": [],
   "source": [
    "# Set start and end dates of 3 years back from your current date\n",
    "# Alternatively, you can use an end date of 2020-08-07 and work 3 years back from that date \n",
    "# YOUR CODE HERE\n",
    "start_date = pd.Timestamp(\"2019-02-05\", tz=\"America/New_York\").isoformat()\n",
    "end_date = pd.Timestamp(\"2022-02-04\", tz=\"America/New_York\").isoformat()\n",
    "# YOUR CODE HERE\n",
    "\n",
    "# Set number of rows to 1000 to retrieve the maximum amount of rows\n",
    "# YOUR CODE HERE\n",
    "limit_rows=1000"
   ]
  },
  {
   "cell_type": "code",
   "execution_count": 29,
   "metadata": {},
   "outputs": [
    {
     "name": "stderr",
     "output_type": "stream",
     "text": [
      "<ipython-input-29-ca70723ce9de>:6: DeprecatedWarning: get_barset is deprecated as of v1.0.0. Use get_bars instead\n",
      "  prices_df = alpaca.get_barset(\n"
     ]
    },
    {
     "data": {
      "text/html": [
       "<div>\n",
       "<style scoped>\n",
       "    .dataframe tbody tr th:only-of-type {\n",
       "        vertical-align: middle;\n",
       "    }\n",
       "\n",
       "    .dataframe tbody tr th {\n",
       "        vertical-align: top;\n",
       "    }\n",
       "\n",
       "    .dataframe thead tr th {\n",
       "        text-align: left;\n",
       "    }\n",
       "\n",
       "    .dataframe thead tr:last-of-type th {\n",
       "        text-align: right;\n",
       "    }\n",
       "</style>\n",
       "<table border=\"1\" class=\"dataframe\">\n",
       "  <thead>\n",
       "    <tr>\n",
       "      <th></th>\n",
       "      <th colspan=\"5\" halign=\"left\">AGG</th>\n",
       "      <th colspan=\"5\" halign=\"left\">SPY</th>\n",
       "    </tr>\n",
       "    <tr>\n",
       "      <th></th>\n",
       "      <th>open</th>\n",
       "      <th>high</th>\n",
       "      <th>low</th>\n",
       "      <th>close</th>\n",
       "      <th>volume</th>\n",
       "      <th>open</th>\n",
       "      <th>high</th>\n",
       "      <th>low</th>\n",
       "      <th>close</th>\n",
       "      <th>volume</th>\n",
       "    </tr>\n",
       "    <tr>\n",
       "      <th>time</th>\n",
       "      <th></th>\n",
       "      <th></th>\n",
       "      <th></th>\n",
       "      <th></th>\n",
       "      <th></th>\n",
       "      <th></th>\n",
       "      <th></th>\n",
       "      <th></th>\n",
       "      <th></th>\n",
       "      <th></th>\n",
       "    </tr>\n",
       "  </thead>\n",
       "  <tbody>\n",
       "    <tr>\n",
       "      <th>2019-02-05 00:00:00-05:00</th>\n",
       "      <td>106.95</td>\n",
       "      <td>107.1400</td>\n",
       "      <td>106.950</td>\n",
       "      <td>107.0900</td>\n",
       "      <td>4918385</td>\n",
       "      <td>272.44</td>\n",
       "      <td>273.4400</td>\n",
       "      <td>271.88</td>\n",
       "      <td>273.13</td>\n",
       "      <td>61540042</td>\n",
       "    </tr>\n",
       "    <tr>\n",
       "      <th>2019-02-06 00:00:00-05:00</th>\n",
       "      <td>107.20</td>\n",
       "      <td>107.2200</td>\n",
       "      <td>106.985</td>\n",
       "      <td>107.0441</td>\n",
       "      <td>6022187</td>\n",
       "      <td>272.79</td>\n",
       "      <td>273.3400</td>\n",
       "      <td>271.92</td>\n",
       "      <td>272.70</td>\n",
       "      <td>43446324</td>\n",
       "    </tr>\n",
       "    <tr>\n",
       "      <th>2019-02-07 00:00:00-05:00</th>\n",
       "      <td>107.15</td>\n",
       "      <td>107.1983</td>\n",
       "      <td>107.030</td>\n",
       "      <td>107.1500</td>\n",
       "      <td>3080898</td>\n",
       "      <td>270.94</td>\n",
       "      <td>271.5500</td>\n",
       "      <td>268.29</td>\n",
       "      <td>269.97</td>\n",
       "      <td>83380785</td>\n",
       "    </tr>\n",
       "    <tr>\n",
       "      <th>2019-02-08 00:00:00-05:00</th>\n",
       "      <td>107.17</td>\n",
       "      <td>107.3800</td>\n",
       "      <td>107.170</td>\n",
       "      <td>107.3550</td>\n",
       "      <td>2988674</td>\n",
       "      <td>268.75</td>\n",
       "      <td>270.2874</td>\n",
       "      <td>267.83</td>\n",
       "      <td>270.08</td>\n",
       "      <td>63409417</td>\n",
       "    </tr>\n",
       "    <tr>\n",
       "      <th>2019-02-11 00:00:00-05:00</th>\n",
       "      <td>107.23</td>\n",
       "      <td>107.2800</td>\n",
       "      <td>107.150</td>\n",
       "      <td>107.1999</td>\n",
       "      <td>2686282</td>\n",
       "      <td>271.20</td>\n",
       "      <td>271.4900</td>\n",
       "      <td>270.03</td>\n",
       "      <td>270.64</td>\n",
       "      <td>57175393</td>\n",
       "    </tr>\n",
       "  </tbody>\n",
       "</table>\n",
       "</div>"
      ],
      "text/plain": [
       "                              AGG                                        \\\n",
       "                             open      high      low     close   volume   \n",
       "time                                                                      \n",
       "2019-02-05 00:00:00-05:00  106.95  107.1400  106.950  107.0900  4918385   \n",
       "2019-02-06 00:00:00-05:00  107.20  107.2200  106.985  107.0441  6022187   \n",
       "2019-02-07 00:00:00-05:00  107.15  107.1983  107.030  107.1500  3080898   \n",
       "2019-02-08 00:00:00-05:00  107.17  107.3800  107.170  107.3550  2988674   \n",
       "2019-02-11 00:00:00-05:00  107.23  107.2800  107.150  107.1999  2686282   \n",
       "\n",
       "                              SPY                                      \n",
       "                             open      high     low   close    volume  \n",
       "time                                                                   \n",
       "2019-02-05 00:00:00-05:00  272.44  273.4400  271.88  273.13  61540042  \n",
       "2019-02-06 00:00:00-05:00  272.79  273.3400  271.92  272.70  43446324  \n",
       "2019-02-07 00:00:00-05:00  270.94  271.5500  268.29  269.97  83380785  \n",
       "2019-02-08 00:00:00-05:00  268.75  270.2874  267.83  270.08  63409417  \n",
       "2019-02-11 00:00:00-05:00  271.20  271.4900  270.03  270.64  57175393  "
      ]
     },
     "metadata": {},
     "output_type": "display_data"
    },
    {
     "data": {
      "text/html": [
       "<div>\n",
       "<style scoped>\n",
       "    .dataframe tbody tr th:only-of-type {\n",
       "        vertical-align: middle;\n",
       "    }\n",
       "\n",
       "    .dataframe tbody tr th {\n",
       "        vertical-align: top;\n",
       "    }\n",
       "\n",
       "    .dataframe thead tr th {\n",
       "        text-align: left;\n",
       "    }\n",
       "\n",
       "    .dataframe thead tr:last-of-type th {\n",
       "        text-align: right;\n",
       "    }\n",
       "</style>\n",
       "<table border=\"1\" class=\"dataframe\">\n",
       "  <thead>\n",
       "    <tr>\n",
       "      <th></th>\n",
       "      <th colspan=\"5\" halign=\"left\">AGG</th>\n",
       "      <th colspan=\"5\" halign=\"left\">SPY</th>\n",
       "    </tr>\n",
       "    <tr>\n",
       "      <th></th>\n",
       "      <th>open</th>\n",
       "      <th>high</th>\n",
       "      <th>low</th>\n",
       "      <th>close</th>\n",
       "      <th>volume</th>\n",
       "      <th>open</th>\n",
       "      <th>high</th>\n",
       "      <th>low</th>\n",
       "      <th>close</th>\n",
       "      <th>volume</th>\n",
       "    </tr>\n",
       "    <tr>\n",
       "      <th>time</th>\n",
       "      <th></th>\n",
       "      <th></th>\n",
       "      <th></th>\n",
       "      <th></th>\n",
       "      <th></th>\n",
       "      <th></th>\n",
       "      <th></th>\n",
       "      <th></th>\n",
       "      <th></th>\n",
       "      <th></th>\n",
       "    </tr>\n",
       "  </thead>\n",
       "  <tbody>\n",
       "    <tr>\n",
       "      <th>2022-01-31 00:00:00-05:00</th>\n",
       "      <td>111.64</td>\n",
       "      <td>111.8900</td>\n",
       "      <td>111.6000</td>\n",
       "      <td>111.78</td>\n",
       "      <td>11437834</td>\n",
       "      <td>441.24</td>\n",
       "      <td>450.28</td>\n",
       "      <td>439.8100</td>\n",
       "      <td>449.815</td>\n",
       "      <td>128202383</td>\n",
       "    </tr>\n",
       "    <tr>\n",
       "      <th>2022-02-01 00:00:00-05:00</th>\n",
       "      <td>111.66</td>\n",
       "      <td>111.6764</td>\n",
       "      <td>111.3800</td>\n",
       "      <td>111.59</td>\n",
       "      <td>9477222</td>\n",
       "      <td>450.72</td>\n",
       "      <td>453.63</td>\n",
       "      <td>446.9384</td>\n",
       "      <td>452.960</td>\n",
       "      <td>106515279</td>\n",
       "    </tr>\n",
       "    <tr>\n",
       "      <th>2022-02-02 00:00:00-05:00</th>\n",
       "      <td>111.70</td>\n",
       "      <td>111.9700</td>\n",
       "      <td>111.6744</td>\n",
       "      <td>111.72</td>\n",
       "      <td>7424696</td>\n",
       "      <td>455.50</td>\n",
       "      <td>458.12</td>\n",
       "      <td>453.0500</td>\n",
       "      <td>457.300</td>\n",
       "      <td>97807976</td>\n",
       "    </tr>\n",
       "    <tr>\n",
       "      <th>2022-02-03 00:00:00-05:00</th>\n",
       "      <td>111.26</td>\n",
       "      <td>111.3700</td>\n",
       "      <td>111.1300</td>\n",
       "      <td>111.27</td>\n",
       "      <td>9480330</td>\n",
       "      <td>450.95</td>\n",
       "      <td>452.97</td>\n",
       "      <td>445.7100</td>\n",
       "      <td>446.640</td>\n",
       "      <td>99110054</td>\n",
       "    </tr>\n",
       "    <tr>\n",
       "      <th>2022-02-04 00:00:00-05:00</th>\n",
       "      <td>110.75</td>\n",
       "      <td>110.7500</td>\n",
       "      <td>110.4707</td>\n",
       "      <td>110.56</td>\n",
       "      <td>6762828</td>\n",
       "      <td>446.35</td>\n",
       "      <td>452.78</td>\n",
       "      <td>443.8300</td>\n",
       "      <td>448.730</td>\n",
       "      <td>98775229</td>\n",
       "    </tr>\n",
       "  </tbody>\n",
       "</table>\n",
       "</div>"
      ],
      "text/plain": [
       "                              AGG                                        \\\n",
       "                             open      high       low   close    volume   \n",
       "time                                                                      \n",
       "2022-01-31 00:00:00-05:00  111.64  111.8900  111.6000  111.78  11437834   \n",
       "2022-02-01 00:00:00-05:00  111.66  111.6764  111.3800  111.59   9477222   \n",
       "2022-02-02 00:00:00-05:00  111.70  111.9700  111.6744  111.72   7424696   \n",
       "2022-02-03 00:00:00-05:00  111.26  111.3700  111.1300  111.27   9480330   \n",
       "2022-02-04 00:00:00-05:00  110.75  110.7500  110.4707  110.56   6762828   \n",
       "\n",
       "                              SPY                                        \n",
       "                             open    high       low    close     volume  \n",
       "time                                                                     \n",
       "2022-01-31 00:00:00-05:00  441.24  450.28  439.8100  449.815  128202383  \n",
       "2022-02-01 00:00:00-05:00  450.72  453.63  446.9384  452.960  106515279  \n",
       "2022-02-02 00:00:00-05:00  455.50  458.12  453.0500  457.300   97807976  \n",
       "2022-02-03 00:00:00-05:00  450.95  452.97  445.7100  446.640   99110054  \n",
       "2022-02-04 00:00:00-05:00  446.35  452.78  443.8300  448.730   98775229  "
      ]
     },
     "metadata": {},
     "output_type": "display_data"
    }
   ],
   "source": [
    "# Use the Alpaca get_barset function to make the API call to get the 3 years worth of pricing data\n",
    "# The tickers and timeframe parameters should have been set in Part 1 of this activity \n",
    "# The start and end dates should be updated with the information set above\n",
    "# Remember to add the df property to the end of the call so the response is returned as a DataFrame\n",
    "# YOUR CODE HERE\n",
    "prices_df = alpaca.get_barset(\n",
    "    tickers,\n",
    "    timeframe,\n",
    "    start=start_date,\n",
    "    end=end_date,\n",
    "    limit=limit_rows\n",
    ").df\n",
    "\n",
    "# Display both the first and last five rows of the DataFrame\n",
    "# YOUR CODE HERE\n",
    "display(prices_df.head())\n",
    "\n",
    "\n",
    "# YOUR CODE HERE\n",
    "display(prices_df.tail())"
   ]
  },
  {
   "cell_type": "markdown",
   "metadata": {},
   "source": [
    "#### Step 2: Run a Monte Carlo simulation of 500 samples and 30 years for the 60/40 portfolio, and then plot the results."
   ]
  },
  {
   "cell_type": "code",
   "execution_count": 30,
   "metadata": {},
   "outputs": [
    {
     "data": {
      "text/html": [
       "<div>\n",
       "<style scoped>\n",
       "    .dataframe tbody tr th:only-of-type {\n",
       "        vertical-align: middle;\n",
       "    }\n",
       "\n",
       "    .dataframe tbody tr th {\n",
       "        vertical-align: top;\n",
       "    }\n",
       "\n",
       "    .dataframe thead tr th {\n",
       "        text-align: left;\n",
       "    }\n",
       "\n",
       "    .dataframe thead tr:last-of-type th {\n",
       "        text-align: right;\n",
       "    }\n",
       "</style>\n",
       "<table border=\"1\" class=\"dataframe\">\n",
       "  <thead>\n",
       "    <tr>\n",
       "      <th></th>\n",
       "      <th colspan=\"6\" halign=\"left\">AGG</th>\n",
       "      <th colspan=\"6\" halign=\"left\">SPY</th>\n",
       "    </tr>\n",
       "    <tr>\n",
       "      <th></th>\n",
       "      <th>open</th>\n",
       "      <th>high</th>\n",
       "      <th>low</th>\n",
       "      <th>close</th>\n",
       "      <th>volume</th>\n",
       "      <th>daily_return</th>\n",
       "      <th>open</th>\n",
       "      <th>high</th>\n",
       "      <th>low</th>\n",
       "      <th>close</th>\n",
       "      <th>volume</th>\n",
       "      <th>daily_return</th>\n",
       "    </tr>\n",
       "    <tr>\n",
       "      <th>time</th>\n",
       "      <th></th>\n",
       "      <th></th>\n",
       "      <th></th>\n",
       "      <th></th>\n",
       "      <th></th>\n",
       "      <th></th>\n",
       "      <th></th>\n",
       "      <th></th>\n",
       "      <th></th>\n",
       "      <th></th>\n",
       "      <th></th>\n",
       "      <th></th>\n",
       "    </tr>\n",
       "  </thead>\n",
       "  <tbody>\n",
       "    <tr>\n",
       "      <th>2022-01-31 00:00:00-05:00</th>\n",
       "      <td>111.64</td>\n",
       "      <td>111.8900</td>\n",
       "      <td>111.6000</td>\n",
       "      <td>111.78</td>\n",
       "      <td>11437834</td>\n",
       "      <td>-0.000268</td>\n",
       "      <td>441.24</td>\n",
       "      <td>450.28</td>\n",
       "      <td>439.8100</td>\n",
       "      <td>449.815</td>\n",
       "      <td>128202383</td>\n",
       "      <td>0.017865</td>\n",
       "    </tr>\n",
       "    <tr>\n",
       "      <th>2022-02-01 00:00:00-05:00</th>\n",
       "      <td>111.66</td>\n",
       "      <td>111.6764</td>\n",
       "      <td>111.3800</td>\n",
       "      <td>111.59</td>\n",
       "      <td>9477222</td>\n",
       "      <td>-0.001700</td>\n",
       "      <td>450.72</td>\n",
       "      <td>453.63</td>\n",
       "      <td>446.9384</td>\n",
       "      <td>452.960</td>\n",
       "      <td>106515279</td>\n",
       "      <td>0.006992</td>\n",
       "    </tr>\n",
       "    <tr>\n",
       "      <th>2022-02-02 00:00:00-05:00</th>\n",
       "      <td>111.70</td>\n",
       "      <td>111.9700</td>\n",
       "      <td>111.6744</td>\n",
       "      <td>111.72</td>\n",
       "      <td>7424696</td>\n",
       "      <td>0.001165</td>\n",
       "      <td>455.50</td>\n",
       "      <td>458.12</td>\n",
       "      <td>453.0500</td>\n",
       "      <td>457.300</td>\n",
       "      <td>97807976</td>\n",
       "      <td>0.009581</td>\n",
       "    </tr>\n",
       "    <tr>\n",
       "      <th>2022-02-03 00:00:00-05:00</th>\n",
       "      <td>111.26</td>\n",
       "      <td>111.3700</td>\n",
       "      <td>111.1300</td>\n",
       "      <td>111.27</td>\n",
       "      <td>9480330</td>\n",
       "      <td>-0.004028</td>\n",
       "      <td>450.95</td>\n",
       "      <td>452.97</td>\n",
       "      <td>445.7100</td>\n",
       "      <td>446.640</td>\n",
       "      <td>99110054</td>\n",
       "      <td>-0.023311</td>\n",
       "    </tr>\n",
       "    <tr>\n",
       "      <th>2022-02-04 00:00:00-05:00</th>\n",
       "      <td>110.75</td>\n",
       "      <td>110.7500</td>\n",
       "      <td>110.4707</td>\n",
       "      <td>110.56</td>\n",
       "      <td>6762828</td>\n",
       "      <td>-0.006381</td>\n",
       "      <td>446.35</td>\n",
       "      <td>452.78</td>\n",
       "      <td>443.8300</td>\n",
       "      <td>448.730</td>\n",
       "      <td>98775229</td>\n",
       "      <td>0.004679</td>\n",
       "    </tr>\n",
       "  </tbody>\n",
       "</table>\n",
       "</div>"
      ],
      "text/plain": [
       "                              AGG                                        \\\n",
       "                             open      high       low   close    volume   \n",
       "time                                                                      \n",
       "2022-01-31 00:00:00-05:00  111.64  111.8900  111.6000  111.78  11437834   \n",
       "2022-02-01 00:00:00-05:00  111.66  111.6764  111.3800  111.59   9477222   \n",
       "2022-02-02 00:00:00-05:00  111.70  111.9700  111.6744  111.72   7424696   \n",
       "2022-02-03 00:00:00-05:00  111.26  111.3700  111.1300  111.27   9480330   \n",
       "2022-02-04 00:00:00-05:00  110.75  110.7500  110.4707  110.56   6762828   \n",
       "\n",
       "                                           SPY                             \\\n",
       "                          daily_return    open    high       low    close   \n",
       "time                                                                        \n",
       "2022-01-31 00:00:00-05:00    -0.000268  441.24  450.28  439.8100  449.815   \n",
       "2022-02-01 00:00:00-05:00    -0.001700  450.72  453.63  446.9384  452.960   \n",
       "2022-02-02 00:00:00-05:00     0.001165  455.50  458.12  453.0500  457.300   \n",
       "2022-02-03 00:00:00-05:00    -0.004028  450.95  452.97  445.7100  446.640   \n",
       "2022-02-04 00:00:00-05:00    -0.006381  446.35  452.78  443.8300  448.730   \n",
       "\n",
       "                                                   \n",
       "                              volume daily_return  \n",
       "time                                               \n",
       "2022-01-31 00:00:00-05:00  128202383     0.017865  \n",
       "2022-02-01 00:00:00-05:00  106515279     0.006992  \n",
       "2022-02-02 00:00:00-05:00   97807976     0.009581  \n",
       "2022-02-03 00:00:00-05:00   99110054    -0.023311  \n",
       "2022-02-04 00:00:00-05:00   98775229     0.004679  "
      ]
     },
     "execution_count": 30,
     "metadata": {},
     "output_type": "execute_result"
    }
   ],
   "source": [
    "# Configure the Monte Carlo simulation to forecast 30 years cumulative returns\n",
    "# The weights should be split 40% to AGG and 60% to SPY.\n",
    "# Run 500 samples.\n",
    "# YOUR CODE HERE\n",
    "MC_even_weight = MCSimulation(\n",
    "    portfolio_data = prices_df,\n",
    "    weights = [.40,.60,],\n",
    "    num_simulation = 500,\n",
    "    num_trading_days = 252*30\n",
    ")\n",
    "\n",
    "# Review the simulation input data\n",
    "# YOUR CODE HERE\n",
    "MC_even_weight.portfolio_data.tail()"
   ]
  },
  {
   "cell_type": "code",
   "execution_count": 31,
   "metadata": {},
   "outputs": [
    {
     "name": "stdout",
     "output_type": "stream",
     "text": [
      "Running Monte Carlo simulation number 0.\n",
      "Running Monte Carlo simulation number 10.\n",
      "Running Monte Carlo simulation number 20.\n",
      "Running Monte Carlo simulation number 30.\n",
      "Running Monte Carlo simulation number 40.\n",
      "Running Monte Carlo simulation number 50.\n",
      "Running Monte Carlo simulation number 60.\n",
      "Running Monte Carlo simulation number 70.\n",
      "Running Monte Carlo simulation number 80.\n",
      "Running Monte Carlo simulation number 90.\n",
      "Running Monte Carlo simulation number 100.\n",
      "Running Monte Carlo simulation number 110.\n",
      "Running Monte Carlo simulation number 120.\n",
      "Running Monte Carlo simulation number 130.\n",
      "Running Monte Carlo simulation number 140.\n",
      "Running Monte Carlo simulation number 150.\n",
      "Running Monte Carlo simulation number 160.\n",
      "Running Monte Carlo simulation number 170.\n",
      "Running Monte Carlo simulation number 180.\n",
      "Running Monte Carlo simulation number 190.\n",
      "Running Monte Carlo simulation number 200.\n",
      "Running Monte Carlo simulation number 210.\n",
      "Running Monte Carlo simulation number 220.\n",
      "Running Monte Carlo simulation number 230.\n",
      "Running Monte Carlo simulation number 240.\n",
      "Running Monte Carlo simulation number 250.\n",
      "Running Monte Carlo simulation number 260.\n",
      "Running Monte Carlo simulation number 270.\n",
      "Running Monte Carlo simulation number 280.\n",
      "Running Monte Carlo simulation number 290.\n",
      "Running Monte Carlo simulation number 300.\n",
      "Running Monte Carlo simulation number 310.\n",
      "Running Monte Carlo simulation number 320.\n",
      "Running Monte Carlo simulation number 330.\n",
      "Running Monte Carlo simulation number 340.\n",
      "Running Monte Carlo simulation number 350.\n",
      "Running Monte Carlo simulation number 360.\n",
      "Running Monte Carlo simulation number 370.\n",
      "Running Monte Carlo simulation number 380.\n",
      "Running Monte Carlo simulation number 390.\n",
      "Running Monte Carlo simulation number 400.\n",
      "Running Monte Carlo simulation number 410.\n",
      "Running Monte Carlo simulation number 420.\n",
      "Running Monte Carlo simulation number 430.\n",
      "Running Monte Carlo simulation number 440.\n",
      "Running Monte Carlo simulation number 450.\n",
      "Running Monte Carlo simulation number 460.\n",
      "Running Monte Carlo simulation number 470.\n",
      "Running Monte Carlo simulation number 480.\n",
      "Running Monte Carlo simulation number 490.\n"
     ]
    },
    {
     "data": {
      "text/html": [
       "<div>\n",
       "<style scoped>\n",
       "    .dataframe tbody tr th:only-of-type {\n",
       "        vertical-align: middle;\n",
       "    }\n",
       "\n",
       "    .dataframe tbody tr th {\n",
       "        vertical-align: top;\n",
       "    }\n",
       "\n",
       "    .dataframe thead th {\n",
       "        text-align: right;\n",
       "    }\n",
       "</style>\n",
       "<table border=\"1\" class=\"dataframe\">\n",
       "  <thead>\n",
       "    <tr style=\"text-align: right;\">\n",
       "      <th></th>\n",
       "      <th>0</th>\n",
       "      <th>1</th>\n",
       "      <th>2</th>\n",
       "      <th>3</th>\n",
       "      <th>4</th>\n",
       "      <th>5</th>\n",
       "      <th>6</th>\n",
       "      <th>7</th>\n",
       "      <th>8</th>\n",
       "      <th>9</th>\n",
       "      <th>...</th>\n",
       "      <th>490</th>\n",
       "      <th>491</th>\n",
       "      <th>492</th>\n",
       "      <th>493</th>\n",
       "      <th>494</th>\n",
       "      <th>495</th>\n",
       "      <th>496</th>\n",
       "      <th>497</th>\n",
       "      <th>498</th>\n",
       "      <th>499</th>\n",
       "    </tr>\n",
       "  </thead>\n",
       "  <tbody>\n",
       "    <tr>\n",
       "      <th>0</th>\n",
       "      <td>1.000000</td>\n",
       "      <td>1.000000</td>\n",
       "      <td>1.000000</td>\n",
       "      <td>1.000000</td>\n",
       "      <td>1.000000</td>\n",
       "      <td>1.000000</td>\n",
       "      <td>1.000000</td>\n",
       "      <td>1.000000</td>\n",
       "      <td>1.000000</td>\n",
       "      <td>1.000000</td>\n",
       "      <td>...</td>\n",
       "      <td>1.000000</td>\n",
       "      <td>1.000000</td>\n",
       "      <td>1.000000</td>\n",
       "      <td>1.000000</td>\n",
       "      <td>1.000000</td>\n",
       "      <td>1.000000</td>\n",
       "      <td>1.000000</td>\n",
       "      <td>1.000000</td>\n",
       "      <td>1.000000</td>\n",
       "      <td>1.000000</td>\n",
       "    </tr>\n",
       "    <tr>\n",
       "      <th>1</th>\n",
       "      <td>1.004488</td>\n",
       "      <td>0.999742</td>\n",
       "      <td>0.997338</td>\n",
       "      <td>0.990442</td>\n",
       "      <td>1.002315</td>\n",
       "      <td>1.001549</td>\n",
       "      <td>1.007803</td>\n",
       "      <td>0.988234</td>\n",
       "      <td>1.002208</td>\n",
       "      <td>0.997339</td>\n",
       "      <td>...</td>\n",
       "      <td>0.999461</td>\n",
       "      <td>0.999313</td>\n",
       "      <td>1.013354</td>\n",
       "      <td>1.008048</td>\n",
       "      <td>0.996509</td>\n",
       "      <td>0.981400</td>\n",
       "      <td>1.003502</td>\n",
       "      <td>0.997353</td>\n",
       "      <td>0.992814</td>\n",
       "      <td>1.002760</td>\n",
       "    </tr>\n",
       "    <tr>\n",
       "      <th>2</th>\n",
       "      <td>1.009676</td>\n",
       "      <td>0.999254</td>\n",
       "      <td>0.993675</td>\n",
       "      <td>0.992902</td>\n",
       "      <td>1.011124</td>\n",
       "      <td>1.013735</td>\n",
       "      <td>1.003103</td>\n",
       "      <td>0.991356</td>\n",
       "      <td>1.008997</td>\n",
       "      <td>1.000436</td>\n",
       "      <td>...</td>\n",
       "      <td>1.004542</td>\n",
       "      <td>1.002202</td>\n",
       "      <td>1.031843</td>\n",
       "      <td>1.002573</td>\n",
       "      <td>0.995212</td>\n",
       "      <td>0.975544</td>\n",
       "      <td>0.993466</td>\n",
       "      <td>0.997053</td>\n",
       "      <td>1.003994</td>\n",
       "      <td>0.996573</td>\n",
       "    </tr>\n",
       "    <tr>\n",
       "      <th>3</th>\n",
       "      <td>1.014362</td>\n",
       "      <td>1.000247</td>\n",
       "      <td>0.986351</td>\n",
       "      <td>1.003170</td>\n",
       "      <td>1.029429</td>\n",
       "      <td>1.001564</td>\n",
       "      <td>0.995660</td>\n",
       "      <td>0.999689</td>\n",
       "      <td>1.018135</td>\n",
       "      <td>1.003707</td>\n",
       "      <td>...</td>\n",
       "      <td>0.994457</td>\n",
       "      <td>1.019513</td>\n",
       "      <td>1.036077</td>\n",
       "      <td>1.008460</td>\n",
       "      <td>1.012470</td>\n",
       "      <td>0.966554</td>\n",
       "      <td>0.981001</td>\n",
       "      <td>0.990111</td>\n",
       "      <td>1.010178</td>\n",
       "      <td>1.005553</td>\n",
       "    </tr>\n",
       "    <tr>\n",
       "      <th>4</th>\n",
       "      <td>1.008609</td>\n",
       "      <td>0.996577</td>\n",
       "      <td>0.989547</td>\n",
       "      <td>1.006278</td>\n",
       "      <td>1.030503</td>\n",
       "      <td>0.989004</td>\n",
       "      <td>0.993043</td>\n",
       "      <td>1.006216</td>\n",
       "      <td>1.028184</td>\n",
       "      <td>1.008490</td>\n",
       "      <td>...</td>\n",
       "      <td>1.005751</td>\n",
       "      <td>1.027363</td>\n",
       "      <td>1.050286</td>\n",
       "      <td>1.007819</td>\n",
       "      <td>0.999718</td>\n",
       "      <td>0.973578</td>\n",
       "      <td>0.978142</td>\n",
       "      <td>0.996195</td>\n",
       "      <td>1.007877</td>\n",
       "      <td>1.003932</td>\n",
       "    </tr>\n",
       "    <tr>\n",
       "      <th>...</th>\n",
       "      <td>...</td>\n",
       "      <td>...</td>\n",
       "      <td>...</td>\n",
       "      <td>...</td>\n",
       "      <td>...</td>\n",
       "      <td>...</td>\n",
       "      <td>...</td>\n",
       "      <td>...</td>\n",
       "      <td>...</td>\n",
       "      <td>...</td>\n",
       "      <td>...</td>\n",
       "      <td>...</td>\n",
       "      <td>...</td>\n",
       "      <td>...</td>\n",
       "      <td>...</td>\n",
       "      <td>...</td>\n",
       "      <td>...</td>\n",
       "      <td>...</td>\n",
       "      <td>...</td>\n",
       "      <td>...</td>\n",
       "      <td>...</td>\n",
       "    </tr>\n",
       "    <tr>\n",
       "      <th>7556</th>\n",
       "      <td>62.724926</td>\n",
       "      <td>15.652184</td>\n",
       "      <td>11.605306</td>\n",
       "      <td>15.934698</td>\n",
       "      <td>53.028535</td>\n",
       "      <td>29.316531</td>\n",
       "      <td>15.893055</td>\n",
       "      <td>52.797246</td>\n",
       "      <td>26.657010</td>\n",
       "      <td>30.232818</td>\n",
       "      <td>...</td>\n",
       "      <td>16.814439</td>\n",
       "      <td>7.492109</td>\n",
       "      <td>26.200214</td>\n",
       "      <td>74.489778</td>\n",
       "      <td>9.494444</td>\n",
       "      <td>29.420331</td>\n",
       "      <td>14.906534</td>\n",
       "      <td>36.572615</td>\n",
       "      <td>64.149227</td>\n",
       "      <td>7.569005</td>\n",
       "    </tr>\n",
       "    <tr>\n",
       "      <th>7557</th>\n",
       "      <td>62.935714</td>\n",
       "      <td>15.666469</td>\n",
       "      <td>11.692388</td>\n",
       "      <td>15.854530</td>\n",
       "      <td>53.297605</td>\n",
       "      <td>29.095489</td>\n",
       "      <td>15.977642</td>\n",
       "      <td>53.467044</td>\n",
       "      <td>26.605633</td>\n",
       "      <td>30.173432</td>\n",
       "      <td>...</td>\n",
       "      <td>16.869461</td>\n",
       "      <td>7.527897</td>\n",
       "      <td>26.009233</td>\n",
       "      <td>74.898178</td>\n",
       "      <td>9.563738</td>\n",
       "      <td>29.581814</td>\n",
       "      <td>14.794279</td>\n",
       "      <td>36.747725</td>\n",
       "      <td>63.941180</td>\n",
       "      <td>7.658502</td>\n",
       "    </tr>\n",
       "    <tr>\n",
       "      <th>7558</th>\n",
       "      <td>63.550241</td>\n",
       "      <td>15.852304</td>\n",
       "      <td>11.681150</td>\n",
       "      <td>15.422182</td>\n",
       "      <td>53.134424</td>\n",
       "      <td>29.019092</td>\n",
       "      <td>15.851032</td>\n",
       "      <td>53.884646</td>\n",
       "      <td>26.575283</td>\n",
       "      <td>30.019981</td>\n",
       "      <td>...</td>\n",
       "      <td>16.864923</td>\n",
       "      <td>7.523292</td>\n",
       "      <td>25.938453</td>\n",
       "      <td>74.505770</td>\n",
       "      <td>9.444899</td>\n",
       "      <td>29.863317</td>\n",
       "      <td>14.851547</td>\n",
       "      <td>36.893260</td>\n",
       "      <td>63.551712</td>\n",
       "      <td>7.670029</td>\n",
       "    </tr>\n",
       "    <tr>\n",
       "      <th>7559</th>\n",
       "      <td>63.264096</td>\n",
       "      <td>15.968998</td>\n",
       "      <td>11.686074</td>\n",
       "      <td>15.522309</td>\n",
       "      <td>53.461396</td>\n",
       "      <td>28.968301</td>\n",
       "      <td>15.842346</td>\n",
       "      <td>53.514174</td>\n",
       "      <td>26.467403</td>\n",
       "      <td>29.809024</td>\n",
       "      <td>...</td>\n",
       "      <td>16.776454</td>\n",
       "      <td>7.591287</td>\n",
       "      <td>26.007840</td>\n",
       "      <td>74.582411</td>\n",
       "      <td>9.534032</td>\n",
       "      <td>30.036716</td>\n",
       "      <td>14.757433</td>\n",
       "      <td>36.609566</td>\n",
       "      <td>63.540230</td>\n",
       "      <td>7.646200</td>\n",
       "    </tr>\n",
       "    <tr>\n",
       "      <th>7560</th>\n",
       "      <td>63.802730</td>\n",
       "      <td>16.296815</td>\n",
       "      <td>11.789353</td>\n",
       "      <td>15.370827</td>\n",
       "      <td>54.110507</td>\n",
       "      <td>29.050768</td>\n",
       "      <td>15.784691</td>\n",
       "      <td>53.563621</td>\n",
       "      <td>26.791468</td>\n",
       "      <td>30.089529</td>\n",
       "      <td>...</td>\n",
       "      <td>16.800602</td>\n",
       "      <td>7.512662</td>\n",
       "      <td>26.042133</td>\n",
       "      <td>74.026502</td>\n",
       "      <td>9.365038</td>\n",
       "      <td>30.250831</td>\n",
       "      <td>14.876909</td>\n",
       "      <td>36.454854</td>\n",
       "      <td>63.551092</td>\n",
       "      <td>7.545225</td>\n",
       "    </tr>\n",
       "  </tbody>\n",
       "</table>\n",
       "<p>7561 rows × 500 columns</p>\n",
       "</div>"
      ],
      "text/plain": [
       "            0          1          2          3          4          5    \\\n",
       "0      1.000000   1.000000   1.000000   1.000000   1.000000   1.000000   \n",
       "1      1.004488   0.999742   0.997338   0.990442   1.002315   1.001549   \n",
       "2      1.009676   0.999254   0.993675   0.992902   1.011124   1.013735   \n",
       "3      1.014362   1.000247   0.986351   1.003170   1.029429   1.001564   \n",
       "4      1.008609   0.996577   0.989547   1.006278   1.030503   0.989004   \n",
       "...         ...        ...        ...        ...        ...        ...   \n",
       "7556  62.724926  15.652184  11.605306  15.934698  53.028535  29.316531   \n",
       "7557  62.935714  15.666469  11.692388  15.854530  53.297605  29.095489   \n",
       "7558  63.550241  15.852304  11.681150  15.422182  53.134424  29.019092   \n",
       "7559  63.264096  15.968998  11.686074  15.522309  53.461396  28.968301   \n",
       "7560  63.802730  16.296815  11.789353  15.370827  54.110507  29.050768   \n",
       "\n",
       "            6          7          8          9    ...        490       491  \\\n",
       "0      1.000000   1.000000   1.000000   1.000000  ...   1.000000  1.000000   \n",
       "1      1.007803   0.988234   1.002208   0.997339  ...   0.999461  0.999313   \n",
       "2      1.003103   0.991356   1.008997   1.000436  ...   1.004542  1.002202   \n",
       "3      0.995660   0.999689   1.018135   1.003707  ...   0.994457  1.019513   \n",
       "4      0.993043   1.006216   1.028184   1.008490  ...   1.005751  1.027363   \n",
       "...         ...        ...        ...        ...  ...        ...       ...   \n",
       "7556  15.893055  52.797246  26.657010  30.232818  ...  16.814439  7.492109   \n",
       "7557  15.977642  53.467044  26.605633  30.173432  ...  16.869461  7.527897   \n",
       "7558  15.851032  53.884646  26.575283  30.019981  ...  16.864923  7.523292   \n",
       "7559  15.842346  53.514174  26.467403  29.809024  ...  16.776454  7.591287   \n",
       "7560  15.784691  53.563621  26.791468  30.089529  ...  16.800602  7.512662   \n",
       "\n",
       "            492        493       494        495        496        497  \\\n",
       "0      1.000000   1.000000  1.000000   1.000000   1.000000   1.000000   \n",
       "1      1.013354   1.008048  0.996509   0.981400   1.003502   0.997353   \n",
       "2      1.031843   1.002573  0.995212   0.975544   0.993466   0.997053   \n",
       "3      1.036077   1.008460  1.012470   0.966554   0.981001   0.990111   \n",
       "4      1.050286   1.007819  0.999718   0.973578   0.978142   0.996195   \n",
       "...         ...        ...       ...        ...        ...        ...   \n",
       "7556  26.200214  74.489778  9.494444  29.420331  14.906534  36.572615   \n",
       "7557  26.009233  74.898178  9.563738  29.581814  14.794279  36.747725   \n",
       "7558  25.938453  74.505770  9.444899  29.863317  14.851547  36.893260   \n",
       "7559  26.007840  74.582411  9.534032  30.036716  14.757433  36.609566   \n",
       "7560  26.042133  74.026502  9.365038  30.250831  14.876909  36.454854   \n",
       "\n",
       "            498       499  \n",
       "0      1.000000  1.000000  \n",
       "1      0.992814  1.002760  \n",
       "2      1.003994  0.996573  \n",
       "3      1.010178  1.005553  \n",
       "4      1.007877  1.003932  \n",
       "...         ...       ...  \n",
       "7556  64.149227  7.569005  \n",
       "7557  63.941180  7.658502  \n",
       "7558  63.551712  7.670029  \n",
       "7559  63.540230  7.646200  \n",
       "7560  63.551092  7.545225  \n",
       "\n",
       "[7561 rows x 500 columns]"
      ]
     },
     "execution_count": 31,
     "metadata": {},
     "output_type": "execute_result"
    }
   ],
   "source": [
    "# Run the Monte Carlo simulation to forecast 30 years cumulative returns\n",
    "# YOUR CODE HERE\n",
    "MC_even_weight.calc_cumulative_return()"
   ]
  },
  {
   "cell_type": "code",
   "execution_count": 32,
   "metadata": {},
   "outputs": [
    {
     "data": {
      "image/png": "[encoded data removed]",
      "text/plain": [
       "<Figure size 432x288 with 1 Axes>"
      ]
     },
     "metadata": {
      "needs_background": "light"
     },
     "output_type": "display_data"
    }
   ],
   "source": [
    "# Visualize the 30-year Monte Carlo simulation by creating an\n",
    "# overlay line plot\n",
    "# YOUR CODE HERE\n",
    "even_weight_line_plot = MC_even_weight.plot_simulation()"
   ]
  },
  {
   "cell_type": "markdown",
   "metadata": {},
   "source": [
    "#### Step 3: Plot the probability distribution of the Monte Carlo simulation."
   ]
  },
  {
   "cell_type": "code",
   "execution_count": 33,
   "metadata": {},
   "outputs": [
    {
     "data": {
      "image/png": "[encoded data removed]",
      "text/plain": [
       "<Figure size 432x288 with 1 Axes>"
      ]
     },
     "metadata": {
      "needs_background": "light"
     },
     "output_type": "display_data"
    }
   ],
   "source": [
    "# Visualize the probability distribution of the 30-year Monte Carlo simulation \n",
    "# by plotting a histogram\n",
    "# YOUR CODE HERE\n",
    "even_weight_distribution_plot = MC_even_weight.plot_distribution()"
   ]
  },
  {
   "cell_type": "markdown",
   "metadata": {},
   "source": [
    "#### Step 4: Generate the summary statistics for the Monte Carlo simulation."
   ]
  },
  {
   "cell_type": "code",
   "execution_count": 34,
   "metadata": {},
   "outputs": [
    {
     "name": "stdout",
     "output_type": "stream",
     "text": [
      "count           500.000000\n",
      "mean             35.084039\n",
      "std              29.108023\n",
      "min               1.811833\n",
      "25%              15.589509\n",
      "50%              27.521244\n",
      "75%              43.801491\n",
      "max             192.029500\n",
      "95% CI Lower      5.975213\n",
      "95% CI Upper    119.087229\n",
      "Name: 7560, dtype: float64\n"
     ]
    }
   ],
   "source": [
    "# Generate summary statistics from the 30-year Monte Carlo simulation results\n",
    "# Save the results as a variable\n",
    "# YOUR CODE HERE\n",
    "even_weight_table = MC_even_weight.summarize_cumulative_return()\n",
    "\n",
    "\n",
    "# Review the 30-year Monte Carlo summary statistics\n",
    "# YOUR CODE HERE\n",
    "print(even_weight_table)"
   ]
  },
  {
   "cell_type": "markdown",
   "metadata": {},
   "source": [
    "### Analyze the Retirement Portfolio Forecasts\n",
    "\n",
    "Using the current value of only the stock and bond portion of the member's portfolio and the summary statistics that you generated from the Monte Carlo simulation, answer the following question in your Jupyter notebook:\n",
    "\n",
    "-  What are the lower and upper bounds for the expected value of the portfolio with a 95% confidence interval?\n"
   ]
  },
  {
   "cell_type": "code",
   "execution_count": 35,
   "metadata": {},
   "outputs": [
    {
     "name": "stdout",
     "output_type": "stream",
     "text": [
      "The current balance of the stock and bond portion is $71472.3\n"
     ]
    }
   ],
   "source": [
    "# Print the current balance of the stock and bond portion of the members portfolio\n",
    "# YOUR CODE HERE\n",
    "print(f\"The current balance of the stock and bond portion is ${total_stocks_bonds_value}\")"
   ]
  },
  {
   "cell_type": "code",
   "execution_count": 36,
   "metadata": {},
   "outputs": [
    {
     "name": "stdout",
     "output_type": "stream",
     "text": [
      "427062.21\n",
      "8511438.19\n"
     ]
    }
   ],
   "source": [
    "# Use the lower and upper `95%` confidence intervals to calculate the range of the possible outcomes for the current stock/bond portfolio\n",
    "# YOUR CODE HERE\n",
    "ci_lower_thirty_cumulative_return = round(even_weight_table[8]*total_stocks_bonds_value,2)\n",
    "ci_upper_thirty_cumulative_return = round(even_weight_table[9]*total_stocks_bonds_value,2)\n",
    "\n",
    "# Print the result of your calculations\n",
    "# YOUR CODE HERE\n",
    "print(ci_lower_thirty_cumulative_return)\n",
    "print(ci_upper_thirty_cumulative_return)"
   ]
  },
  {
   "cell_type": "markdown",
   "metadata": {},
   "source": [
    "### Forecast Cumulative Returns in 10 Years\n",
    "\n",
    "The CTO of the credit union is impressed with your work on these planning tools but wonders if 30 years is a long time to wait until retirement. So, your next task is to adjust the retirement portfolio and run a new Monte Carlo simulation to find out if the changes will allow members to retire earlier.\n",
    "\n",
    "For this new Monte Carlo simulation, do the following: \n",
    "\n",
    "- Forecast the cumulative returns for 10 years from now. Because of the shortened investment horizon (30 years to 10 years), the portfolio needs to invest more heavily in the riskier asset&mdash;that is, stock&mdash;to help accumulate wealth for retirement. \n",
    "\n",
    "- Adjust the weights of the retirement portfolio so that the composition for the Monte Carlo simulation consists of 20% bonds and 80% stocks. \n",
    "\n",
    "- Run the simulation over 500 samples, and use the same data that the API call to Alpaca generated.\n",
    "\n",
    "- Based on the new Monte Carlo simulation, answer the following questions in your Jupyter notebook:\n",
    "\n",
    "    - Using the current value of only the stock and bond portion of the member's portfolio and the summary statistics that you generated from the new Monte Carlo simulation, what are the lower and upper bounds for the expected value of the portfolio (with the new weights) with a 95% confidence interval?\n",
    "\n",
    "    - Will weighting the portfolio more heavily toward stocks allow the credit union members to retire after only 10 years?\n"
   ]
  },
  {
   "cell_type": "code",
   "execution_count": 37,
   "metadata": {},
   "outputs": [
    {
     "data": {
      "text/html": [
       "<div>\n",
       "<style scoped>\n",
       "    .dataframe tbody tr th:only-of-type {\n",
       "        vertical-align: middle;\n",
       "    }\n",
       "\n",
       "    .dataframe tbody tr th {\n",
       "        vertical-align: top;\n",
       "    }\n",
       "\n",
       "    .dataframe thead tr th {\n",
       "        text-align: left;\n",
       "    }\n",
       "\n",
       "    .dataframe thead tr:last-of-type th {\n",
       "        text-align: right;\n",
       "    }\n",
       "</style>\n",
       "<table border=\"1\" class=\"dataframe\">\n",
       "  <thead>\n",
       "    <tr>\n",
       "      <th></th>\n",
       "      <th colspan=\"6\" halign=\"left\">AGG</th>\n",
       "      <th colspan=\"6\" halign=\"left\">SPY</th>\n",
       "    </tr>\n",
       "    <tr>\n",
       "      <th></th>\n",
       "      <th>open</th>\n",
       "      <th>high</th>\n",
       "      <th>low</th>\n",
       "      <th>close</th>\n",
       "      <th>volume</th>\n",
       "      <th>daily_return</th>\n",
       "      <th>open</th>\n",
       "      <th>high</th>\n",
       "      <th>low</th>\n",
       "      <th>close</th>\n",
       "      <th>volume</th>\n",
       "      <th>daily_return</th>\n",
       "    </tr>\n",
       "    <tr>\n",
       "      <th>time</th>\n",
       "      <th></th>\n",
       "      <th></th>\n",
       "      <th></th>\n",
       "      <th></th>\n",
       "      <th></th>\n",
       "      <th></th>\n",
       "      <th></th>\n",
       "      <th></th>\n",
       "      <th></th>\n",
       "      <th></th>\n",
       "      <th></th>\n",
       "      <th></th>\n",
       "    </tr>\n",
       "  </thead>\n",
       "  <tbody>\n",
       "    <tr>\n",
       "      <th>2022-01-31 00:00:00-05:00</th>\n",
       "      <td>111.64</td>\n",
       "      <td>111.8900</td>\n",
       "      <td>111.6000</td>\n",
       "      <td>111.78</td>\n",
       "      <td>11437834</td>\n",
       "      <td>-0.000268</td>\n",
       "      <td>441.24</td>\n",
       "      <td>450.28</td>\n",
       "      <td>439.8100</td>\n",
       "      <td>449.815</td>\n",
       "      <td>128202383</td>\n",
       "      <td>0.017865</td>\n",
       "    </tr>\n",
       "    <tr>\n",
       "      <th>2022-02-01 00:00:00-05:00</th>\n",
       "      <td>111.66</td>\n",
       "      <td>111.6764</td>\n",
       "      <td>111.3800</td>\n",
       "      <td>111.59</td>\n",
       "      <td>9477222</td>\n",
       "      <td>-0.001700</td>\n",
       "      <td>450.72</td>\n",
       "      <td>453.63</td>\n",
       "      <td>446.9384</td>\n",
       "      <td>452.960</td>\n",
       "      <td>106515279</td>\n",
       "      <td>0.006992</td>\n",
       "    </tr>\n",
       "    <tr>\n",
       "      <th>2022-02-02 00:00:00-05:00</th>\n",
       "      <td>111.70</td>\n",
       "      <td>111.9700</td>\n",
       "      <td>111.6744</td>\n",
       "      <td>111.72</td>\n",
       "      <td>7424696</td>\n",
       "      <td>0.001165</td>\n",
       "      <td>455.50</td>\n",
       "      <td>458.12</td>\n",
       "      <td>453.0500</td>\n",
       "      <td>457.300</td>\n",
       "      <td>97807976</td>\n",
       "      <td>0.009581</td>\n",
       "    </tr>\n",
       "    <tr>\n",
       "      <th>2022-02-03 00:00:00-05:00</th>\n",
       "      <td>111.26</td>\n",
       "      <td>111.3700</td>\n",
       "      <td>111.1300</td>\n",
       "      <td>111.27</td>\n",
       "      <td>9480330</td>\n",
       "      <td>-0.004028</td>\n",
       "      <td>450.95</td>\n",
       "      <td>452.97</td>\n",
       "      <td>445.7100</td>\n",
       "      <td>446.640</td>\n",
       "      <td>99110054</td>\n",
       "      <td>-0.023311</td>\n",
       "    </tr>\n",
       "    <tr>\n",
       "      <th>2022-02-04 00:00:00-05:00</th>\n",
       "      <td>110.75</td>\n",
       "      <td>110.7500</td>\n",
       "      <td>110.4707</td>\n",
       "      <td>110.56</td>\n",
       "      <td>6762828</td>\n",
       "      <td>-0.006381</td>\n",
       "      <td>446.35</td>\n",
       "      <td>452.78</td>\n",
       "      <td>443.8300</td>\n",
       "      <td>448.730</td>\n",
       "      <td>98775229</td>\n",
       "      <td>0.004679</td>\n",
       "    </tr>\n",
       "  </tbody>\n",
       "</table>\n",
       "</div>"
      ],
      "text/plain": [
       "                              AGG                                        \\\n",
       "                             open      high       low   close    volume   \n",
       "time                                                                      \n",
       "2022-01-31 00:00:00-05:00  111.64  111.8900  111.6000  111.78  11437834   \n",
       "2022-02-01 00:00:00-05:00  111.66  111.6764  111.3800  111.59   9477222   \n",
       "2022-02-02 00:00:00-05:00  111.70  111.9700  111.6744  111.72   7424696   \n",
       "2022-02-03 00:00:00-05:00  111.26  111.3700  111.1300  111.27   9480330   \n",
       "2022-02-04 00:00:00-05:00  110.75  110.7500  110.4707  110.56   6762828   \n",
       "\n",
       "                                           SPY                             \\\n",
       "                          daily_return    open    high       low    close   \n",
       "time                                                                        \n",
       "2022-01-31 00:00:00-05:00    -0.000268  441.24  450.28  439.8100  449.815   \n",
       "2022-02-01 00:00:00-05:00    -0.001700  450.72  453.63  446.9384  452.960   \n",
       "2022-02-02 00:00:00-05:00     0.001165  455.50  458.12  453.0500  457.300   \n",
       "2022-02-03 00:00:00-05:00    -0.004028  450.95  452.97  445.7100  446.640   \n",
       "2022-02-04 00:00:00-05:00    -0.006381  446.35  452.78  443.8300  448.730   \n",
       "\n",
       "                                                   \n",
       "                              volume daily_return  \n",
       "time                                               \n",
       "2022-01-31 00:00:00-05:00  128202383     0.017865  \n",
       "2022-02-01 00:00:00-05:00  106515279     0.006992  \n",
       "2022-02-02 00:00:00-05:00   97807976     0.009581  \n",
       "2022-02-03 00:00:00-05:00   99110054    -0.023311  \n",
       "2022-02-04 00:00:00-05:00   98775229     0.004679  "
      ]
     },
     "execution_count": 37,
     "metadata": {},
     "output_type": "execute_result"
    }
   ],
   "source": [
    "# Configure a Monte Carlo simulation to forecast 10 years cumulative returns\n",
    "# The weights should be split 20% to AGG and 80% to SPY.\n",
    "# Run 500 samples.\n",
    "# YOUR CODE HERE\n",
    "MC_even_weight = MCSimulation(\n",
    "    portfolio_data = prices_df,\n",
    "    weights = [.20,.80,],\n",
    "    num_simulation = 500,\n",
    "    num_trading_days = 252*10\n",
    ")\n",
    "# Review the simulation input data\n",
    "# YOUR CODE HERE\n",
    "MC_even_weight.portfolio_data.tail()"
   ]
  },
  {
   "cell_type": "code",
   "execution_count": 38,
   "metadata": {},
   "outputs": [
    {
     "name": "stdout",
     "output_type": "stream",
     "text": [
      "Running Monte Carlo simulation number 0.\n",
      "Running Monte Carlo simulation number 10.\n",
      "Running Monte Carlo simulation number 20.\n",
      "Running Monte Carlo simulation number 30.\n",
      "Running Monte Carlo simulation number 40.\n",
      "Running Monte Carlo simulation number 50.\n",
      "Running Monte Carlo simulation number 60.\n",
      "Running Monte Carlo simulation number 70.\n",
      "Running Monte Carlo simulation number 80.\n",
      "Running Monte Carlo simulation number 90.\n",
      "Running Monte Carlo simulation number 100.\n",
      "Running Monte Carlo simulation number 110.\n",
      "Running Monte Carlo simulation number 120.\n",
      "Running Monte Carlo simulation number 130.\n",
      "Running Monte Carlo simulation number 140.\n",
      "Running Monte Carlo simulation number 150.\n",
      "Running Monte Carlo simulation number 160.\n",
      "Running Monte Carlo simulation number 170.\n",
      "Running Monte Carlo simulation number 180.\n",
      "Running Monte Carlo simulation number 190.\n",
      "Running Monte Carlo simulation number 200.\n",
      "Running Monte Carlo simulation number 210.\n",
      "Running Monte Carlo simulation number 220.\n",
      "Running Monte Carlo simulation number 230.\n",
      "Running Monte Carlo simulation number 240.\n",
      "Running Monte Carlo simulation number 250.\n",
      "Running Monte Carlo simulation number 260.\n",
      "Running Monte Carlo simulation number 270.\n",
      "Running Monte Carlo simulation number 280.\n",
      "Running Monte Carlo simulation number 290.\n",
      "Running Monte Carlo simulation number 300.\n",
      "Running Monte Carlo simulation number 310.\n",
      "Running Monte Carlo simulation number 320.\n",
      "Running Monte Carlo simulation number 330.\n",
      "Running Monte Carlo simulation number 340.\n",
      "Running Monte Carlo simulation number 350.\n",
      "Running Monte Carlo simulation number 360.\n",
      "Running Monte Carlo simulation number 370.\n",
      "Running Monte Carlo simulation number 380.\n",
      "Running Monte Carlo simulation number 390.\n",
      "Running Monte Carlo simulation number 400.\n",
      "Running Monte Carlo simulation number 410.\n",
      "Running Monte Carlo simulation number 420.\n",
      "Running Monte Carlo simulation number 430.\n",
      "Running Monte Carlo simulation number 440.\n",
      "Running Monte Carlo simulation number 450.\n",
      "Running Monte Carlo simulation number 460.\n",
      "Running Monte Carlo simulation number 470.\n",
      "Running Monte Carlo simulation number 480.\n",
      "Running Monte Carlo simulation number 490.\n"
     ]
    },
    {
     "data": {
      "text/html": [
       "<div>\n",
       "<style scoped>\n",
       "    .dataframe tbody tr th:only-of-type {\n",
       "        vertical-align: middle;\n",
       "    }\n",
       "\n",
       "    .dataframe tbody tr th {\n",
       "        vertical-align: top;\n",
       "    }\n",
       "\n",
       "    .dataframe thead th {\n",
       "        text-align: right;\n",
       "    }\n",
       "</style>\n",
       "<table border=\"1\" class=\"dataframe\">\n",
       "  <thead>\n",
       "    <tr style=\"text-align: right;\">\n",
       "      <th></th>\n",
       "      <th>0</th>\n",
       "      <th>1</th>\n",
       "      <th>2</th>\n",
       "      <th>3</th>\n",
       "      <th>4</th>\n",
       "      <th>5</th>\n",
       "      <th>6</th>\n",
       "      <th>7</th>\n",
       "      <th>8</th>\n",
       "      <th>9</th>\n",
       "      <th>...</th>\n",
       "      <th>490</th>\n",
       "      <th>491</th>\n",
       "      <th>492</th>\n",
       "      <th>493</th>\n",
       "      <th>494</th>\n",
       "      <th>495</th>\n",
       "      <th>496</th>\n",
       "      <th>497</th>\n",
       "      <th>498</th>\n",
       "      <th>499</th>\n",
       "    </tr>\n",
       "  </thead>\n",
       "  <tbody>\n",
       "    <tr>\n",
       "      <th>0</th>\n",
       "      <td>1.000000</td>\n",
       "      <td>1.000000</td>\n",
       "      <td>1.000000</td>\n",
       "      <td>1.000000</td>\n",
       "      <td>1.000000</td>\n",
       "      <td>1.000000</td>\n",
       "      <td>1.000000</td>\n",
       "      <td>1.000000</td>\n",
       "      <td>1.000000</td>\n",
       "      <td>1.000000</td>\n",
       "      <td>...</td>\n",
       "      <td>1.000000</td>\n",
       "      <td>1.000000</td>\n",
       "      <td>1.000000</td>\n",
       "      <td>1.000000</td>\n",
       "      <td>1.000000</td>\n",
       "      <td>1.000000</td>\n",
       "      <td>1.000000</td>\n",
       "      <td>1.000000</td>\n",
       "      <td>1.000000</td>\n",
       "      <td>1.000000</td>\n",
       "    </tr>\n",
       "    <tr>\n",
       "      <th>1</th>\n",
       "      <td>1.010633</td>\n",
       "      <td>0.991223</td>\n",
       "      <td>0.986831</td>\n",
       "      <td>1.015422</td>\n",
       "      <td>0.989708</td>\n",
       "      <td>1.005274</td>\n",
       "      <td>1.002050</td>\n",
       "      <td>0.994153</td>\n",
       "      <td>0.996980</td>\n",
       "      <td>1.009014</td>\n",
       "      <td>...</td>\n",
       "      <td>0.988263</td>\n",
       "      <td>0.985102</td>\n",
       "      <td>0.982017</td>\n",
       "      <td>0.992732</td>\n",
       "      <td>0.992202</td>\n",
       "      <td>0.987090</td>\n",
       "      <td>1.012875</td>\n",
       "      <td>0.999658</td>\n",
       "      <td>0.988054</td>\n",
       "      <td>0.987764</td>\n",
       "    </tr>\n",
       "    <tr>\n",
       "      <th>2</th>\n",
       "      <td>1.006907</td>\n",
       "      <td>0.994651</td>\n",
       "      <td>0.989906</td>\n",
       "      <td>1.025230</td>\n",
       "      <td>0.985452</td>\n",
       "      <td>0.997678</td>\n",
       "      <td>1.023537</td>\n",
       "      <td>1.001011</td>\n",
       "      <td>1.001861</td>\n",
       "      <td>1.010593</td>\n",
       "      <td>...</td>\n",
       "      <td>0.992768</td>\n",
       "      <td>0.988864</td>\n",
       "      <td>0.963855</td>\n",
       "      <td>0.993797</td>\n",
       "      <td>0.991575</td>\n",
       "      <td>0.992417</td>\n",
       "      <td>0.993577</td>\n",
       "      <td>1.003303</td>\n",
       "      <td>0.986666</td>\n",
       "      <td>0.979099</td>\n",
       "    </tr>\n",
       "    <tr>\n",
       "      <th>3</th>\n",
       "      <td>1.015731</td>\n",
       "      <td>0.986892</td>\n",
       "      <td>0.981249</td>\n",
       "      <td>1.039668</td>\n",
       "      <td>0.985006</td>\n",
       "      <td>0.975290</td>\n",
       "      <td>1.022907</td>\n",
       "      <td>1.008480</td>\n",
       "      <td>0.996583</td>\n",
       "      <td>1.010560</td>\n",
       "      <td>...</td>\n",
       "      <td>0.987444</td>\n",
       "      <td>0.976111</td>\n",
       "      <td>0.963686</td>\n",
       "      <td>0.992298</td>\n",
       "      <td>0.973163</td>\n",
       "      <td>0.990552</td>\n",
       "      <td>0.992951</td>\n",
       "      <td>1.000250</td>\n",
       "      <td>0.973184</td>\n",
       "      <td>0.978612</td>\n",
       "    </tr>\n",
       "    <tr>\n",
       "      <th>4</th>\n",
       "      <td>1.009644</td>\n",
       "      <td>0.994934</td>\n",
       "      <td>0.986574</td>\n",
       "      <td>1.044169</td>\n",
       "      <td>0.992120</td>\n",
       "      <td>0.978761</td>\n",
       "      <td>1.034083</td>\n",
       "      <td>1.018677</td>\n",
       "      <td>0.980491</td>\n",
       "      <td>0.994356</td>\n",
       "      <td>...</td>\n",
       "      <td>1.002827</td>\n",
       "      <td>0.999855</td>\n",
       "      <td>0.965441</td>\n",
       "      <td>0.988381</td>\n",
       "      <td>0.956501</td>\n",
       "      <td>0.996810</td>\n",
       "      <td>0.997472</td>\n",
       "      <td>0.984450</td>\n",
       "      <td>0.970608</td>\n",
       "      <td>0.967972</td>\n",
       "    </tr>\n",
       "    <tr>\n",
       "      <th>...</th>\n",
       "      <td>...</td>\n",
       "      <td>...</td>\n",
       "      <td>...</td>\n",
       "      <td>...</td>\n",
       "      <td>...</td>\n",
       "      <td>...</td>\n",
       "      <td>...</td>\n",
       "      <td>...</td>\n",
       "      <td>...</td>\n",
       "      <td>...</td>\n",
       "      <td>...</td>\n",
       "      <td>...</td>\n",
       "      <td>...</td>\n",
       "      <td>...</td>\n",
       "      <td>...</td>\n",
       "      <td>...</td>\n",
       "      <td>...</td>\n",
       "      <td>...</td>\n",
       "      <td>...</td>\n",
       "      <td>...</td>\n",
       "      <td>...</td>\n",
       "    </tr>\n",
       "    <tr>\n",
       "      <th>2516</th>\n",
       "      <td>5.572731</td>\n",
       "      <td>3.168296</td>\n",
       "      <td>7.674584</td>\n",
       "      <td>2.837500</td>\n",
       "      <td>3.241716</td>\n",
       "      <td>4.261239</td>\n",
       "      <td>5.750642</td>\n",
       "      <td>2.565631</td>\n",
       "      <td>1.846241</td>\n",
       "      <td>2.284660</td>\n",
       "      <td>...</td>\n",
       "      <td>2.057188</td>\n",
       "      <td>4.619919</td>\n",
       "      <td>2.836858</td>\n",
       "      <td>7.876862</td>\n",
       "      <td>1.913641</td>\n",
       "      <td>1.016664</td>\n",
       "      <td>1.606818</td>\n",
       "      <td>2.242826</td>\n",
       "      <td>0.933393</td>\n",
       "      <td>4.126083</td>\n",
       "    </tr>\n",
       "    <tr>\n",
       "      <th>2517</th>\n",
       "      <td>5.430450</td>\n",
       "      <td>3.163429</td>\n",
       "      <td>7.633014</td>\n",
       "      <td>2.812702</td>\n",
       "      <td>3.223682</td>\n",
       "      <td>4.265552</td>\n",
       "      <td>5.823578</td>\n",
       "      <td>2.542371</td>\n",
       "      <td>1.857884</td>\n",
       "      <td>2.275652</td>\n",
       "      <td>...</td>\n",
       "      <td>2.063113</td>\n",
       "      <td>4.666818</td>\n",
       "      <td>2.895061</td>\n",
       "      <td>7.746356</td>\n",
       "      <td>1.937138</td>\n",
       "      <td>1.017625</td>\n",
       "      <td>1.633025</td>\n",
       "      <td>2.252458</td>\n",
       "      <td>0.930612</td>\n",
       "      <td>4.114621</td>\n",
       "    </tr>\n",
       "    <tr>\n",
       "      <th>2518</th>\n",
       "      <td>5.373716</td>\n",
       "      <td>3.159604</td>\n",
       "      <td>7.675725</td>\n",
       "      <td>2.885086</td>\n",
       "      <td>3.241158</td>\n",
       "      <td>4.242866</td>\n",
       "      <td>5.746245</td>\n",
       "      <td>2.509126</td>\n",
       "      <td>1.859827</td>\n",
       "      <td>2.234074</td>\n",
       "      <td>...</td>\n",
       "      <td>2.084252</td>\n",
       "      <td>4.638383</td>\n",
       "      <td>2.896640</td>\n",
       "      <td>7.817077</td>\n",
       "      <td>1.987425</td>\n",
       "      <td>1.003950</td>\n",
       "      <td>1.634417</td>\n",
       "      <td>2.240791</td>\n",
       "      <td>0.925400</td>\n",
       "      <td>4.042555</td>\n",
       "    </tr>\n",
       "    <tr>\n",
       "      <th>2519</th>\n",
       "      <td>5.413421</td>\n",
       "      <td>3.112098</td>\n",
       "      <td>7.744767</td>\n",
       "      <td>2.924470</td>\n",
       "      <td>3.276191</td>\n",
       "      <td>4.319448</td>\n",
       "      <td>5.705975</td>\n",
       "      <td>2.519534</td>\n",
       "      <td>1.872961</td>\n",
       "      <td>2.230918</td>\n",
       "      <td>...</td>\n",
       "      <td>2.103516</td>\n",
       "      <td>4.630235</td>\n",
       "      <td>2.925398</td>\n",
       "      <td>7.676621</td>\n",
       "      <td>1.981578</td>\n",
       "      <td>1.003828</td>\n",
       "      <td>1.645448</td>\n",
       "      <td>2.251794</td>\n",
       "      <td>0.937024</td>\n",
       "      <td>4.039788</td>\n",
       "    </tr>\n",
       "    <tr>\n",
       "      <th>2520</th>\n",
       "      <td>5.388088</td>\n",
       "      <td>3.172463</td>\n",
       "      <td>7.849933</td>\n",
       "      <td>2.933472</td>\n",
       "      <td>3.254400</td>\n",
       "      <td>4.251753</td>\n",
       "      <td>5.732634</td>\n",
       "      <td>2.561548</td>\n",
       "      <td>1.862420</td>\n",
       "      <td>2.222110</td>\n",
       "      <td>...</td>\n",
       "      <td>2.094256</td>\n",
       "      <td>4.611840</td>\n",
       "      <td>2.962001</td>\n",
       "      <td>7.651310</td>\n",
       "      <td>1.965223</td>\n",
       "      <td>1.004184</td>\n",
       "      <td>1.643517</td>\n",
       "      <td>2.236674</td>\n",
       "      <td>0.943695</td>\n",
       "      <td>4.027142</td>\n",
       "    </tr>\n",
       "  </tbody>\n",
       "</table>\n",
       "<p>2521 rows × 500 columns</p>\n",
       "</div>"
      ],
      "text/plain": [
       "           0         1         2         3         4         5         6    \\\n",
       "0     1.000000  1.000000  1.000000  1.000000  1.000000  1.000000  1.000000   \n",
       "1     1.010633  0.991223  0.986831  1.015422  0.989708  1.005274  1.002050   \n",
       "2     1.006907  0.994651  0.989906  1.025230  0.985452  0.997678  1.023537   \n",
       "3     1.015731  0.986892  0.981249  1.039668  0.985006  0.975290  1.022907   \n",
       "4     1.009644  0.994934  0.986574  1.044169  0.992120  0.978761  1.034083   \n",
       "...        ...       ...       ...       ...       ...       ...       ...   \n",
       "2516  5.572731  3.168296  7.674584  2.837500  3.241716  4.261239  5.750642   \n",
       "2517  5.430450  3.163429  7.633014  2.812702  3.223682  4.265552  5.823578   \n",
       "2518  5.373716  3.159604  7.675725  2.885086  3.241158  4.242866  5.746245   \n",
       "2519  5.413421  3.112098  7.744767  2.924470  3.276191  4.319448  5.705975   \n",
       "2520  5.388088  3.172463  7.849933  2.933472  3.254400  4.251753  5.732634   \n",
       "\n",
       "           7         8         9    ...       490       491       492  \\\n",
       "0     1.000000  1.000000  1.000000  ...  1.000000  1.000000  1.000000   \n",
       "1     0.994153  0.996980  1.009014  ...  0.988263  0.985102  0.982017   \n",
       "2     1.001011  1.001861  1.010593  ...  0.992768  0.988864  0.963855   \n",
       "3     1.008480  0.996583  1.010560  ...  0.987444  0.976111  0.963686   \n",
       "4     1.018677  0.980491  0.994356  ...  1.002827  0.999855  0.965441   \n",
       "...        ...       ...       ...  ...       ...       ...       ...   \n",
       "2516  2.565631  1.846241  2.284660  ...  2.057188  4.619919  2.836858   \n",
       "2517  2.542371  1.857884  2.275652  ...  2.063113  4.666818  2.895061   \n",
       "2518  2.509126  1.859827  2.234074  ...  2.084252  4.638383  2.896640   \n",
       "2519  2.519534  1.872961  2.230918  ...  2.103516  4.630235  2.925398   \n",
       "2520  2.561548  1.862420  2.222110  ...  2.094256  4.611840  2.962001   \n",
       "\n",
       "           493       494       495       496       497       498       499  \n",
       "0     1.000000  1.000000  1.000000  1.000000  1.000000  1.000000  1.000000  \n",
       "1     0.992732  0.992202  0.987090  1.012875  0.999658  0.988054  0.987764  \n",
       "2     0.993797  0.991575  0.992417  0.993577  1.003303  0.986666  0.979099  \n",
       "3     0.992298  0.973163  0.990552  0.992951  1.000250  0.973184  0.978612  \n",
       "4     0.988381  0.956501  0.996810  0.997472  0.984450  0.970608  0.967972  \n",
       "...        ...       ...       ...       ...       ...       ...       ...  \n",
       "2516  7.876862  1.913641  1.016664  1.606818  2.242826  0.933393  4.126083  \n",
       "2517  7.746356  1.937138  1.017625  1.633025  2.252458  0.930612  4.114621  \n",
       "2518  7.817077  1.987425  1.003950  1.634417  2.240791  0.925400  4.042555  \n",
       "2519  7.676621  1.981578  1.003828  1.645448  2.251794  0.937024  4.039788  \n",
       "2520  7.651310  1.965223  1.004184  1.643517  2.236674  0.943695  4.027142  \n",
       "\n",
       "[2521 rows x 500 columns]"
      ]
     },
     "execution_count": 38,
     "metadata": {},
     "output_type": "execute_result"
    }
   ],
   "source": [
    "# Run the Monte Carlo simulation to forecast 10 years cumulative returns\n",
    "# YOUR CODE HERE\n",
    "MC_even_weight.calc_cumulative_return()"
   ]
  },
  {
   "cell_type": "code",
   "execution_count": 39,
   "metadata": {},
   "outputs": [
    {
     "data": {
      "image/png": "[encoded data removed]",
      "text/plain": [
       "<Figure size 432x288 with 1 Axes>"
      ]
     },
     "metadata": {
      "needs_background": "light"
     },
     "output_type": "display_data"
    }
   ],
   "source": [
    "# Visualize the 10-year Monte Carlo simulation by creating an\n",
    "# overlay line plot\n",
    "# YOUR CODE HERE\n",
    "even_weight_line_plot = MC_even_weight.plot_simulation()"
   ]
  },
  {
   "cell_type": "code",
   "execution_count": 40,
   "metadata": {},
   "outputs": [
    {
     "data": {
      "image/png": "[encoded data removed]",
      "text/plain": [
       "<Figure size 432x288 with 1 Axes>"
      ]
     },
     "metadata": {
      "needs_background": "light"
     },
     "output_type": "display_data"
    }
   ],
   "source": [
    "# Visualize the probability distribution of the 10-year Monte Carlo simulation \n",
    "# by plotting a histogram\n",
    "# YOUR CODE HERE\n",
    "even_weight_distribution_plot = MC_even_weight.plot_distribution()"
   ]
  },
  {
   "cell_type": "code",
   "execution_count": 41,
   "metadata": {},
   "outputs": [
    {
     "data": {
      "text/plain": [
       "count           500.000000\n",
       "mean              4.649231\n",
       "std               2.812117\n",
       "min               0.943695\n",
       "25%               2.643731\n",
       "50%               3.973353\n",
       "75%               5.630449\n",
       "max              21.000164\n",
       "95% CI Lower      1.310967\n",
       "95% CI Upper     11.770877\n",
       "Name: 2520, dtype: float64"
      ]
     },
     "execution_count": 41,
     "metadata": {},
     "output_type": "execute_result"
    }
   ],
   "source": [
    "# Generate summary statistics from the 10-year Monte Carlo simulation results\n",
    "# Save the results as a variable\n",
    "# YOUR CODE HERE\n",
    "even_weight_table = MC_even_weight.summarize_cumulative_return()\n",
    "\n",
    "# Review the 10-year Monte Carlo summary statistics\n",
    "# YOUR CODE HERE\n",
    "even_weight_table"
   ]
  },
  {
   "cell_type": "markdown",
   "metadata": {},
   "source": [
    "### Answer the following questions:"
   ]
  },
  {
   "cell_type": "markdown",
   "metadata": {},
   "source": [
    "#### Question: Using the current value of only the stock and bond portion of the member's portfolio and the summary statistics that you generated from the new Monte Carlo simulation, what are the lower and upper bounds for the expected value of the portfolio (with the new weights) with a 95% confidence interval?"
   ]
  },
  {
   "cell_type": "code",
   "execution_count": 42,
   "metadata": {},
   "outputs": [
    {
     "name": "stdout",
     "output_type": "stream",
     "text": [
      "The current balance of the stock and bond portion is $71472.3\n"
     ]
    }
   ],
   "source": [
    "# Print the current balance of the stock and bond portion of the members portfolio\n",
    "# YOUR CODE HERE\n",
    "print(f\"The current balance of the stock and bond portion is ${total_stocks_bonds_value}\")"
   ]
  },
  {
   "cell_type": "code",
   "execution_count": 43,
   "metadata": {},
   "outputs": [
    {
     "name": "stdout",
     "output_type": "stream",
     "text": [
      "93697.79\n",
      "841291.68\n"
     ]
    }
   ],
   "source": [
    "# Use the lower and upper `95%` confidence intervals to calculate the range of the possible outcomes for the current stock/bond portfolio\n",
    "ci_lower_ten_cumulative_return = round(even_weight_table[8]*total_stocks_bonds_value,2)\n",
    "ci_upper_ten_cumulative_return = round(even_weight_table[9]*total_stocks_bonds_value,2)\n",
    "\n",
    "# Print the result of your calculations\n",
    "# YOUR CODE HERE\n",
    "print(ci_lower_ten_cumulative_return)\n",
    "print(ci_upper_ten_cumulative_return)"
   ]
  },
  {
   "cell_type": "markdown",
   "metadata": {},
   "source": [
    "#### Question: Will weighting the portfolio more heavily to stocks allow the credit union members to retire after only 10 years?"
   ]
  },
  {
   "cell_type": "code",
   "execution_count": 44,
   "metadata": {},
   "outputs": [
    {
     "ename": "SyntaxError",
     "evalue": "invalid syntax (<ipython-input-44-7976b4c4cc86>, line 1)",
     "output_type": "error",
     "traceback": [
      "\u001b[1;36m  File \u001b[1;32m\"<ipython-input-44-7976b4c4cc86>\"\u001b[1;36m, line \u001b[1;32m1\u001b[0m\n\u001b[1;33m    Although putting more weight on stock and less on bonds will produce a better result to the investors, but looking at the results, the upper cumulative return looks promising, but the lower cumulative return was not. To get better look, I would suggest to try also a 40/60 (bond/stock) for 10 years and see what the output comes up with.\u001b[0m\n\u001b[1;37m             ^\u001b[0m\n\u001b[1;31mSyntaxError\u001b[0m\u001b[1;31m:\u001b[0m invalid syntax\n"
     ]
    }
   ],
   "source": [
    "Although putting more weight on stock and less on bonds will produce a better result to the investors, but looking at the results, the upper cumulative return looks promising, but the lower cumulative return was not. To get better look, I would suggest to try also a 40/60 (bond/stock) for 10 years and see what the output comes up with."
   ]
  }
 ],
 "metadata": {
  "kernelspec": {
   "display_name": "Python 3",
   "language": "python",
   "name": "python3"
  },
  "language_info": {
   "codemirror_mode": {
    "name": "ipython",
    "version": 3
   },
   "file_extension": ".py",
   "mimetype": "text/x-python",
   "name": "python",
   "nbconvert_exporter": "python",
   "pygments_lexer": "ipython3",
   "version": "3.8.8"
  }
 },
 "nbformat": 4,
 "nbformat_minor": 4
}
